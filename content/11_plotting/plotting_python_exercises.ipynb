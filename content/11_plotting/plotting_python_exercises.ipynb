{
 "cells": [
  {
   "cell_type": "markdown",
   "source": [
    "# Python exercises: Plotting"
   ],
   "metadata": {
    "collapsed": false
   }
  },
  {
   "cell_type": "markdown",
   "source": [
    "During the exercises in the dataframes module you learned how to import a dataset, and how to look at the dataframe from multiple angles. In the python lessons for this module you learned that you can use matplotlib in three different ways. From \"quick-and-rigid\" to \"slow-but-flexible\", these are:\n",
    "(1) Seaborn plotting\n",
    "(2) Pyplot procedural plotting\n",
    "(3) Object-oriented plotting\n",
    "\n",
    "## Exercise 1\n",
    "Pick a dataset whereby something changes over time (e.g. the [dataset on global CO2 and greenhouse emission](https://github.com/owid/co2-data)). Using a seaborn lineplot, plot the change over time. Add a title, an x-label, a y-label and a legend (if suitable)."
   ],
   "metadata": {
    "collapsed": false
   }
  },
  {
   "cell_type": "code",
   "execution_count": null,
   "outputs": [],
   "source": [
    "import seaborn as sns\n",
    "\n",
    "# your answer here"
   ],
   "metadata": {
    "collapsed": false
   }
  },
  {
   "cell_type": "markdown",
   "source": [
    "## Exercise 2\n",
    "Now, make the same plot using the pyplot procedural plotting approach.\n",
    "\n",
    "> **Hint**: [This youtube video](https://www.youtube.com/watch?v=_LWjaAiKaf8&ab_channel=CoreySchafer) could be of help, as well as [this tutorial](https://machinelearningmastery.com/time-series-data-visualization-with-python/)."
   ],
   "metadata": {
    "collapsed": false
   }
  },
  {
   "cell_type": "code",
   "execution_count": null,
   "outputs": [],
   "source": [
    "import matplotlib.pyplot as plt\n",
    "\n",
    "\n",
    "# your answer here"
   ],
   "metadata": {
    "collapsed": false
   }
  },
  {
   "cell_type": "markdown",
   "source": [
    "## Exercise 3\n",
    "Yes, you guessed it: now plot the same plot using the object-oriented approach\n",
    "\n",
    "> **Hint:** [This tutorial](https://www.python-graph-gallery.com/basic-time-series-with-matplotlib) is useful for this approach"
   ],
   "metadata": {
    "collapsed": false
   }
  },
  {
   "cell_type": "code",
   "execution_count": null,
   "outputs": [],
   "source": [
    "import matplotlib as plt\n",
    "\n",
    "# your answer here"
   ],
   "metadata": {
    "collapsed": false
   }
  }
 ],
 "metadata": {
  "kernelspec": {
   "display_name": "Python 3",
   "language": "python",
   "name": "python3"
  },
  "language_info": {
   "codemirror_mode": {
    "name": "ipython",
    "version": 2
   },
   "file_extension": ".py",
   "mimetype": "text/x-python",
   "name": "python",
   "nbconvert_exporter": "python",
   "pygments_lexer": "ipython2",
   "version": "2.7.6"
  }
 },
 "nbformat": 4,
 "nbformat_minor": 0
}
