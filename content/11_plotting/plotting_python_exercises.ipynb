{
 "cells": [
  {
   "cell_type": "markdown",
   "source": [
    "# Python exercises: Plotting"
   ],
   "metadata": {
    "collapsed": false
   }
  },
  {
   "cell_type": "markdown",
   "source": [
    "During the exercises in the dataframes module you learned how to import a dataset, and how to look at the dataframe from multiple angles. In the python lessons for this module you learned that you can use matplotlib in three different ways. From \"quick-and-rigid\" to \"slow-but-flexible\", these are:\n",
    "(1) Seaborn plotting\n",
    "(2) Pyplot procedural plotting\n",
    "(3) Object-oriented plotting\n",
    "\n",
    "## Exercise 1: Seaborn plotting\n",
    "Load in the same dataframe as you used in dataframe_exercises:\n",
    "https://raw.githubusercontent.com/JeshuaT/Experimentation1/main/content/10_dataframes/data/subject-3.csv\n",
    "\n",
    "Now, using seaborn, make a bar plot of the response time of each value in 'congruency'. Give the plot a title. Which value has the highest response times?"
   ],
   "metadata": {
    "collapsed": false
   },
   "outputs": []
  },
  {
   "cell_type": "code",
   "execution_count": 1,
   "outputs": [
    {
     "data": {
      "text/plain": "     EEG  ET        acc   accuracy  average_response_time       avg_rt  \\\n0      1   1   0.000000   0.000000            1482.973800  1482.973800   \n1      1   1  50.000000  50.000000            1094.839750  1094.839750   \n2      1   1  66.666667  66.666667            1015.096667  1015.096667   \n3      1   1  75.000000  75.000000             978.296175   978.296175   \n4      1   1  80.000000  80.000000             998.425180   998.425180   \n..   ...  ..        ...        ...                    ...          ...   \n471    1   1  88.376754  88.376754            1318.838178  1318.838178   \n472    1   1  88.400000  88.400000            1317.701931  1317.701931   \n473    1   1  88.423154  88.423154            1316.281035  1316.281035   \n474    1   1  88.446215  88.446215            1314.970419  1314.970419   \n475    1   1  88.469185  88.469185            1314.683920  1314.683920   \n\n    background  baseline_measurement bidi  block  ...  \\\n0      #ABACB0                     1  yes      1  ...   \n1      #ABACB0                     1  yes      1  ...   \n2      #ABACB0                     1  yes      1  ...   \n3      #ABACB0                     1  yes      1  ...   \n4      #ABACB0                     1  yes      1  ...   \n..         ...                   ...  ...    ...  ...   \n471    #ABACB0                     1  yes     12  ...   \n472    #ABACB0                     1  yes     12  ...   \n473    #ABACB0                     1  yes     12  ...   \n474    #ABACB0                     1  yes     12  ...   \n475    #ABACB0                     1  yes     12  ...   \n\n     time_trial_sequence_prac_paritymagnitude time_white_baseline  \\\n0                                 3577208.209        3.666284e+06   \n1                                 3577208.209        3.666284e+06   \n2                                 3577208.209        3.666284e+06   \n3                                 3577208.209        3.666284e+06   \n4                                 3577208.209        3.666284e+06   \n..                                        ...                 ...   \n471                               3577208.209        3.666284e+06   \n472                               3577208.209        3.666284e+06   \n473                               3577208.209        3.666284e+06   \n474                               3577208.209        3.666284e+06   \n475                               3577208.209        3.666284e+06   \n\n    time_wrong_response_feedback                                     title  \\\n0                   3.556749e+06  Parity-magnitude task with teufel colors   \n1                   3.556749e+06  Parity-magnitude task with teufel colors   \n2                   3.556749e+06  Parity-magnitude task with teufel colors   \n3                   3.556749e+06  Parity-magnitude task with teufel colors   \n4                   3.556749e+06  Parity-magnitude task with teufel colors   \n..                           ...                                       ...   \n471                 3.556749e+06  Parity-magnitude task with teufel colors   \n472                 3.556749e+06  Parity-magnitude task with teufel colors   \n473                 3.556749e+06  Parity-magnitude task with teufel colors   \n474                 3.556749e+06  Parity-magnitude task with teufel colors   \n475                 3.556749e+06  Parity-magnitude task with teufel colors   \n\n     total_correct total_response_time total_responses trialnr  \\\n0                0           1482.9738               1       1   \n1                1           2189.6795               2       2   \n2                2           3045.2900               3       3   \n3                3           3913.1847               4       4   \n4                4           4992.1259               5       5   \n..             ...                 ...             ...     ...   \n471            441         658100.2508             499      61   \n472            442         658850.9655             500      62   \n473            443         659456.7987             501      63   \n474            444         660115.1502             502      64   \n475            445         661286.0120             503      65   \n\n     uniform_coordinates  width  \n0                    yes   1680  \n1                    yes   1680  \n2                    yes   1680  \n3                    yes   1680  \n4                    yes   1680  \n..                   ...    ...  \n471                  yes   1680  \n472                  yes   1680  \n473                  yes   1680  \n474                  yes   1680  \n475                  yes   1680  \n\n[476 rows x 347 columns]",
      "text/html": "<div>\n<style scoped>\n    .dataframe tbody tr th:only-of-type {\n        vertical-align: middle;\n    }\n\n    .dataframe tbody tr th {\n        vertical-align: top;\n    }\n\n    .dataframe thead th {\n        text-align: right;\n    }\n</style>\n<table border=\"1\" class=\"dataframe\">\n  <thead>\n    <tr style=\"text-align: right;\">\n      <th></th>\n      <th>EEG</th>\n      <th>ET</th>\n      <th>acc</th>\n      <th>accuracy</th>\n      <th>average_response_time</th>\n      <th>avg_rt</th>\n      <th>background</th>\n      <th>baseline_measurement</th>\n      <th>bidi</th>\n      <th>block</th>\n      <th>...</th>\n      <th>time_trial_sequence_prac_paritymagnitude</th>\n      <th>time_white_baseline</th>\n      <th>time_wrong_response_feedback</th>\n      <th>title</th>\n      <th>total_correct</th>\n      <th>total_response_time</th>\n      <th>total_responses</th>\n      <th>trialnr</th>\n      <th>uniform_coordinates</th>\n      <th>width</th>\n    </tr>\n  </thead>\n  <tbody>\n    <tr>\n      <th>0</th>\n      <td>1</td>\n      <td>1</td>\n      <td>0.000000</td>\n      <td>0.000000</td>\n      <td>1482.973800</td>\n      <td>1482.973800</td>\n      <td>#ABACB0</td>\n      <td>1</td>\n      <td>yes</td>\n      <td>1</td>\n      <td>...</td>\n      <td>3577208.209</td>\n      <td>3.666284e+06</td>\n      <td>3.556749e+06</td>\n      <td>Parity-magnitude task with teufel colors</td>\n      <td>0</td>\n      <td>1482.9738</td>\n      <td>1</td>\n      <td>1</td>\n      <td>yes</td>\n      <td>1680</td>\n    </tr>\n    <tr>\n      <th>1</th>\n      <td>1</td>\n      <td>1</td>\n      <td>50.000000</td>\n      <td>50.000000</td>\n      <td>1094.839750</td>\n      <td>1094.839750</td>\n      <td>#ABACB0</td>\n      <td>1</td>\n      <td>yes</td>\n      <td>1</td>\n      <td>...</td>\n      <td>3577208.209</td>\n      <td>3.666284e+06</td>\n      <td>3.556749e+06</td>\n      <td>Parity-magnitude task with teufel colors</td>\n      <td>1</td>\n      <td>2189.6795</td>\n      <td>2</td>\n      <td>2</td>\n      <td>yes</td>\n      <td>1680</td>\n    </tr>\n    <tr>\n      <th>2</th>\n      <td>1</td>\n      <td>1</td>\n      <td>66.666667</td>\n      <td>66.666667</td>\n      <td>1015.096667</td>\n      <td>1015.096667</td>\n      <td>#ABACB0</td>\n      <td>1</td>\n      <td>yes</td>\n      <td>1</td>\n      <td>...</td>\n      <td>3577208.209</td>\n      <td>3.666284e+06</td>\n      <td>3.556749e+06</td>\n      <td>Parity-magnitude task with teufel colors</td>\n      <td>2</td>\n      <td>3045.2900</td>\n      <td>3</td>\n      <td>3</td>\n      <td>yes</td>\n      <td>1680</td>\n    </tr>\n    <tr>\n      <th>3</th>\n      <td>1</td>\n      <td>1</td>\n      <td>75.000000</td>\n      <td>75.000000</td>\n      <td>978.296175</td>\n      <td>978.296175</td>\n      <td>#ABACB0</td>\n      <td>1</td>\n      <td>yes</td>\n      <td>1</td>\n      <td>...</td>\n      <td>3577208.209</td>\n      <td>3.666284e+06</td>\n      <td>3.556749e+06</td>\n      <td>Parity-magnitude task with teufel colors</td>\n      <td>3</td>\n      <td>3913.1847</td>\n      <td>4</td>\n      <td>4</td>\n      <td>yes</td>\n      <td>1680</td>\n    </tr>\n    <tr>\n      <th>4</th>\n      <td>1</td>\n      <td>1</td>\n      <td>80.000000</td>\n      <td>80.000000</td>\n      <td>998.425180</td>\n      <td>998.425180</td>\n      <td>#ABACB0</td>\n      <td>1</td>\n      <td>yes</td>\n      <td>1</td>\n      <td>...</td>\n      <td>3577208.209</td>\n      <td>3.666284e+06</td>\n      <td>3.556749e+06</td>\n      <td>Parity-magnitude task with teufel colors</td>\n      <td>4</td>\n      <td>4992.1259</td>\n      <td>5</td>\n      <td>5</td>\n      <td>yes</td>\n      <td>1680</td>\n    </tr>\n    <tr>\n      <th>...</th>\n      <td>...</td>\n      <td>...</td>\n      <td>...</td>\n      <td>...</td>\n      <td>...</td>\n      <td>...</td>\n      <td>...</td>\n      <td>...</td>\n      <td>...</td>\n      <td>...</td>\n      <td>...</td>\n      <td>...</td>\n      <td>...</td>\n      <td>...</td>\n      <td>...</td>\n      <td>...</td>\n      <td>...</td>\n      <td>...</td>\n      <td>...</td>\n      <td>...</td>\n      <td>...</td>\n    </tr>\n    <tr>\n      <th>471</th>\n      <td>1</td>\n      <td>1</td>\n      <td>88.376754</td>\n      <td>88.376754</td>\n      <td>1318.838178</td>\n      <td>1318.838178</td>\n      <td>#ABACB0</td>\n      <td>1</td>\n      <td>yes</td>\n      <td>12</td>\n      <td>...</td>\n      <td>3577208.209</td>\n      <td>3.666284e+06</td>\n      <td>3.556749e+06</td>\n      <td>Parity-magnitude task with teufel colors</td>\n      <td>441</td>\n      <td>658100.2508</td>\n      <td>499</td>\n      <td>61</td>\n      <td>yes</td>\n      <td>1680</td>\n    </tr>\n    <tr>\n      <th>472</th>\n      <td>1</td>\n      <td>1</td>\n      <td>88.400000</td>\n      <td>88.400000</td>\n      <td>1317.701931</td>\n      <td>1317.701931</td>\n      <td>#ABACB0</td>\n      <td>1</td>\n      <td>yes</td>\n      <td>12</td>\n      <td>...</td>\n      <td>3577208.209</td>\n      <td>3.666284e+06</td>\n      <td>3.556749e+06</td>\n      <td>Parity-magnitude task with teufel colors</td>\n      <td>442</td>\n      <td>658850.9655</td>\n      <td>500</td>\n      <td>62</td>\n      <td>yes</td>\n      <td>1680</td>\n    </tr>\n    <tr>\n      <th>473</th>\n      <td>1</td>\n      <td>1</td>\n      <td>88.423154</td>\n      <td>88.423154</td>\n      <td>1316.281035</td>\n      <td>1316.281035</td>\n      <td>#ABACB0</td>\n      <td>1</td>\n      <td>yes</td>\n      <td>12</td>\n      <td>...</td>\n      <td>3577208.209</td>\n      <td>3.666284e+06</td>\n      <td>3.556749e+06</td>\n      <td>Parity-magnitude task with teufel colors</td>\n      <td>443</td>\n      <td>659456.7987</td>\n      <td>501</td>\n      <td>63</td>\n      <td>yes</td>\n      <td>1680</td>\n    </tr>\n    <tr>\n      <th>474</th>\n      <td>1</td>\n      <td>1</td>\n      <td>88.446215</td>\n      <td>88.446215</td>\n      <td>1314.970419</td>\n      <td>1314.970419</td>\n      <td>#ABACB0</td>\n      <td>1</td>\n      <td>yes</td>\n      <td>12</td>\n      <td>...</td>\n      <td>3577208.209</td>\n      <td>3.666284e+06</td>\n      <td>3.556749e+06</td>\n      <td>Parity-magnitude task with teufel colors</td>\n      <td>444</td>\n      <td>660115.1502</td>\n      <td>502</td>\n      <td>64</td>\n      <td>yes</td>\n      <td>1680</td>\n    </tr>\n    <tr>\n      <th>475</th>\n      <td>1</td>\n      <td>1</td>\n      <td>88.469185</td>\n      <td>88.469185</td>\n      <td>1314.683920</td>\n      <td>1314.683920</td>\n      <td>#ABACB0</td>\n      <td>1</td>\n      <td>yes</td>\n      <td>12</td>\n      <td>...</td>\n      <td>3577208.209</td>\n      <td>3.666284e+06</td>\n      <td>3.556749e+06</td>\n      <td>Parity-magnitude task with teufel colors</td>\n      <td>445</td>\n      <td>661286.0120</td>\n      <td>503</td>\n      <td>65</td>\n      <td>yes</td>\n      <td>1680</td>\n    </tr>\n  </tbody>\n</table>\n<p>476 rows × 347 columns</p>\n</div>"
     },
     "execution_count": 1,
     "metadata": {},
     "output_type": "execute_result"
    }
   ],
   "source": [
    "import pandas as pd\n",
    "import seaborn as sns\n",
    "import matplotlib.pyplot as plt\n",
    "\n",
    "df = pd.read_csv('https://raw.githubusercontent.com/JeshuaT/Experimentation1/main/content/10_dataframes/data/data_exercises/subject-1_IC.csv')\n",
    "\n",
    "# your code here"
   ],
   "metadata": {
    "collapsed": false
   }
  },
  {
   "cell_type": "markdown",
   "source": [
    "\n",
    "## Exercise 2: Matplotlib Procedural Plotting\n",
    "Now, make the same plot using the matplotlib procedural plotting approach (don't forget to include the title as well)."
   ],
   "metadata": {
    "collapsed": false
   }
  },
  {
   "cell_type": "code",
   "execution_count": null,
   "outputs": [],
   "source": [
    "# your answer here"
   ],
   "metadata": {
    "collapsed": false
   }
  },
  {
   "cell_type": "markdown",
   "source": [
    "## Exercise 3: Matplotlib Object-Oriented Plotting\n",
    "Yes, you guessed it: now plot the same plot using the object-oriented approach (again, title!)."
   ],
   "metadata": {
    "collapsed": false
   }
  },
  {
   "cell_type": "code",
   "execution_count": null,
   "outputs": [],
   "source": [
    "import matplotlib.pyplot as plt\n",
    "\n",
    "# your answer here"
   ],
   "metadata": {
    "collapsed": false
   }
  }
 ],
 "metadata": {
  "kernelspec": {
   "display_name": "Python 3",
   "language": "python",
   "name": "python3"
  },
  "language_info": {
   "codemirror_mode": {
    "name": "ipython",
    "version": 2
   },
   "file_extension": ".py",
   "mimetype": "text/x-python",
   "name": "python",
   "nbconvert_exporter": "python",
   "pygments_lexer": "ipython2",
   "version": "2.7.6"
  }
 },
 "nbformat": 4,
 "nbformat_minor": 0
}
