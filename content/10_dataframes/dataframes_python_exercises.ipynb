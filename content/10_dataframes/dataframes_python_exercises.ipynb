{
 "cells": [
  {
   "cell_type": "markdown",
   "source": [
    "# Python exercises: Dataframes"
   ],
   "metadata": {
    "collapsed": false
   }
  },
  {
   "cell_type": "markdown",
   "source": [
    "## Exercise 1. Loading and inspecting a dataframe"
   ],
   "metadata": {
    "collapsed": false
   }
  },
  {
   "cell_type": "markdown",
   "source": [
    "In Chapter 7, you learned how to load in data of a Stroop task. Furthermore, in the lesson of this chapter you learned many things about how to use dataframes. Here we are going to implement some of the things you learned in the lesson.\n",
    "\n",
    "The following URL contains the datafile that we will work with:\n",
    "```https://raw.githubusercontent.com/JeshuaT/Experimentation1/main/content/10_dataframes/data/data_exercises/subject-1_IC.csv```\n",
    "\n",
    "For the first exercise:\n",
    "(1) read the csv file and store it in a Pandas dataframe\n",
    "(2) look at top 5 and bottom 5 rows of the Pandas dataframe using the head and tail function\n",
    "(3) print out only the 'response_time' column\n",
    "(3) find out whether the response time at the 67th row is lower or higher than 1000ms (watch out: python starts counting at 0!)"
   ],
   "metadata": {
    "collapsed": false
   }
  },
  {
   "cell_type": "code",
   "execution_count": null,
   "outputs": [],
   "source": [
    "import pandas as pd\n",
    "\n",
    "# your code here"
   ],
   "metadata": {
    "collapsed": false,
    "pycharm": {
     "is_executing": true
    }
   }
  },
  {
   "cell_type": "markdown",
   "source": [
    "## Exercise 2. Removing rows and columns"
   ],
   "metadata": {
    "collapsed": false
   }
  },
  {
   "cell_type": "markdown",
   "source": [
    "OpenSesame dataframes are usually enormous, because it stores everything you want but also many things you don't need. In this exercise we are going to clean up the dataframe a bit from this clutter.\n",
    "\n",
    "(1) print out the shape of the dataframe\n",
    "(2) make a new dataframe where you only keep the following columns: 'subject_nr', 'correct', 'response_time', 'congruency'\n",
    "(3) make another new dataframe, based on the dataframe of (2), where you only keep correct trials (correct is defined with a \"1\" in the \"correct\" column\n",
    "(4) print out the shape of the new dataframe, what has changed?"
   ],
   "metadata": {
    "collapsed": false
   }
  },
  {
   "cell_type": "code",
   "execution_count": null,
   "outputs": [],
   "source": [
    "# your code here"
   ],
   "metadata": {
    "collapsed": false,
    "pycharm": {
     "is_executing": true
    }
   }
  },
  {
   "cell_type": "markdown",
   "source": [
    "## Exercise 3. Sorting\n",
    "\n",
    "Sorting can help to give you an idea of the highest and lowest values in a dataframe, or can be just neat for cleanliness of the dataframe.\n",
    "(1) You already have a dataframe with only correct trials. Now, make a dataframe with incorrect trials as well\n",
    "(2) Sort both dataframes based on response_time, from highest response time to lowest response time\n",
    "(3) Print out the first 10 rows of both dataframes. Which congruency seems to be the hardest for participants (con, inc or neutral)?"
   ],
   "metadata": {
    "collapsed": false
   }
  },
  {
   "cell_type": "code",
   "execution_count": null,
   "outputs": [],
   "source": [
    "# your code here"
   ],
   "metadata": {
    "collapsed": false,
    "pycharm": {
     "is_executing": true
    }
   }
  },
  {
   "cell_type": "markdown",
   "source": [
    "## BONUS Exercise 4. Real-world problems"
   ],
   "metadata": {
    "collapsed": false
   }
  },
  {
   "cell_type": "markdown",
   "source": [
    "There are many more publicly available datasets you can directly use. For this BONUS exercise, you can choose a dataset you find interesting. The website [Our World in Data](https://ourworldindata.org/) has datasets on the most pressing world-problems, now you are learning the tools how to work with these datasets! Pretty cool right. In your own Python IDE, choose and download a dataset you find interesting (search for the .csv file) and replicate each step from the [the tutorial](http://teaching.gureckislab.org/fall22/labincp/chapters/05/00-data.html), starting from subchapter 6.6.\n",
    "\n",
    "A dataset we recommend exploring is the [dataset on global CO2 and greenhouse emission](https://github.com/owid/co2-data). However, you are free to choose any dataset you find interesting."
   ],
   "metadata": {
    "collapsed": false
   }
  },
  {
   "cell_type": "code",
   "execution_count": null,
   "outputs": [],
   "source": [
    "# your code here"
   ],
   "metadata": {
    "collapsed": false
   }
  }
 ],
 "metadata": {
  "kernelspec": {
   "display_name": "Python 3",
   "language": "python",
   "name": "python3"
  },
  "language_info": {
   "codemirror_mode": {
    "name": "ipython",
    "version": 2
   },
   "file_extension": ".py",
   "mimetype": "text/x-python",
   "name": "python",
   "nbconvert_exporter": "python",
   "pygments_lexer": "ipython2",
   "version": "2.7.6"
  }
 },
 "nbformat": 4,
 "nbformat_minor": 0
}
