{
 "cells": [
  {
   "cell_type": "markdown",
   "source": [
    "# Python exercises: Dataframes"
   ],
   "metadata": {
    "collapsed": false
   }
  },
  {
   "cell_type": "markdown",
   "source": [
    "## Exercise 1: Loading in and inspecting a dataframe"
   ],
   "metadata": {
    "collapsed": false
   }
  },
  {
   "cell_type": "markdown",
   "source": [
    "In session 7, you learned how to load in data of a Stroop task. Furthermore, in the lesson of this session you learned many things about how to use dataframes. Here we are going to implement some of the things you learned in the lesson.\n",
    "\n",
    "\n",
    "(1) read a csv file and store it in a Pandas dataframe\n",
    "(2) look at top and bottom of the Pandas dataframe using the head and tail function\n",
    "(3) Access and remove individual columns and rows\n",
    "(4) Combine multiple dataframes"
   ],
   "metadata": {
    "collapsed": false
   }
  },
  {
   "cell_type": "code",
   "execution_count": 2,
   "outputs": [
    {
     "data": {
      "text/plain": "      ID         acc accept_status    accuracy  age  average_response_time  \\\n0     14  100.000000           yes  100.000000   23                  17079   \n1     34  100.000000           yes  100.000000   23                  13885   \n2     12  100.000000           yes  100.000000   23                  11807   \n3      5   85.714286           yes   85.714286   23                  10212   \n4     31   87.500000           yes   87.500000   23                   9018   \n..   ...         ...           ...         ...  ...                    ...   \n271    3   97.472924           yes   97.472924   23                    980   \n272   45   97.482014           yes   97.482014   23                    979   \n273  100   97.491039           yes   97.491039   23                    977   \n274  110   97.500000           yes   97.500000   23                    976   \n275   29   97.508897           yes   97.508897   23                    974   \n\n     avg_rt background bidi     block  ... time_practice time_stroop  \\\n0     17079    #ffffff   no  practice  ...        123799      123895   \n1     13885    #ffffff   no  practice  ...        123799      126701   \n2     11807    #ffffff   no  practice  ...        123799      129972   \n3     10212    #ffffff   no  practice  ...        123799      133556   \n4      9018    #ffffff   no  practice  ...        123799      136370   \n..      ...        ...  ...       ...  ...           ...         ...   \n271     980    #ffffff   no         I  ...        123799      917937   \n272     979    #ffffff   no         I  ...        123799      920705   \n273     977    #ffffff   no         I  ...        123799      923590   \n274     976    #ffffff   no         I  ...        123799      926349   \n275     974    #ffffff   no         I  ...        123799      929072   \n\n    time_target      title total_correct total_response_time  total_responses  \\\n0        124469  Stroop CI             4               68319                4   \n1        127275  Stroop CI             5               69428                5   \n2        130547  Stroop CI             6               70842                6   \n3        134130  Stroop CI             6               71484                7   \n4        136944  Stroop CI             7               72150                8   \n..          ...        ...           ...                 ...              ...   \n271      918511  Stroop CI           270              271492              277   \n272      921279  Stroop CI           271              272211              278   \n273      924164  Stroop CI           272              272818              279   \n274      926925  Stroop CI           273              273312              280   \n275      929647  Stroop CI           274              273802              281   \n\n    uniform_coordinates width    word  \n0                   yes  1366     RED  \n1                   yes  1366     LOT  \n2                   yes  1366   GREEN  \n3                   yes  1366   GREEN  \n4                   yes  1366     LOT  \n..                  ...   ...     ...  \n271                 yes  1366    BLUE  \n272                 yes  1366  YELLOW  \n273                 yes  1366    BLUE  \n274                 yes  1366   KNIFE  \n275                 yes  1366     RED  \n\n[276 rows x 124 columns]",
      "text/html": "<div>\n<style scoped>\n    .dataframe tbody tr th:only-of-type {\n        vertical-align: middle;\n    }\n\n    .dataframe tbody tr th {\n        vertical-align: top;\n    }\n\n    .dataframe thead th {\n        text-align: right;\n    }\n</style>\n<table border=\"1\" class=\"dataframe\">\n  <thead>\n    <tr style=\"text-align: right;\">\n      <th></th>\n      <th>ID</th>\n      <th>acc</th>\n      <th>accept_status</th>\n      <th>accuracy</th>\n      <th>age</th>\n      <th>average_response_time</th>\n      <th>avg_rt</th>\n      <th>background</th>\n      <th>bidi</th>\n      <th>block</th>\n      <th>...</th>\n      <th>time_practice</th>\n      <th>time_stroop</th>\n      <th>time_target</th>\n      <th>title</th>\n      <th>total_correct</th>\n      <th>total_response_time</th>\n      <th>total_responses</th>\n      <th>uniform_coordinates</th>\n      <th>width</th>\n      <th>word</th>\n    </tr>\n  </thead>\n  <tbody>\n    <tr>\n      <th>0</th>\n      <td>14</td>\n      <td>100.000000</td>\n      <td>yes</td>\n      <td>100.000000</td>\n      <td>23</td>\n      <td>17079</td>\n      <td>17079</td>\n      <td>#ffffff</td>\n      <td>no</td>\n      <td>practice</td>\n      <td>...</td>\n      <td>123799</td>\n      <td>123895</td>\n      <td>124469</td>\n      <td>Stroop CI</td>\n      <td>4</td>\n      <td>68319</td>\n      <td>4</td>\n      <td>yes</td>\n      <td>1366</td>\n      <td>RED</td>\n    </tr>\n    <tr>\n      <th>1</th>\n      <td>34</td>\n      <td>100.000000</td>\n      <td>yes</td>\n      <td>100.000000</td>\n      <td>23</td>\n      <td>13885</td>\n      <td>13885</td>\n      <td>#ffffff</td>\n      <td>no</td>\n      <td>practice</td>\n      <td>...</td>\n      <td>123799</td>\n      <td>126701</td>\n      <td>127275</td>\n      <td>Stroop CI</td>\n      <td>5</td>\n      <td>69428</td>\n      <td>5</td>\n      <td>yes</td>\n      <td>1366</td>\n      <td>LOT</td>\n    </tr>\n    <tr>\n      <th>2</th>\n      <td>12</td>\n      <td>100.000000</td>\n      <td>yes</td>\n      <td>100.000000</td>\n      <td>23</td>\n      <td>11807</td>\n      <td>11807</td>\n      <td>#ffffff</td>\n      <td>no</td>\n      <td>practice</td>\n      <td>...</td>\n      <td>123799</td>\n      <td>129972</td>\n      <td>130547</td>\n      <td>Stroop CI</td>\n      <td>6</td>\n      <td>70842</td>\n      <td>6</td>\n      <td>yes</td>\n      <td>1366</td>\n      <td>GREEN</td>\n    </tr>\n    <tr>\n      <th>3</th>\n      <td>5</td>\n      <td>85.714286</td>\n      <td>yes</td>\n      <td>85.714286</td>\n      <td>23</td>\n      <td>10212</td>\n      <td>10212</td>\n      <td>#ffffff</td>\n      <td>no</td>\n      <td>practice</td>\n      <td>...</td>\n      <td>123799</td>\n      <td>133556</td>\n      <td>134130</td>\n      <td>Stroop CI</td>\n      <td>6</td>\n      <td>71484</td>\n      <td>7</td>\n      <td>yes</td>\n      <td>1366</td>\n      <td>GREEN</td>\n    </tr>\n    <tr>\n      <th>4</th>\n      <td>31</td>\n      <td>87.500000</td>\n      <td>yes</td>\n      <td>87.500000</td>\n      <td>23</td>\n      <td>9018</td>\n      <td>9018</td>\n      <td>#ffffff</td>\n      <td>no</td>\n      <td>practice</td>\n      <td>...</td>\n      <td>123799</td>\n      <td>136370</td>\n      <td>136944</td>\n      <td>Stroop CI</td>\n      <td>7</td>\n      <td>72150</td>\n      <td>8</td>\n      <td>yes</td>\n      <td>1366</td>\n      <td>LOT</td>\n    </tr>\n    <tr>\n      <th>...</th>\n      <td>...</td>\n      <td>...</td>\n      <td>...</td>\n      <td>...</td>\n      <td>...</td>\n      <td>...</td>\n      <td>...</td>\n      <td>...</td>\n      <td>...</td>\n      <td>...</td>\n      <td>...</td>\n      <td>...</td>\n      <td>...</td>\n      <td>...</td>\n      <td>...</td>\n      <td>...</td>\n      <td>...</td>\n      <td>...</td>\n      <td>...</td>\n      <td>...</td>\n      <td>...</td>\n    </tr>\n    <tr>\n      <th>271</th>\n      <td>3</td>\n      <td>97.472924</td>\n      <td>yes</td>\n      <td>97.472924</td>\n      <td>23</td>\n      <td>980</td>\n      <td>980</td>\n      <td>#ffffff</td>\n      <td>no</td>\n      <td>I</td>\n      <td>...</td>\n      <td>123799</td>\n      <td>917937</td>\n      <td>918511</td>\n      <td>Stroop CI</td>\n      <td>270</td>\n      <td>271492</td>\n      <td>277</td>\n      <td>yes</td>\n      <td>1366</td>\n      <td>BLUE</td>\n    </tr>\n    <tr>\n      <th>272</th>\n      <td>45</td>\n      <td>97.482014</td>\n      <td>yes</td>\n      <td>97.482014</td>\n      <td>23</td>\n      <td>979</td>\n      <td>979</td>\n      <td>#ffffff</td>\n      <td>no</td>\n      <td>I</td>\n      <td>...</td>\n      <td>123799</td>\n      <td>920705</td>\n      <td>921279</td>\n      <td>Stroop CI</td>\n      <td>271</td>\n      <td>272211</td>\n      <td>278</td>\n      <td>yes</td>\n      <td>1366</td>\n      <td>YELLOW</td>\n    </tr>\n    <tr>\n      <th>273</th>\n      <td>100</td>\n      <td>97.491039</td>\n      <td>yes</td>\n      <td>97.491039</td>\n      <td>23</td>\n      <td>977</td>\n      <td>977</td>\n      <td>#ffffff</td>\n      <td>no</td>\n      <td>I</td>\n      <td>...</td>\n      <td>123799</td>\n      <td>923590</td>\n      <td>924164</td>\n      <td>Stroop CI</td>\n      <td>272</td>\n      <td>272818</td>\n      <td>279</td>\n      <td>yes</td>\n      <td>1366</td>\n      <td>BLUE</td>\n    </tr>\n    <tr>\n      <th>274</th>\n      <td>110</td>\n      <td>97.500000</td>\n      <td>yes</td>\n      <td>97.500000</td>\n      <td>23</td>\n      <td>976</td>\n      <td>976</td>\n      <td>#ffffff</td>\n      <td>no</td>\n      <td>I</td>\n      <td>...</td>\n      <td>123799</td>\n      <td>926349</td>\n      <td>926925</td>\n      <td>Stroop CI</td>\n      <td>273</td>\n      <td>273312</td>\n      <td>280</td>\n      <td>yes</td>\n      <td>1366</td>\n      <td>KNIFE</td>\n    </tr>\n    <tr>\n      <th>275</th>\n      <td>29</td>\n      <td>97.508897</td>\n      <td>yes</td>\n      <td>97.508897</td>\n      <td>23</td>\n      <td>974</td>\n      <td>974</td>\n      <td>#ffffff</td>\n      <td>no</td>\n      <td>I</td>\n      <td>...</td>\n      <td>123799</td>\n      <td>929072</td>\n      <td>929647</td>\n      <td>Stroop CI</td>\n      <td>274</td>\n      <td>273802</td>\n      <td>281</td>\n      <td>yes</td>\n      <td>1366</td>\n      <td>RED</td>\n    </tr>\n  </tbody>\n</table>\n<p>276 rows × 124 columns</p>\n</div>"
     },
     "execution_count": 2,
     "metadata": {},
     "output_type": "execute_result"
    }
   ],
   "source": [
    "import pandas as pd\n",
    "\n",
    "# Change the link below to whatever csv you want to load in\n",
    "df = pd.read_csv('./data/data_exercises/subject-0_CI.csv')\n",
    "\n",
    "df"
   ],
   "metadata": {
    "collapsed": false
   }
  },
  {
   "cell_type": "markdown",
   "source": [
    "## BONUS Exercise 2: Real-world problems"
   ],
   "metadata": {
    "collapsed": false
   }
  },
  {
   "cell_type": "markdown",
   "source": [
    "There are many more publicly available datasets you can directly use. For this exercise, you can choose a dataset you find interesting. The website [Our World in Data](https://ourworldindata.org/) has datasets on the most pressing world-problems, now you are learning the tools how to work with these datasets! Pretty cool right. In your own Python IDE, choose and download a dataset you find interesting (search for the .csv file) and replicate each step from the [the tutorial](http://teaching.gureckislab.org/fall22/labincp/chapters/05/00-data.html), starting from subchapter 6.6.\n",
    "\n",
    "A dataset we recommend exploring is the [dataset on global CO2 and greenhouse emission](https://github.com/owid/co2-data). However, you are free to choose any dataset you find interesting."
   ],
   "metadata": {
    "collapsed": false
   }
  },
  {
   "cell_type": "code",
   "execution_count": null,
   "outputs": [],
   "source": [
    "import pandas as pd\n",
    "\n",
    "# Change the link below to whatever csv you want to load in\n",
    "df = pd.read_csv('filename.csv')"
   ],
   "metadata": {
    "collapsed": false
   }
  }
 ],
 "metadata": {
  "kernelspec": {
   "display_name": "Python 3",
   "language": "python",
   "name": "python3"
  },
  "language_info": {
   "codemirror_mode": {
    "name": "ipython",
    "version": 2
   },
   "file_extension": ".py",
   "mimetype": "text/x-python",
   "name": "python",
   "nbconvert_exporter": "python",
   "pygments_lexer": "ipython2",
   "version": "2.7.6"
  }
 },
 "nbformat": 4,
 "nbformat_minor": 0
}
