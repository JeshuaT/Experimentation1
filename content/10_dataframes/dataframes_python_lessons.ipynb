{
 "cells": [
  {
   "cell_type": "markdown",
   "source": [
    "# Python lessons: Dataframes\n"
   ],
   "metadata": {
    "collapsed": false
   },
   "outputs": []
  },
  {
   "cell_type": "code",
   "execution_count": null,
   "outputs": [],
   "source": [
    "from IPython.display import IFrame"
   ],
   "metadata": {
    "collapsed": false
   }
  },
  {
   "cell_type": "markdown",
   "source": [
    "In this module you will learn how to work with OpenSesame datasets using the python package Pandas. The video and lesson we supply here were created by Todd M Gureckis, and released under [the creative commons license](http://teaching.gureckislab.org/fall22/labincp/LICENSE.html). First, watch this video:"
   ],
   "metadata": {
    "collapsed": false
   }
  },
  {
   "cell_type": "code",
   "execution_count": 1,
   "outputs": [],
   "source": [
    "IFrame(src=\"https://player.vimeo.com/video/520946467\", width=\"560\", height=\"315\")"
   ],
   "metadata": {
    "collapsed": false
   }
  },
  {
   "cell_type": "markdown",
   "source": [
    "Then, follow along with [this explanation on dataframes and pandas](http://teaching.gureckislab.org/fall22/labincp/chapters/05/00-data.html), also provided by Todd M Gureckis:\n",
    "\n",
    "Focus on the following:\n",
    "- What is a dataframe?\n",
    "- How to read a csv?\n",
    "- How to select rows?\n",
    "- How to select columns?\n",
    "- What is the split-apply-combine workflow?"
   ],
   "metadata": {
    "collapsed": false
   }
  },
  {
   "cell_type": "markdown",
   "source": [],
   "metadata": {
    "collapsed": false
   }
  }
 ],
 "metadata": {
  "kernelspec": {
   "display_name": "Python 3",
   "language": "python",
   "name": "python3"
  },
  "language_info": {
   "codemirror_mode": {
    "name": "ipython",
    "version": 2
   },
   "file_extension": ".py",
   "mimetype": "text/x-python",
   "name": "python",
   "nbconvert_exporter": "python",
   "pygments_lexer": "ipython2",
   "version": "2.7.6"
  }
 },
 "nbformat": 4,
 "nbformat_minor": 0
}
