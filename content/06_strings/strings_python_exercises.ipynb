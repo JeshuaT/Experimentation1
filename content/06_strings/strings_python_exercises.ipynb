{
 "cells": [
  {
   "cell_type": "markdown",
   "metadata": {},
   "source": [
    "# Python exercises: Strings"
   ]
  },
  {
   "cell_type": "markdown",
   "metadata": {},
   "source": [
    ">**Note** Some of the exercises below are adapted from the [Python for Everyone Course](https://www.py4e.com/html3/06-strings) by Charles R. Severance licensed under Creative Commons Attribution 3.0\n",
    "\n",
    "### Exercise 1. Extract substring\n",
    "Take the following Python code that stores a string:\n",
    "\n",
    "```\n",
    "str = 'X-DSPAM-Confidence:0.8475'\n",
    "```\n",
    "\n",
    "Use find and string slicing to extract the portion of the string after the colon character and then use the float function to convert the extracted string into a floating point number.\n"
   ],
   "outputs": []
  },
  {
   "cell_type": "code",
   "execution_count": 7,
   "outputs": [],
   "source": [
    "str = 'X-DSPAM-Confidence:0.8475'\n",
    "# your code here"
   ],
   "metadata": {
    "collapsed": false
   }
  },
  {
   "cell_type": "markdown",
   "source": [
    "### Exercise 2. Understanding string methods\n",
    "\n",
    "Read the documentation of the string methods [here](https://docs.python.org/library/stdtypes.html#string-methods). You might want to experiment with some of them to make sure you understand how they work. Strip and replace are particularly useful.\n",
    "\n",
    "The documentation uses a syntax that might be confusing. For example, in find(sub[, start[, end]]), the brackets indicate optional arguments. So sub is required, but start is optional, and if you include start, then end is optional.\n",
    "\n",
    "Then use these commands to remove leading, trailing and double spaces (iteratively) in the string indicated below and replace the word \"setece\" with \"sentence\"."
   ],
   "metadata": {
    "collapsed": false
   },
   "outputs": []
  },
  {
   "cell_type": "code",
   "execution_count": 8,
   "outputs": [],
   "source": [
    "str = \"  This is a  setece      with  a typo and   too many  spaces \"\n",
    "# your code here\n"
   ],
   "metadata": {
    "collapsed": false
   }
  },
  {
   "cell_type": "markdown",
   "source": [
    "### Exercise 3. Create a looping text\n",
    "\n",
    "Adapt the program you wrote in the previous session to present a moving text of 40 characters long that runs like a circle from left to right: when characters reach the end they starts to appear at the beginning again. Let the loop run from 1 to 80 so you can present a full circle."
   ],
   "metadata": {
    "collapsed": false
   }
  },
  {
   "cell_type": "code",
   "execution_count": 9,
   "metadata": {},
   "outputs": [],
   "source": [
    "# your code here"
   ]
  }
 ],
 "metadata": {
  "kernelspec": {
   "display_name": "Python 3 (ipykernel)",
   "language": "python",
   "name": "python3"
  },
  "language_info": {
   "codemirror_mode": {
    "name": "ipython",
    "version": 3
   },
   "file_extension": ".py",
   "mimetype": "text/x-python",
   "name": "python",
   "nbconvert_exporter": "python",
   "pygments_lexer": "ipython3",
   "version": "3.9.12"
  }
 },
 "nbformat": 4,
 "nbformat_minor": 1
}
