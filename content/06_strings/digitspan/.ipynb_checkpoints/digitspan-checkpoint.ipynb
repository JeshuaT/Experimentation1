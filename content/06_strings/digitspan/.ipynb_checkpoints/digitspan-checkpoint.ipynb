{
 "cells": [
  {
   "cell_type": "markdown",
   "metadata": {},
   "source": [
    "# Digital Span Task"
   ]
  },
  {
   "cell_type": "markdown",
   "metadata": {},
   "source": [
    "## Step 1: Download OpenSesame file and adapt it\n",
    "\n",
    "Download the Digit Span task created by Grant M. Berry here.\n",
    "\n",
    "Open the file in OpenSesame and try to understand how it works.\n",
    "\n",
    "Let's first make the layout of the loop nicer and reorder the columns in the `Trials` loop. This is not easy to do in OpenSesame, so use Excel (or other spreadsheet software) instead.\n",
    "\n",
    "1.  Copy the entire content of the loop to a sheet in Excel. 2. Copy again and paste the transposed table (Paste Special) in a new sheet. 3. Sort the entire table on the first column (no header). 4. Copy again and paste again in a new sheet as transposed table. 5. Copy this table and paste it in the OpenSesame loop after you deleted all columns and rows first.\n",
    "\n",
    "Please note that Nback indicates the span of the sequence presented in the corresponding trial.\n",
    "\n",
    "Interestingly, if you run the program it always starts with span 3. Why is this the case? Fix the conditional running.\n",
    "\n",
    "Actually, let's remove the 10 first rows alltogether.\n",
    "\n",
    "Set Weight to 1 (easier for debugging)\n",
    "\n",
    "## Step 2: Change number stimuli into characters\n",
    "\n",
    "Let's add some python code to provide real-time feedback to the participant whether the answer used was correct\n",
    "\n",
    "We first change the stimuli we present. Instead of presenting numbers 1..9 that can be used multiple times (random.choice picks a value WITH replacement)"
   ]
  },
  {
   "cell_type": "code",
   "execution_count": null,
   "metadata": {},
   "outputs": [],
   "source": [
    "import random\n",
    "nums=[1,2,3,4,5,6,8,9]\n",
    "random.shuffle(nums)\n",
    "num0=random.choice(nums)\n",
    "num1=random.choice(nums)\n",
    "num2=random.choice(nums)\n",
    "num3=random.choice(nums)\n",
    "num4=random.choice(nums)\n",
    "num5=random.choice(nums)\n",
    "...\n",
    "...\n",
    "...\n",
    "...\n",
    "...\n"
   ]
  },
  {
   "cell_type": "code",
   "execution_count": null,
   "metadata": {},
   "outputs": [],
   "source": [
    "import random\n",
    "nums=[\"A\",\"B\",\"C\",\"D\",\"E\",\"F\",\"G\",\"H\",\"I\",\"J\"]\n",
    "random.shuffle(nums)\n",
    "num0=nums[0]\n",
    "num1=nums[1]\n",
    "num2=nums[2]\n",
    "num3=nums[3]\n",
    "num4=nums[4]\n",
    "num5=nums[5]\n",
    "num6=nums[6]\n",
    "num7=nums[7]\n",
    "num8=nums[8]\n",
    "num9=nums[9]\n"
   ]
  },
  {
   "cell_type": "markdown",
   "metadata": {},
   "source": [
    "\n",
    "Now let's print the content of the nine variables in a string"
   ]
  },
  {
   "cell_type": "code",
   "execution_count": null,
   "metadata": {},
   "outputs": [],
   "source": [
    "import random\n",
    "seq_presented = num0 + num1 + num2 + num3 + num4 + num5 + num6 + num7 + num8 + num9\n",
    "print(seq_presented)"
   ]
  },
  {
   "cell_type": "markdown",
   "metadata": {},
   "source": [
    "\n",
    "change sequence depending on Nback"
   ]
  },
  {
   "cell_type": "code",
   "execution_count": null,
   "metadata": {},
   "outputs": [],
   "source": [
    "Nback = 2\n",
    "seq_presented = seq_presented[0:Nback]\n",
    "print(seq_presented)"
   ]
  },
  {
   "cell_type": "markdown",
   "metadata": {},
   "source": [
    "\n",
    "raise an exception if current_span \\> length"
   ]
  },
  {
   "cell_type": "code",
   "execution_count": null,
   "metadata": {},
   "outputs": [],
   "source": [
    "Nback = 4\n",
    "if Nback > len(seq_presented):\n",
    "    raise Exception('Invalid value for Nback (%s)' % Nback)\n",
    "\n",
    "seq_presented = seq_presented[0:Nback]\n",
    "print(seq_presented)"
   ]
  },
  {
   "cell_type": "markdown",
   "metadata": {},
   "source": [
    "\n",
    "If your code works well, go back to OpenSesame and add it in the proper locations: the code for the presented stimuli should be inserted into `GenerateNums` and replace the part that refers to numbers.\n",
    "\n",
    "In addition, add a python inline script before the logger and call it `process_trial`\n",
    "\n",
    "Add the code that calculates the `seq_presented` in this inline.\n",
    "\n",
    "Make sure you all variables with `var.` that refer to the OpenSesame environment.\n",
    "\n",
    "Check: is your data correctly logged. TODO: why is it not in the CSV??\n",
    "\n",
    "\n",
    "#### Step 3: Provide feedback\n",
    "\n",
    "Let's go back to the code in this tutorial.\n"
   ]
  },
  {
   "cell_type": "code",
   "execution_count": null,
   "metadata": {},
   "outputs": [],
   "source": [
    "response = \"fcd\"\n",
    "if (response == seq_presented):\n",
    "    print(\"Correct\")\n",
    "else:\n",
    "    print(\"Error\")"
   ]
  },
  {
   "cell_type": "markdown",
   "metadata": {},
   "source": [
    "remove spaces and make all capitals"
   ]
  },
  {
   "cell_type": "code",
   "execution_count": null,
   "metadata": {},
   "outputs": [],
   "source": [
    "response = \"fe\"\n",
    "response = response.upper()\n",
    "response = response.strip()\n",
    "if (response == seq_presented):\n",
    "    fbtext = \"Correct\"\n",
    "else:\n",
    "    fbtext = \"Error\"\n",
    "print(fbtext)"
   ]
  },
  {
   "cell_type": "markdown",
   "metadata": {},
   "source": [
    "\n",
    "get number of correctly retrieved items\n"
   ]
  },
  {
   "cell_type": "code",
   "execution_count": null,
   "metadata": {},
   "outputs": [],
   "source": [
    "num_correct = 0\n",
    "num_total = len(response)\n",
    "for char in response:\n",
    "    if (seq_presented.find(char)) > -1:\n",
    "        num_correct = num_correct + 1\n",
    "print(num_correct)"
   ]
  },
  {
   "cell_type": "markdown",
   "metadata": {},
   "source": [
    "\n",
    "exercise:\n",
    "\n",
    "1.  stop presenting when more than four trials in a row were incorrect\n",
    "\n",
    "2.  recollect in reverse orde"
   ]
  }
 ],
 "metadata": {
  "kernelspec": {
   "display_name": "Python 3 (ipykernel)",
   "language": "python",
   "name": "python3"
  },
  "language_info": {
   "codemirror_mode": {
    "name": "ipython",
    "version": 3
   },
   "file_extension": ".py",
   "mimetype": "text/x-python",
   "name": "python",
   "nbconvert_exporter": "python",
   "pygments_lexer": "ipython3",
   "version": "3.9.12"
  }
 },
 "nbformat": 4,
 "nbformat_minor": 1
}
