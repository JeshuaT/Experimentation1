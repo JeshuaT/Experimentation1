{
 "cells": [
  {
   "cell_type": "markdown",
   "source": [
    "# Merging logfiles OpenSesame\n",
    "\n",
    "> **Warning** During this tutorial we are going to work with files. You learn to create, copy, move, and delete files! Make sure you run your scripts in a location where you are allowed to edit files and that this location does not contain other files. Be careful and make sure you do not accidentially delete or move other files (copying is safer then moving or deleting!). Make backups of important files on your computer before continuing. The sandbox of Google Colab is a nice, more protected, environment to work with files.\n",
    "\n",
    "## Introduction\n",
    "OpenSesame creates a logfile separately for each participant you run. In this tutorial we show a way to merge these logfiles by assuming they all have exactly the same format (i.e., they have identical headers). This is not necessarily the case if you run slightly different versions of the experiment for different participants! Note that during the datawrangling tutorial in a later session, you will learn about a different way to merge logfiles that is more flexible.\n",
    "\n",
    "## Step 1. Get OpenSesame data from osf\n",
    "Let's use some python code to download existing OpenSesame data of a Stroop task from [osf](https://osf.io/7ma4t/). Note that the code below creates a folder called `tutorial_data` in your current working directory. Run the code below."
   ],
   "metadata": {
    "collapsed": false
   },
   "outputs": []
  },
  {
   "cell_type": "code",
   "execution_count": 6,
   "outputs": [],
   "source": [
    "import requests\n",
    "import shutil\n",
    "import os\n",
    "\n",
    "# recursively remove folder main and its content, do this if you want to start again with\n",
    "#shutil.rmtree('tutorial_data')\n",
    "\n",
    "# create the main directory\n",
    "if not os.path.exists('tutorial_data'):\n",
    "    os.makedirs('tutorial_data')\n",
    "\n",
    "# download the zip file\n",
    "url = 'https://osf.io/download/3d9er/'\n",
    "r = requests.get(url, allow_redirects=True)\n",
    "open('./tutorial_data/data_pilot.zip', 'wb').write(r.content)\n",
    "\n",
    "# extract the zip file\n",
    "import zipfile\n",
    "with zipfile.ZipFile('./tutorial_data/data_pilot.zip', 'r') as zip_ref:\n",
    "    zip_ref.extractall('./tutorial_data/')\n"
   ],
   "metadata": {
    "collapsed": false
   }
  },
  {
   "cell_type": "markdown",
   "source": [
    "Check whether the data is properly stored and extracted. Open a csv file to see it's content.\n",
    "\n",
    "## Step 2. Create a loop that finds all files in a particular directory\n",
    "Let's now create a loop that prints all the filesnames found by the os.listdir function and counts the number of files found."
   ],
   "metadata": {
    "collapsed": false
   },
   "outputs": []
  },
  {
   "cell_type": "code",
   "execution_count": 7,
   "outputs": [
    {
     "name": "stdout",
     "output_type": "stream",
     "text": [
      "Reading  ./tutorial_data/data/CI_RSI2000_test.csv\n",
      "Reading  ./tutorial_data/data/subject-0_CI.csv\n",
      "Reading  ./tutorial_data/data/subject-11_CI.csv\n",
      "Reading  ./tutorial_data/data/subject-12_IC.csv\n",
      "Reading  ./tutorial_data/data/subject-13_CI.csv\n",
      "Reading  ./tutorial_data/data/subject-14_IC.csv\n",
      "Reading  ./tutorial_data/data/subject-1_IC.csv\n",
      "Reading  ./tutorial_data/data/subject-3_CI.csv\n",
      "Reading  ./tutorial_data/data/subject-4_IC.csv\n",
      "Reading  ./tutorial_data/data/subject-5_CI.csv\n",
      "Reading  ./tutorial_data/data/subject-6.csv\n",
      "Reading  ./tutorial_data/data/subject-7_IC.csv\n",
      "Reading  ./tutorial_data/data/subject-9_IC.csv\n",
      "Number of files considered for merge: 13\n"
     ]
    }
   ],
   "source": [
    "# Change this to the folder that contains the .csv files\n",
    "SRC_FOLDER = './tutorial_data/data/'\n",
    "\n",
    "filecount = 0\n",
    "for basename in os.listdir(SRC_FOLDER):\n",
    "    path = os.path.join(SRC_FOLDER, basename)\n",
    "    print('Reading ',path)\n",
    "    filecount = filecount + 1\n",
    "print('Number of files considered for merge:',filecount)\n"
   ],
   "metadata": {
    "collapsed": false
   }
  },
  {
   "cell_type": "markdown",
   "source": [
    "## Step 3. Merge all files into one csv file\n",
    "As a next step, we are going to read in each file line by line and write them to a new merged file.\n",
    "\n",
    "To create the new merged file use the command:"
   ],
   "metadata": {
    "collapsed": false
   },
   "outputs": []
  },
  {
   "cell_type": "code",
   "execution_count": 8,
   "outputs": [],
   "source": [
    "fout = open('./tutorial_data/merged.csv', 'w')"
   ],
   "metadata": {
    "collapsed": false
   }
  },
  {
   "cell_type": "markdown",
   "source": [
    "To read in a file line by line and save each line to the merged file use this loop:"
   ],
   "metadata": {
    "collapsed": false
   },
   "outputs": []
  },
  {
   "cell_type": "code",
   "execution_count": 14,
   "outputs": [
    {
     "ename": "ValueError",
     "evalue": "I/O operation on closed file.",
     "output_type": "error",
     "traceback": [
      "\u001B[1;31m---------------------------------------------------------------------------\u001B[0m",
      "\u001B[1;31mValueError\u001B[0m                                Traceback (most recent call last)",
      "Input \u001B[1;32mIn [14]\u001B[0m, in \u001B[0;36m<cell line: 2>\u001B[1;34m()\u001B[0m\n\u001B[0;32m      1\u001B[0m fhand \u001B[38;5;241m=\u001B[39m \u001B[38;5;28mopen\u001B[39m(path)\n\u001B[0;32m      2\u001B[0m \u001B[38;5;28;01mfor\u001B[39;00m line \u001B[38;5;129;01min\u001B[39;00m fhand:\n\u001B[1;32m----> 3\u001B[0m     \u001B[43mfout\u001B[49m\u001B[38;5;241;43m.\u001B[39;49m\u001B[43mwrite\u001B[49m\u001B[43m(\u001B[49m\u001B[43mline\u001B[49m\u001B[43m)\u001B[49m\n\u001B[0;32m      4\u001B[0m fhand\u001B[38;5;241m.\u001B[39mclose\n",
      "\u001B[1;31mValueError\u001B[0m: I/O operation on closed file."
     ]
    }
   ],
   "source": [
    "fhand = open(path)\n",
    "for line in fhand:\n",
    "    fout.write(line)\n",
    "fhand.close()"
   ],
   "metadata": {
    "collapsed": false
   }
  },
  {
   "cell_type": "markdown",
   "source": [
    " Insert these code snippets in the code we just created at the right locations:\n"
   ],
   "metadata": {
    "collapsed": false
   },
   "outputs": []
  },
  {
   "cell_type": "code",
   "execution_count": 10,
   "outputs": [
    {
     "name": "stdout",
     "output_type": "stream",
     "text": [
      "Reading  ./tutorial_data/data/CI_RSI2000_test.csv\n",
      "Reading  ./tutorial_data/data/subject-0_CI.csv\n",
      "Reading  ./tutorial_data/data/subject-11_CI.csv\n",
      "Reading  ./tutorial_data/data/subject-12_IC.csv\n",
      "Reading  ./tutorial_data/data/subject-13_CI.csv\n",
      "Reading  ./tutorial_data/data/subject-14_IC.csv\n",
      "Reading  ./tutorial_data/data/subject-1_IC.csv\n",
      "Reading  ./tutorial_data/data/subject-3_CI.csv\n",
      "Reading  ./tutorial_data/data/subject-4_IC.csv\n",
      "Reading  ./tutorial_data/data/subject-5_CI.csv\n",
      "Reading  ./tutorial_data/data/subject-6.csv\n",
      "Reading  ./tutorial_data/data/subject-7_IC.csv\n",
      "Reading  ./tutorial_data/data/subject-9_IC.csv\n",
      "Number of files considered for merge: 13\n"
     ]
    }
   ],
   "source": [
    "# Change this to the folder that contains the .csv files\n",
    "SRC_FOLDER = './tutorial_data/data/'\n",
    "# ... your code here\n",
    "\n",
    "filecount = 0\n",
    "for basename in os.listdir(SRC_FOLDER):\n",
    "    path = os.path.join(SRC_FOLDER, basename)\n",
    "    print('Reading ',path)\n",
    "    # ... your code here\n",
    "    filecount = filecount + 1\n",
    "print('Number of files considered for merge:',filecount)"
   ],
   "metadata": {
    "collapsed": false
   }
  },
  {
   "cell_type": "markdown",
   "source": [
    "Run the code and check whether a merged file is created.\n",
    "\n",
    "## Step 4. Compare headers\n",
    "\n",
    "\n",
    "\n"
   ],
   "metadata": {
    "collapsed": false
   }
  },
  {
   "cell_type": "code",
   "execution_count": 16,
   "outputs": [
    {
     "name": "stdout",
     "output_type": "stream",
     "text": [
      "Reading ./tutorial_data/data/subject-9_IC.csv\n",
      "Line Count: 277\n",
      "Number of files considered for merge: 1 . Merged:  0\n"
     ]
    }
   ],
   "source": [
    "# Change this to the folder that contains the .csv files\n",
    "SRC_FOLDER = './tutorial_data/data/'\n",
    "\n",
    "fout = open('./tutorial_data/merged.csv', 'w')\n",
    "\n",
    "filecount = 0\n",
    "filecountmerged = 0\n",
    "for basename in os.listdir(SRC_FOLDER):\n",
    "    path = os.path.join(SRC_FOLDER, basename)\n",
    "    if path !=  \"./tutorial_data/data/CI_RSI2000_test.csv\":\n",
    "        print('Reading {}'.format(path))\n",
    "        fhand = open(path)\n",
    "        linecount = 0\n",
    "        for line in fhand:\n",
    "\n",
    "            #print('number of commas: ',line.count(','))\n",
    "            if linecount == 0:\n",
    "                if filecount == 0:\n",
    "                    #header first file\n",
    "                    refheader =  line\n",
    "                    fout.write(line)\n",
    "                    writethisfile = True\n",
    "                else:\n",
    "                    #check whether current header matches refheader\n",
    "                    if line == refheader:\n",
    "                        writethisfile = True\n",
    "                        filecountmerged = filecountmerged + 1\n",
    "                    else:\n",
    "                        writethisfile = False\n",
    "            else:\n",
    "                if writethisfile:\n",
    "                    fout.write(line)\n",
    "            linecount = linecount + 1\n",
    "        print('Line Count:', linecount)\n",
    "        fhand.close()\n",
    "        filecount = filecount + 1\n",
    "fout.close()\n",
    "print('Number of files considered for merge:',filecount,\". Merged: \",filecountmerged)\n"
   ],
   "metadata": {
    "collapsed": false
   }
  },
  {
   "cell_type": "markdown",
   "source": [
    "\n",
    "# Exercises\n",
    "\n",
    "### Exercise 1. Manually change content of merged file\n",
    "\n",
    "Create a script that opens the merged file created with the code in the tutorial above. Replace all words \"neutral\" with \"neu\" and save the edited file under a new name.\n"
   ],
   "metadata": {
    "collapsed": false
   }
  },
  {
   "cell_type": "code",
   "execution_count": 12,
   "outputs": [],
   "source": [
    "# your code here"
   ],
   "metadata": {
    "collapsed": false
   }
  },
  {
   "cell_type": "markdown",
   "source": [
    "\n",
    "### Exercise 2. Copy renamed files to another location\n",
    "\n",
    "Run the following code to create a folder structure with 10 dummy textfiles nested into 10 folders. Assume that the text files reflect data belonging to ten participants."
   ],
   "metadata": {
    "collapsed": false
   }
  },
  {
   "cell_type": "code",
   "execution_count": 13,
   "outputs": [],
   "source": [
    "import os\n",
    "import shutil\n",
    "\n",
    "# recursively remove folder tutorial_data2 and its content\n",
    "#shutil.rmtree(\"tutorial_data2\")\n",
    "\n",
    "# create the tutorial_data directory\n",
    "if not os.path.exists('tutorial_data2'):\n",
    "    os.makedirs('tutorial_data2')\n",
    "\n",
    "# create the subdirectories\n",
    "for i in range(1, 11):\n",
    "    directory_name = os.path.join('tutorial_data2', str(i))\n",
    "    if not os.path.exists(directory_name):\n",
    "        os.makedirs(directory_name)\n",
    "\n",
    "# create the text files\n",
    "for i in range(1, 11):\n",
    "    directory_name = os.path.join('tutorial_data2', str(i))\n",
    "    file_name = os.path.join(directory_name, 'file.txt')\n",
    "    with open(file_name, 'w') as f:\n",
    "        for j in range(1,100):\n",
    "            f.write('Hello world. \\t This is another column with line number ' + str(j) + '\\n')\n"
   ],
   "metadata": {
    "collapsed": false
   }
  },
  {
   "cell_type": "markdown",
   "source": [
    "Now create a new script that creates a copy of all text files just created and put this copy into the main folder (tutorial_data2). Change the name of the copies file so that the participant number (1..10) is stored into the file name in this format file_pp1.txt, file_pp2.txt, etc.\n"
   ],
   "metadata": {
    "collapsed": false
   },
   "outputs": []
  },
  {
   "cell_type": "markdown",
   "source": [
    "### Exercise 3. Add information as a new column to the textfile\n",
    "\n",
    "Create a script that opens the textfiles you created in exercise 2 and that addz the name of its file as a first column (assume data is tab-delimited), so that each file consists of three columns."
   ],
   "metadata": {
    "collapsed": false
   },
   "outputs": []
  },
  {
   "cell_type": "markdown",
   "source": [
    "### Exercise 4. Merge the new textfiles to a single textfile\n",
    "\n",
    "Create a script that merges all files created in Exercise 3 into a single text file. Start the text file with a header indicating file name, column 2, and column 3 separated by tabs.\n",
    "\n",
    "Open the tab-delimited text file in a spreadsheet program and check whether it opens properly in 3-column format."
   ],
   "metadata": {
    "collapsed": false
   }
  }
 ],
 "metadata": {
  "kernelspec": {
   "display_name": "Python 3",
   "language": "python",
   "name": "python3"
  },
  "language_info": {
   "codemirror_mode": {
    "name": "ipython",
    "version": 2
   },
   "file_extension": ".py",
   "mimetype": "text/x-python",
   "name": "python",
   "nbconvert_exporter": "python",
   "pygments_lexer": "ipython2",
   "version": "2.7.6"
  }
 },
 "nbformat": 4,
 "nbformat_minor": 0
}
