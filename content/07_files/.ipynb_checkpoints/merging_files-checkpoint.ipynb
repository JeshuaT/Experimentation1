{
 "cells": [
  {
   "cell_type": "markdown",
   "metadata": {},
   "source": [
    "# Merging logfiles OpenSesame\n",
    "\n",
    "> **Warning** During this tutorial we are going to work with files. You learn to create, copy, move, and delete files! Make sure you run your scripts in a location where you are allowed to edit files and that this location does not contain other files. Be careful and make sure you do not accidentially delete or move other files (copying is safer then moving or deleting!). Make backups of important files on your computer before continuing. The sandbox of Google Colab is a safe (more protected) environment to work with files.\n",
    "\n",
    "## Introduction\n",
    "OpenSesame creates a logfile separately for each participant you run. In this tutorial we show a way to merge these logfiles by assuming they all have exactly the same format (i.e., they have identical headers). This is not necessarily the case if you run slightly different versions of the experiment for different participants! Note that during the datawrangling tutorial in a later session, you will learn about a different way to merge logfiles that is more flexible.\n",
    "\n",
    "## Step 1. Get OpenSesame data from osf\n",
    "Let's use some python code to download existing OpenSesame data of a Stroop task from [osf](https://osf.io/7ma4t/). Note that the code below creates a folder called `tutorial_data` in your current working directory. Run the code below."
   ]
  },
  {
   "cell_type": "code",
   "execution_count": 9,
   "metadata": {},
   "outputs": [
    {
     "ename": "SyntaxError",
     "evalue": "invalid syntax (1394112069.py, line 23)",
     "output_type": "error",
     "traceback": [
      "\u001b[1;36m  Input \u001b[1;32mIn [9]\u001b[1;36m\u001b[0m\n\u001b[1;33m    os.remove('./tutorial_data/CI_RSI2000_test.csv') # remove one file that is atypical\u001b[0m\n\u001b[1;37m    ^\u001b[0m\n\u001b[1;31mSyntaxError\u001b[0m\u001b[1;31m:\u001b[0m invalid syntax\n"
     ]
    }
   ],
   "source": [
    "import requests\n",
    "import shutil\n",
    "import os\n",
    "\n",
    "# recursively remove folder main and its content, do this if you want to start again with\n",
    "#shutil.rmtree('tutorial_data')\n",
    "\n",
    "# create the main directory\n",
    "if not os.path.exists('tutorial_data'):\n",
    "    os.makedirs('tutorial_data')\n",
    "\n",
    "# download the zip file\n",
    "url = 'https://osf.io/download/3d9er/'\n",
    "r = requests.get(url, allow_redirects=True)\n",
    "open('./tutorial_data/data_pilot.zip', 'wb').write(r.content)\n",
    "\n",
    "# extract the zip file\n",
    "import zipfile\n",
    "with zipfile.ZipFile('./tutorial_data/data_pilot.zip', 'r') as zip_ref:\n",
    "    zip_ref.extractall('./tutorial_data/'\n",
    "\n",
    "#os.remove removes files! Always be careful!\n",
    "os.remove('./tutorial_data/CI_RSI2000_test.csv') # remove one file that is atypical\n"
   ]
  },
  {
   "cell_type": "markdown",
   "metadata": {},
   "source": [
    "Check whether the data is properly stored and extracted. Open a csv file to see it's content.\n",
    "\n",
    "## Step 2. Create a loop that finds all files in a particular directory\n",
    "Let's now create a loop that prints all the filesnames found by the os.listdir function and counts the number of files found."
   ]
  },
  {
   "cell_type": "code",
   "execution_count": null,
   "metadata": {},
   "outputs": [],
   "source": [
    "# Change this to the folder that contains the .csv files\n",
    "SRC_FOLDER = './tutorial_data/data/'\n",
    "\n",
    "filecount = 0\n",
    "for basename in os.listdir(SRC_FOLDER):\n",
    "    path = os.path.join(SRC_FOLDER, basename)\n",
    "    print('Reading ',path)\n",
    "    filecount = filecount + 1\n",
    "print('Number of files considered for merge:',filecount)\n"
   ]
  },
  {
   "cell_type": "markdown",
   "metadata": {},
   "source": [
    "## Step 3. Merge all files into one csv file\n",
    "As a next step, we are going to read in each file line by line and write them to a new merged file.\n",
    "\n",
    "To create the new merged file and close the handle at the end use the following commands:"
   ]
  },
  {
   "cell_type": "code",
   "execution_count": null,
   "metadata": {},
   "outputs": [],
   "source": [
    "fout = open('./tutorial_data/merged.csv', 'w')\n",
    "#... do stuff\n",
    "fout.close()"
   ]
  },
  {
   "cell_type": "markdown",
   "metadata": {},
   "source": [
    "To read in a file line by line and save each line to the merged file use this loop:"
   ]
  },
  {
   "cell_type": "code",
   "execution_count": null,
   "metadata": {},
   "outputs": [],
   "source": [
    "fhand = open(path)\n",
    "for line in fhand:\n",
    "    fout.write(line)\n",
    "fhand.close()"
   ]
  },
  {
   "cell_type": "markdown",
   "metadata": {},
   "source": [
    " Insert these code snippets in the code we just created at the right locations:\n"
   ]
  },
  {
   "cell_type": "code",
   "execution_count": null,
   "metadata": {},
   "outputs": [],
   "source": [
    "# Change this to the folder that contains the .csv files\n",
    "SRC_FOLDER = './tutorial_data/data/'\n",
    "# ... your code here\n",
    "\n",
    "filecount = 0\n",
    "for basename in os.listdir(SRC_FOLDER):\n",
    "    path = os.path.join(SRC_FOLDER, basename)\n",
    "    print('Reading ',path)\n",
    "    # ... your code here\n",
    "    filecount = filecount + 1\n",
    "print('Number of files considered for merge:',filecount)\n",
    "# ... your code here"
   ]
  },
  {
   "cell_type": "markdown",
   "metadata": {},
   "source": [
    "Run the code and check whether a merged file is created."
   ]
  },
  {
   "cell_type": "markdown",
   "metadata": {},
   "source": [
    "## Step 4. Save the header only once\n",
    "Let's adapt the code and use the header only once, that is when processing the first file (defined by filecount == 0). By definition the header of a file is always the first line of this file.\n",
    "\n",
    "In order to keep track of the line numbers per file, we use a separate counter for this, which is reset (assign value 0 to linecount) when a new file is processed.\n",
    "\n",
    "The code below now checks whether in the loop we process the header, i.e. the first line (linecount == 0) or not. If it is not the header, we write this line to the merged file. If it is the header, we check whether it is the first file (filecount == 0), in which case we write this line. If it is not the first file, we do write the first line. Actually we do nothing (yet), but given that python does not allow to have an empty else branch of a conditional we use the `pass` command for now as a placeholder (in the next step we will add code here)."
   ]
  },
  {
   "cell_type": "code",
   "execution_count": null,
   "metadata": {},
   "outputs": [],
   "source": [
    "# Change this to the folder that contains the .csv files\n",
    "import os\n",
    "\n",
    "\n",
    "SRC_FOLDER = './tutorial_data/data/'\n",
    "fout = open('./tutorial_data/merged.csv', 'w')\n",
    "\n",
    "filecount = 0\n",
    "for basename in os.listdir(SRC_FOLDER):\n",
    "    path = os.path.join(SRC_FOLDER, basename)\n",
    "    print('Reading ',path)\n",
    "    fhand = open(path)\n",
    "    linecount = 0 # reset linecount because we process a new file\n",
    "    for line in fhand:\n",
    "        if linecount == 0:\n",
    "            if filecount == 0:\n",
    "                #header first file\n",
    "                fout.write(line)\n",
    "            else:\n",
    "                # do not write header here\n",
    "                pass # placeholder for future code\n",
    "        else:\n",
    "            fout.write(line)\n",
    "        linecount = linecount + 1\n",
    "    fhand.close()\n",
    "    filecount = filecount + 1\n",
    "print('Number of files considered for merge:',filecount)\n",
    "fout.close()"
   ]
  },
  {
   "cell_type": "markdown",
   "metadata": {},
   "source": [
    "Run the code above and check whether it works.\n",
    "\n",
    "## Step 5. Only merge files if they have the same header\n",
    "Now, as final step, let's make the merging of files conditional on the fact whether the header of any new file to be added is identical to the header of the first file that is used as reference header. To make this work, we need a separate flag variable (of type boolean which is True or False) we call state_write_this_file in the script below. This variable indicates for a given moment whether the file the script is currently working one is a valid file to use for the merging (state_write_this_file == True) or not (state_write_this_file == False).\n",
    "\n",
    "We need quite a complex logic now, so it is good to use a piece of paper to write it out! In the flow diagram below we have visualized the logic of the code for you. Note that the elements in the red squares have to be added in the current step.\n",
    "\n",
    "![](images/join_files_logic.png)\n",
    "\n"
   ]
  },
  {
   "cell_type": "code",
   "execution_count": null,
   "metadata": {},
   "outputs": [],
   "source": [
    "# Change this to the folder that contains the .csv files\n",
    "SRC_FOLDER = './tutorial_data/data/'\n",
    "\n",
    "fout = open('./tutorial_data/merged.csv', 'w')\n",
    "\n",
    "filecount = 0\n",
    "filecountmerged = 0\n",
    "for basename in os.listdir(SRC_FOLDER):\n",
    "    path = os.path.join(SRC_FOLDER, basename)\n",
    "    if path !=  \"./tutorial_data/data/CI_RSI2000_test.csv\":\n",
    "        print('Reading {}'.format(path))\n",
    "        fhand = open(path)\n",
    "        linecount = 0\n",
    "        for line in fhand:\n",
    "\n",
    "            #print('number of commas: ',line.count(','))\n",
    "            if linecount == 0:\n",
    "                if filecount == 0:\n",
    "                    #header first file\n",
    "                    refheader =  line\n",
    "                    fout.write(line)\n",
    "                    write_this_file = True\n",
    "                else:\n",
    "                    #check whether current header matches refheader\n",
    "                    if line == refheader:\n",
    "                        write_this_file = True\n",
    "                        filecountmerged = filecountmerged + 1\n",
    "                    else:\n",
    "                        write_this_file = False\n",
    "            else:\n",
    "                if write_this_file:\n",
    "                    fout.write(line)\n",
    "            linecount = linecount + 1\n",
    "        print('Line Count:', linecount)\n",
    "        fhand.close()\n",
    "        filecount = filecount + 1\n",
    "fout.close()\n",
    "print('Number of files considered for merge:',filecount,\". Merged: \",filecountmerged)\n"
   ]
  },
  {
   "cell_type": "markdown",
   "metadata": {},
   "source": [
    "\n",
    "# Exercises\n",
    "\n",
    "### Exercise 1. Count number of files merged\n",
    "Add a counter to the script created in the tutorial that keeps the number of files that are merged. Add this number in the print message at the end of the script."
   ]
  },
  {
   "cell_type": "code",
   "execution_count": null,
   "metadata": {},
   "outputs": [],
   "source": [
    "# your code here"
   ]
  },
  {
   "cell_type": "markdown",
   "metadata": {},
   "source": [
    "### Exercise 2. Manually change content of merged file\n",
    "\n",
    "Create a script that opens the merged file created with the code in the tutorial above. Replace all words \"neutral\" with \"neu\" and save the edited file under a new name."
   ]
  },
  {
   "cell_type": "code",
   "execution_count": null,
   "metadata": {},
   "outputs": [],
   "source": [
    "# your code here"
   ]
  },
  {
   "cell_type": "markdown",
   "metadata": {},
   "source": [
    "\n",
    "### Exercise 3. Copy renamed files to another location\n",
    "\n",
    "Run the following code to create a folder structure with 10 dummy textfiles nested into 10 folders. Assume that the text files reflect data belonging to ten participants."
   ]
  },
  {
   "cell_type": "code",
   "execution_count": null,
   "metadata": {},
   "outputs": [],
   "source": [
    "import os\n",
    "import shutil\n",
    "\n",
    "# recursively remove folder tutorial_data2 and its content\n",
    "#shutil.rmtree(\"tutorial_data2\")\n",
    "\n",
    "# create the tutorial_data directory\n",
    "if not os.path.exists('tutorial_data2'):\n",
    "    os.makedirs('tutorial_data2')\n",
    "\n",
    "# create the subdirectories\n",
    "for i in range(1, 11):\n",
    "    directory_name = os.path.join('tutorial_data2', str(i))\n",
    "    if not os.path.exists(directory_name):\n",
    "        os.makedirs(directory_name)\n",
    "\n",
    "# create the text files\n",
    "for i in range(1, 11):\n",
    "    directory_name = os.path.join('tutorial_data2', str(i))\n",
    "    file_name = os.path.join(directory_name, 'file.txt')\n",
    "    with open(file_name, 'w') as f:\n",
    "        for j in range(1,100):\n",
    "            f.write('Hello world. \\t This is another column with line number ' + str(j) + '\\n')\n"
   ]
  },
  {
   "cell_type": "markdown",
   "metadata": {},
   "source": [
    "Now create a new script that creates a copy of all text files just created and put this copy into the main folder (tutorial_data2). Change the name of the copies file so that the participant number (1..10) is stored into the file name in this format file_pp1.txt, file_pp2.txt, etc.\n"
   ]
  },
  {
   "cell_type": "code",
   "execution_count": null,
   "metadata": {},
   "outputs": [],
   "source": [
    "# your code here"
   ]
  },
  {
   "cell_type": "markdown",
   "metadata": {},
   "source": [
    "### Exercise 4. Add information as a new column to the textfile\n",
    "\n",
    "Create a script that opens the textfiles you created in exercise 2 and that addz the name of its file as a first column (assume data is tab-delimited), so that each file consists of three columns."
   ]
  },
  {
   "cell_type": "code",
   "execution_count": null,
   "metadata": {},
   "outputs": [],
   "source": [
    "# your code here"
   ]
  },
  {
   "cell_type": "markdown",
   "metadata": {},
   "source": [
    "### Exercise 5. Merge the new textfiles to a single textfile\n",
    "\n",
    "Create a script that merges all files created in Exercise 3 into a single text file. Start the text file with a header indicating file name, column 2, and column 3 separated by tabs.\n",
    "\n",
    "Open the tab-delimited text file in a spreadsheet program and check whether it opens properly in 3-column format."
   ]
  },
  {
   "cell_type": "code",
   "execution_count": null,
   "metadata": {},
   "outputs": [],
   "source": [
    "# your code here"
   ]
  }
 ],
 "metadata": {
  "kernelspec": {
   "display_name": "Python 3 (ipykernel)",
   "language": "python",
   "name": "python3"
  },
  "language_info": {
   "codemirror_mode": {
    "name": "ipython",
    "version": 3
   },
   "file_extension": ".py",
   "mimetype": "text/x-python",
   "name": "python",
   "nbconvert_exporter": "python",
   "pygments_lexer": "ipython3",
   "version": "3.9.12"
  }
 },
 "nbformat": 4,
 "nbformat_minor": 1
}
