{
 "cells": [
  {
   "cell_type": "markdown",
   "source": [
    "# Python exercises: Functions"
   ],
   "metadata": {
    "collapsed": false
   },
   "outputs": []
  },
  {
   "cell_type": "markdown",
   "source": [
    "> **Note** The exercises below are  adapted from the [Python for Everyone Course](https://www.py4e.com/html3/04-functions) by Charles R. Severance licensed under Creative Commons Attribution 3.0"
   ],
   "metadata": {
    "collapsed": false
   }
  },
  {
   "cell_type": "markdown",
   "source": [
    "### Exercise 1. Sequence of function calls\n",
    "\n",
    "What will the following Python program print out?\n",
    "\n",
    "```\n",
    "def fred():\n",
    "   print(\"Zap\")\n",
    "\n",
    "def jane():\n",
    "   print(\"ABC\")\n",
    "\n",
    "jane()\n",
    "fred()\n",
    "jane()\n",
    "```\n",
    "\n",
    "a) Zap ABC jane fred jane\n",
    "b) Zap ABC Zap\n",
    "c) ABC Zap jane\n",
    "d) ABC Zap ABC\n",
    "e) Zap Zap Zap\n",
    "\n",
    "Check your answer by running the code\n",
    "\n",
    "### Exercise 2. Pay computation with a function\n",
    "\n",
    "Rewrite your pay computation with time-and-a-half for overtime and create a function called computepay which takes two parameters (hours and rate).\n",
    "\n",
    "```\n",
    "Enter Hours: 45\n",
    "Enter Rate: 10\n",
    "Pay: 475.0\n",
    "```\n",
    "\n",
    "### Exercise 3. Grade calculation using a function\n",
    "\n",
    "Rewrite the grade program from the previous session using a function called computegrade that takes a score as its parameter and returns a grade as a string.\n",
    "\n",
    " Score   Grade\n",
    "\\>= 0.9     A\n",
    "\\>= 0.8     B\n",
    "\\>= 0.7     C\n",
    "\\>= 0.6     D\n",
    " < 0.6     F\n",
    "\n",
    "```\n",
    "Enter score: 0.95\n",
    "A\n",
    "Enter score: perfect\n",
    "Bad score\n",
    "Enter score: 10.0\n",
    "Bad score\n",
    "Enter score: 0.75\n",
    "C\n",
    "Enter score: 0.5\n",
    "F\n",
    "```\n",
    "\n",
    "Run the program repeatedly to test the various different values for input.\n",
    "\n",
    "### Exercise 4. Check age of your participant\n",
    "\n",
    "Rewrite the check age program from the previous session using a function that takes the age and the name and returns the message as a string.\n",
    "\n",
    "\n",
    "\n"
   ],
   "metadata": {
    "collapsed": false
   }
  }
 ],
 "metadata": {
  "kernelspec": {
   "display_name": "Python 3",
   "language": "python",
   "name": "python3"
  },
  "language_info": {
   "codemirror_mode": {
    "name": "ipython",
    "version": 2
   },
   "file_extension": ".py",
   "mimetype": "text/x-python",
   "name": "python",
   "nbconvert_exporter": "python",
   "pygments_lexer": "ipython2",
   "version": "2.7.6"
  }
 },
 "nbformat": 4,
 "nbformat_minor": 0
}
