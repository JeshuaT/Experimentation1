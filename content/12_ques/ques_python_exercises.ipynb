{
 "cells": [
  {
   "cell_type": "markdown",
   "metadata": {},
   "source": [
    "# Python exercises: Canvas\n",
    "\n",
    "TODO\n"
   ]
  },
  {
   "cell_type": "code",
   "execution_count": null,
   "metadata": {
    "pycharm": {
     "is_executing": true
    }
   },
   "outputs": [],
   "source": [
    "from tkinter import *\n",
    "\n",
    "window = Tk()\n",
    "\n",
    "canvas = Canvas(window,height=500,width=500)\n",
    "#canvas.create_line(0,0,500,500,fill=\"blue\",width=5)\n",
    "#canvas.create_line(0,500,500,0,fill=\"red\",width=5)\n",
    "#canvas.create_rectangle(50,50,250,250,fill=\"purple\")\n",
    "#points = [250,0,500,500,0,500]\n",
    "#canvas.create_polygon(points,fill=\"yellow\",outline=\"black\",width=5)\n",
    "#canvas.create_arc(0,0,500,500,style=PIESLICE,start=270,width=5)\n",
    "canvas.create_arc(0,0,500,500,fill=\"red\",extent=180,width=10)\n",
    "canvas.create_arc(0,0,500,500,fill=\"white\",extent=180,start=180,width=10)\n",
    "canvas.create_oval(190,190,310,310,fill=\"white\",width=10)\n",
    "canvas.pack()\n",
    "\n",
    "window.mainloop()"
   ]
  },
  {
   "cell_type": "code",
   "execution_count": null,
   "metadata": {},
   "outputs": [],
   "source": []
  }
 ],
 "metadata": {
  "kernelspec": {
   "display_name": "Python 3 (ipykernel)",
   "language": "python",
   "name": "python3"
  },
  "language_info": {
   "codemirror_mode": {
    "name": "ipython",
    "version": 3
   },
   "file_extension": ".py",
   "mimetype": "text/x-python",
   "name": "python",
   "nbconvert_exporter": "python",
   "pygments_lexer": "ipython3",
   "version": "3.9.12"
  }
 },
 "nbformat": 4,
 "nbformat_minor": 1
}
