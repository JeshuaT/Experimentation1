{
 "cells": [
  {
   "cell_type": "markdown",
   "metadata": {},
   "source": [
    "# Python exercises: Canvas\n",
    "\n",
    "### Exercise 1. Create a countdown timer\n"
   ]
  },
  {
   "cell_type": "code",
   "execution_count": 25,
   "metadata": {
    "pycharm": {
     "is_executing": true
    }
   },
   "outputs": [],
   "source": [
    "from tkinter import *\n",
    "\n",
    "window = Tk()\n",
    "\n",
    "canvas = Canvas(window,height=500,width=500)\n",
    "#canvas.create_line(0,0,500,500,fill=\"blue\",width=5)\n",
    "#canvas.create_line(0,500,500,0,fill=\"red\",width=5)\n",
    "#canvas.create_rectangle(50,50,250,250,fill=\"purple\")\n",
    "#points = [250,0,500,500,0,500]\n",
    "#canvas.create_polygon(points,fill=\"yellow\",outline=\"black\",width=5)\n",
    "#canvas.create_arc(0,0,500,500,style=PIESLICE,start=270,width=5)\n",
    "canvas.create_arc(0,0,500,500,fill=\"red\",extent=180,width=10)\n",
    "canvas.create_arc(0,0,500,500,fill=\"white\",extent=180,start=180,width=10)\n",
    "canvas.create_oval(190,190,310,310,fill=\"white\",width=10)\n",
    "canvas.pack()\n",
    "\n",
    "window.mainloop()"
   ]
  },
  {
   "cell_type": "code",
   "execution_count": 58,
   "metadata": {},
   "outputs": [
    {
     "name": "stdout",
     "output_type": "stream",
     "text": [
      "00\n"
     ]
    },
    {
     "ename": "TypeError",
     "evalue": "can only concatenate str (not \"NoneType\") to str",
     "output_type": "error",
     "traceback": [
      "\u001b[1;31m---------------------------------------------------------------------------\u001b[0m",
      "\u001b[1;31mTypeError\u001b[0m                                 Traceback (most recent call last)",
      "Input \u001b[1;32mIn [58]\u001b[0m, in \u001b[0;36m<cell line: 13>\u001b[1;34m()\u001b[0m\n\u001b[0;32m     15\u001b[0m canvas\u001b[38;5;241m.\u001b[39mcreate_arc(\u001b[38;5;241m0\u001b[39m,\u001b[38;5;241m0\u001b[39m,\u001b[38;5;241m500\u001b[39m,\u001b[38;5;241m500\u001b[39m,fill\u001b[38;5;241m=\u001b[39m\u001b[38;5;124m\"\u001b[39m\u001b[38;5;124mgray\u001b[39m\u001b[38;5;124m\"\u001b[39m,start\u001b[38;5;241m=\u001b[39m\u001b[38;5;241m90\u001b[39m,extent\u001b[38;5;241m=\u001b[39mi\u001b[38;5;241m*\u001b[39m\u001b[38;5;241m360\u001b[39m\u001b[38;5;241m/\u001b[39m\u001b[38;5;241m30\u001b[39m,width\u001b[38;5;241m=\u001b[39m\u001b[38;5;241m1\u001b[39m)\n\u001b[0;32m     16\u001b[0m canvas\u001b[38;5;241m.\u001b[39mcreate_oval(\u001b[38;5;241m50\u001b[39m,\u001b[38;5;241m50\u001b[39m,\u001b[38;5;241m450\u001b[39m,\u001b[38;5;241m450\u001b[39m,fill\u001b[38;5;241m=\u001b[39m\u001b[38;5;124m\"\u001b[39m\u001b[38;5;124mwhite\u001b[39m\u001b[38;5;124m\"\u001b[39m,width\u001b[38;5;241m=\u001b[39m\u001b[38;5;241m1\u001b[39m)\n\u001b[1;32m---> 17\u001b[0m canvas\u001b[38;5;241m.\u001b[39mcreate_text(\u001b[38;5;241m250\u001b[39m, \u001b[38;5;241m250\u001b[39m, text\u001b[38;5;241m=\u001b[39m\u001b[38;5;124;43m\"\u001b[39;49m\u001b[38;5;124;43m00\u001b[39;49m\u001b[38;5;124;43m\"\u001b[39;49m\u001b[38;5;241;43m+\u001b[39;49m\u001b[38;5;28;43mprint\u001b[39;49m\u001b[43m(\u001b[49m\u001b[38;5;124;43m\"\u001b[39;49m\u001b[38;5;132;43;01m%02d\u001b[39;49;00m\u001b[38;5;124;43m\"\u001b[39;49m\u001b[43m \u001b[49m\u001b[38;5;241;43m%\u001b[39;49m\u001b[43m \u001b[49m\u001b[43m(\u001b[49m\u001b[43mi\u001b[49m\u001b[43m,\u001b[49m\u001b[43m)\u001b[49m\u001b[43m)\u001b[49m, fill\u001b[38;5;241m=\u001b[39m\u001b[38;5;124m\"\u001b[39m\u001b[38;5;124mblack\u001b[39m\u001b[38;5;124m\"\u001b[39m, font\u001b[38;5;241m=\u001b[39m(\u001b[38;5;124m'\u001b[39m\u001b[38;5;124mHelvetica 80 bold\u001b[39m\u001b[38;5;124m'\u001b[39m))\n\u001b[0;32m     19\u001b[0m canvas\u001b[38;5;241m.\u001b[39mpack()\n\u001b[0;32m     20\u001b[0m \u001b[38;5;66;03m#canvas.create_arc(0,0,500,500,fill=\"red\",start=360/30*i,width=10)\u001b[39;00m\n\u001b[0;32m     21\u001b[0m \u001b[38;5;66;03m#canvas.create_arc(0,0,500,500,fill=\"red\",extent=360,width=10)\u001b[39;00m\n\u001b[0;32m     22\u001b[0m \u001b[38;5;66;03m#canvas.pack()\u001b[39;00m\n",
      "\u001b[1;31mTypeError\u001b[0m: can only concatenate str (not \"NoneType\") to str"
     ]
    }
   ],
   "source": [
    "import time\n",
    "\n",
    "window = Tk()\n",
    "canvas = Canvas(window,height=500,width=500)\n",
    "\n",
    "#canvas.create_arc(0,0,500,500,fill=\"white\",extent=360,start=90,width=10)\n",
    "canvas.create_oval(0,0,500,500,fill=\"red\",width=1)\n",
    "#canvas.create_arc(0,0,500,500,fill=\"white\",extent=360,width=10)\n",
    "canvas.create_oval(50,50,450,450,fill=\"white\",width=1)\n",
    "canvas.pack()\n",
    "window.update()\n",
    "\n",
    "for i in range(30+1):\n",
    "    #canvas = Canvas(window,height=500,width=500)\n",
    "    canvas.create_arc(0,0,500,500,fill=\"gray\",start=90,extent=i*360/30,width=1)\n",
    "    canvas.create_oval(50,50,450,450,fill=\"white\",width=1)\n",
    "    canvas.create_text(250, 250, text=\"00\"+str(i).zfill(2), fill=\"black\", font=('Helvetica 80 bold'))\n",
    "    \n",
    "    canvas.pack()\n",
    "    #canvas.create_arc(0,0,500,500,fill=\"red\",start=360/30*i,width=10)\n",
    "    #canvas.create_arc(0,0,500,500,fill=\"red\",extent=360,width=10)\n",
    "    #canvas.pack()\n",
    "    window.update()\n",
    "    time.sleep(1)\n",
    "    \n",
    "window.mainloop()\n",
    "\n"
   ]
  },
  {
   "cell_type": "code",
   "execution_count": 62,
   "metadata": {},
   "outputs": [
    {
     "name": "stdout",
     "output_type": "stream",
     "text": [
      "03\n"
     ]
    }
   ],
   "source": [
    "i = 3\n",
    "\n",
    "text = print(\"%02d\" % (i,))"
   ]
  },
  {
   "cell_type": "code",
   "execution_count": null,
   "metadata": {},
   "outputs": [],
   "source": []
  }
 ],
 "metadata": {
  "kernelspec": {
   "display_name": "Python 3 (ipykernel)",
   "language": "python",
   "name": "python3"
  },
  "language_info": {
   "codemirror_mode": {
    "name": "ipython",
    "version": 3
   },
   "file_extension": ".py",
   "mimetype": "text/x-python",
   "name": "python",
   "nbconvert_exporter": "python",
   "pygments_lexer": "ipython3",
   "version": "3.9.12"
  }
 },
 "nbformat": 4,
 "nbformat_minor": 1
}
