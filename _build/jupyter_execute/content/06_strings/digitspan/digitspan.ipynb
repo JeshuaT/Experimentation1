{
 "cells": [
  {
   "cell_type": "markdown",
   "metadata": {},
   "source": [
    "# Digital Span Task in OpenSesame"
   ]
  },
  {
   "cell_type": "markdown",
   "metadata": {},
   "outputs": [],
   "source": [
    "## Step 1: Download OpenSesame file and adapt it\n",
    "\n",
    "Download the Digit Span task created by [Grant M. Berry](https://github.com/berrygrant/OpenSesame) using the following download [link](https://minhaskamal.github.io/DownGit/#/home?url=https:%2F%2Fgithub.com%2Fberrygrant%2FOpenSesame%2Fblob%2Fmaster%2FDigitSpan_Sequential.osexp).\n",
    "\n",
    "Open the file in OpenSesame and try to understand how this experiment works.\n",
    "\n",
    "Let's first make the layout of the loop nicer and reorder the columns in the `Conditions` loop. This is not easy to do in OpenSesame, so use Excel (or other spreadsheet software) instead.\n",
    "\n",
    "If you use Excel use the following steps:\n",
    "1. Copy the entire content of the loop (including headers) to a new sheet in Excel using the clipboard.\n",
    "2. Sort the entire table on the first row after having set the sort options to `left to right`.\n",
    "\n",
    "See the screenshot below:\n",
    "\n",
    "![](images/resort_loop.png)\n",
    "\n",
    "3. Copy this table and paste it back into the OpenSesame loop after you have deleted all columns first (Ctrl-A > remove all columns).\n",
    "\n",
    "Your loop should now look like:\n",
    "\n",
    "![](images/loop_resorted.png)\n",
    "\n",
    "Please note that Nback indicates the span of the sequence presented in the corresponding trial.\n",
    "\n",
    "Interestingly, if you run the program it always starts with span 3. Why is this the case?\n",
    "\n",
    "TODO Quiz\n",
    "\n",
    "Change all Weights to 1. This is easier for debugging later.\n",
    "\n",
    "TODO Quiz After changing the weights, how many trials are presented?\n"
   ]
  },
  {
   "cell_type": "markdown",
   "metadata": {
    "collapsed": false
   },
   "outputs": [],
   "source": [
    "## Step 2: Change number stimuli into letters\n",
    "At the moment the `GenerateNums` assigns values to the experiment variables `num0` up to `num9`. So, when span 10 is reached it will use 10 different numbers. This is done at two moments (the same script is called in two locations!): at the beginning of the experiment (before the loop runs) and at the end of each trial, i.e. before a new trial is prepared.\n",
    "\n",
    "This is the first part of this code:"
   ]
  },
  {
   "cell_type": "markdown",
   "metadata": {
    "collapsed": false
   },
   "source": [
    "\n",
    "```\n",
    "nums=[1,2,3,4,5,6,8,9]\n",
    "random.shuffle(nums)\n",
    "num0=random.choice(nums)\n",
    "num1=random.choice(nums)\n",
    "num2=random.choice(nums)\n",
    "num3=random.choice(nums)\n",
    "num4=random.choice(nums)\n",
    "num5=random.choice(nums)\n",
    "num6=random.choice(nums)\n",
    "num7=random.choice(nums)\n",
    "num8=random.choice(nums)\n",
    "num9=random.choice(nums)\n",
    "```"
   ]
  },
  {
   "cell_type": "markdown",
   "metadata": {
    "collapsed": false
   },
   "source": [
    "In the remainder of the code the temporary variables are used to assign the values to the experimental variables using the exp.set method.\n",
    "\n",
    "However, the experiment is programmed in such a way that number 7 has a special status: if a value in a sequence equals 7 it is skipped (see the Run if conditionals in the `Trials` sequences. This may be the reason why the creator of this task decided to pick random numbers from the range [1,2,3,4,5,6,8,9] WITH replacement.\n",
    "\n",
    "Let's change the task a little bit by using letters instead of numbers and let's not allow for using the same value multiple times (random WITHOUT replacement). To do so, we can randomly shuffle the order of a range of letters and use a unique location from this reshuffled range for each of the 10 experiment variables (`num0` up to `num9`).\n",
    "\n",
    "In order to do so, change the piece of code indicated above in the following (complete the ... lines). We are going to create the relevant code in the browser first and will paste it into OpenSesame later on.\n",
    "\n",
    "Complete the code below and run it in the browser:"
   ]
  },
  {
   "cell_type": "code",
   "execution_count": 20,
   "metadata": {
    "collapsed": false
   },
   "outputs": [
    {
     "name": "stdout",
     "output_type": "stream",
     "text": [
      "H\n",
      "C\n"
     ]
    }
   ],
   "source": [
    "import random\n",
    "nums=[\"A\",\"B\",\"C\",\"D\",\"E\",\"F\",\"G\",\"H\",\"I\",\"J\"]\n",
    "random.shuffle(nums)\n",
    "num0=nums[0]\n",
    "num1=nums[1]\n",
    "num2=nums[2]\n",
    "num3=nums[3]\n",
    "num4=nums[4]\n",
    "#...\n",
    "#...\n",
    "#...\n",
    "#...\n",
    "#...\n",
    "print(num0)\n",
    "print(num1)\n",
    "#...\n",
    "#...\n",
    "#...\n",
    "#...\n",
    "#..."
   ]
  },
  {
   "cell_type": "markdown",
   "metadata": {},
   "source": [
    "As a next step, we can simply concatenate all nine variables to a single string and print the content (again: complete the code at ...)"
   ]
  },
  {
   "cell_type": "code",
   "execution_count": 21,
   "metadata": {},
   "outputs": [
    {
     "name": "stdout",
     "output_type": "stream",
     "text": [
      "HCIDF\n"
     ]
    }
   ],
   "source": [
    "import random\n",
    "seq_presented = num0 + num1 + num2 + num3 + num4 # + ...\n",
    "print(seq_presented)"
   ]
  },
  {
   "cell_type": "markdown",
   "metadata": {},
   "source": [
    "The Run-If logic in the `Trials` sequences only presents the first x items, depending on the current Nback span. Let's therefore print only the number of characters that is indicated in the Nback variable.\n",
    "\n",
    "The code below does this. Check whether it works if you change Nback to another number."
   ]
  },
  {
   "cell_type": "code",
   "execution_count": 22,
   "metadata": {},
   "outputs": [
    {
     "name": "stdout",
     "output_type": "stream",
     "text": [
      "HC\n"
     ]
    }
   ],
   "source": [
    "Nback = 2\n",
    "seq_presented = seq_presented[0:Nback]\n",
    "print(seq_presented)"
   ]
  },
  {
   "cell_type": "markdown",
   "metadata": {},
   "source": [
    "Let's now make it even more fancy and raise an exception if current_span \\> maximum length of the sequence. This can be done using the following code:"
   ]
  },
  {
   "cell_type": "code",
   "execution_count": 23,
   "metadata": {},
   "outputs": [
    {
     "ename": "Exception",
     "evalue": "Invalid value for Nback (4)",
     "output_type": "error",
     "traceback": [
      "\u001b[1;31m---------------------------------------------------------------------------\u001b[0m",
      "\u001b[1;31mException\u001b[0m                                 Traceback (most recent call last)",
      "Input \u001b[1;32mIn [23]\u001b[0m, in \u001b[0;36m<cell line: 2>\u001b[1;34m()\u001b[0m\n\u001b[0;32m      1\u001b[0m Nback \u001b[38;5;241m=\u001b[39m \u001b[38;5;241m4\u001b[39m\n\u001b[0;32m      2\u001b[0m \u001b[38;5;28;01mif\u001b[39;00m Nback \u001b[38;5;241m>\u001b[39m \u001b[38;5;28mlen\u001b[39m(seq_presented):\n\u001b[1;32m----> 3\u001b[0m     \u001b[38;5;28;01mraise\u001b[39;00m \u001b[38;5;167;01mException\u001b[39;00m(\u001b[38;5;124m'\u001b[39m\u001b[38;5;124mInvalid value for Nback (\u001b[39m\u001b[38;5;132;01m%s\u001b[39;00m\u001b[38;5;124m)\u001b[39m\u001b[38;5;124m'\u001b[39m \u001b[38;5;241m%\u001b[39m Nback)\n\u001b[0;32m      5\u001b[0m seq_presented \u001b[38;5;241m=\u001b[39m seq_presented[\u001b[38;5;241m0\u001b[39m:Nback]\n\u001b[0;32m      6\u001b[0m \u001b[38;5;28mprint\u001b[39m(seq_presented)\n",
      "\u001b[1;31mException\u001b[0m: Invalid value for Nback (4)"
     ]
    }
   ],
   "source": [
    "Nback = 4\n",
    "if Nback > len(seq_presented):\n",
    "    raise Exception('Invalid value for Nback (%s)' % Nback)\n",
    "\n",
    "seq_presented = seq_presented[0:Nback]\n",
    "print(seq_presented)"
   ]
  },
  {
   "cell_type": "markdown",
   "metadata": {},
   "outputs": [],
   "source": [
    "\n",
    "If your code works well in the browser, let's go back to OpenSesame and add it in the proper locations: the code for the presented stimuli should be inserted into `GenerateNums` and replace the part that refers to numbers.\n",
    "\n",
    "In addition, add a python inline script before the logger and call it `process_trial`\n",
    "\n",
    "Add the code that calculates the `seq_presented` in this inline.\n",
    "\n",
    "Make sure you start  references to the relevant variables in OpenSesame with `var.` so OpenSesame knows these are experimental variables that can be accessed in the gui and can be properly logged.\n",
    "\n",
    "> **Note** The temporary variables and the experimental variables have the same names in the original example. This is not recommended because it will become very confusing. If you use vars.num0=nums[0], you no longer need the exp.set(\"num0\",num0) lines.\n",
    "\n",
    "Run the experiment. Do you see the correct letters presented?\n",
    "\n",
    "TODO Quiz: Are all variables you used in the python automatically logged?\n",
    "\n"
   ]
  },
  {
   "cell_type": "markdown",
   "metadata": {
    "collapsed": false
   },
   "source": [
    "\n",
    "## Step 3: Provide feedback\n",
    "\n",
    "Let's now add some python code to provide real-time feedback to the participant that indicated whether the answer provided was correct. Again, let's first try this out in the browser.\n",
    "\n",
    "In order to compare whether the response of the user (logged in the `response` experiment variable in OpenSesame, see `Answer` object) equals the actual sequences presented we can use the following code. Change the value assigned to response to test whether this works properly."
   ]
  },
  {
   "cell_type": "code",
   "execution_count": null,
   "metadata": {},
   "outputs": [],
   "source": [
    "response = \"fcd\"\n",
    "if (response == seq_presented):\n",
    "    print(\"Correct sequence\")\n",
    "else:\n",
    "    print(\"Incorrect sequence\")"
   ]
  },
  {
   "cell_type": "markdown",
   "metadata": {},
   "source": [
    "Let's now make the code a bit smarter. First, let's make the comparison insentive to the case by making all letters captical using the `.upper` function. Second, let's remove spaces that could have been accidentially added by the user using the `.strip` function. Test whether the following code works:"
   ]
  },
  {
   "cell_type": "code",
   "execution_count": null,
   "metadata": {},
   "outputs": [],
   "source": [
    "response = \"dgiec\"\n",
    "response = response.upper()\n",
    "response = response.strip()\n",
    "if (response == seq_presented):\n",
    "    fbtext = \"Correct sequence\"\n",
    "else:\n",
    "    fbtext = \"Incorrect sequence\"\n",
    "print(fbtext)"
   ]
  },
  {
   "cell_type": "markdown",
   "metadata": {},
   "source": [
    "Finally, let's also calculate the number of correctly retrieved items, ignoring the order:"
   ]
  },
  {
   "cell_type": "code",
   "execution_count": null,
   "metadata": {},
   "outputs": [],
   "source": [
    "num_correct = 0\n",
    "num_total = len(response)\n",
    "for char in response:\n",
    "    if (seq_presented.find(char)) > -1:\n",
    "        num_correct = num_correct + 1\n",
    "print(num_correct)"
   ]
  },
  {
   "cell_type": "markdown",
   "metadata": {},
   "source": [
    "If all the code in step 3 works properly, add it to the proper location in the `process_trial` inline. Do not forget to add `var.` to all variables.\n",
    "\n",
    "Insert a `feedback item` after the `process_trial` inline and show the relevant information calculated by the script, like in the example below:\n",
    "\n",
    "![](images/feedback.png)\n",
    "\n",
    "Also make sure you properly log all variables. Test your experiment!\n",
    "\n",
    "# Exercises\n",
    "### Exercise 1. Abort the experiment when four trials in a row are incorrect\n",
    "\n",
    "Count the number of trials in a row in which the answer is incorrect. If there are more than four trials in a row abort the experiment.\n",
    "\n",
    "### Exercise 2. Recollect the sequence in reversed order\n",
    "Ask participants to recollect the sequence in reversed order. Change your script so that it check whether the answer matches the sequence in reversed order.\n"
   ]
  }
 ],
 "metadata": {
  "kernelspec": {
   "display_name": "Python 3 (ipykernel)",
   "language": "python",
   "name": "python3"
  },
  "language_info": {
   "codemirror_mode": {
    "name": "ipython",
    "version": 3
   },
   "file_extension": ".py",
   "mimetype": "text/x-python",
   "name": "python",
   "nbconvert_exporter": "python",
   "pygments_lexer": "ipython3",
   "version": "3.9.12"
  }
 },
 "nbformat": 4,
 "nbformat_minor": 1
}