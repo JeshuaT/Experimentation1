{
 "cells": [
  {
   "cell_type": "markdown",
   "metadata": {
    "collapsed": false
   },
   "outputs": [],
   "source": [
    "# Python exercises: Loops"
   ]
  },
  {
   "cell_type": "markdown",
   "metadata": {
    "collapsed": false
   },
   "source": [
    "> The exercises below are  adapted from the [Python for Everyone Course](https://www.py4e.com/html3/05-iterations) by Charles R. Severance licensed under Creative Commons Attribution 3.0\n",
    "\n",
    "Exercise 1: Write a program which repeatedly reads numbers until the user enters “done”. Once “done” is entered, print out the total, count, and average of the numbers. If the user enters anything other than a number, detect their mistake using try and except and print an error message and skip to the next number.\n",
    "\n",
    "Enter a number: 4\n",
    "Enter a number: 5\n",
    "Enter a number: bad data\n",
    "Invalid input\n",
    "Enter a number: 7\n",
    "Enter a number: done\n",
    "16 3 5.333333333333333\n",
    "Exercise 2: Write another program that prompts for a list of numbers as above and at the end prints out both the maximum and minimum of the numbers instead of the average."
   ]
  }
 ],
 "metadata": {
  "kernelspec": {
   "display_name": "Python 3",
   "language": "python",
   "name": "python3"
  },
  "language_info": {
   "codemirror_mode": {
    "name": "ipython",
    "version": 3
   },
   "file_extension": ".py",
   "mimetype": "text/x-python",
   "name": "python",
   "nbconvert_exporter": "python",
   "pygments_lexer": "ipython3",
   "version": "3.6.5"
  }
 },
 "nbformat": 4,
 "nbformat_minor": 0
}