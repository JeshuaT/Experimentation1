{
 "cells": [
  {
   "cell_type": "markdown",
   "metadata": {},
   "outputs": [],
   "source": [
    "# Python exercises: Canvas\n",
    "\n",
    "### Exercise 1. Reproduce the pokeball\n",
    "Reproduce the pokeball as explained during the video in today's lessons."
   ]
  },
  {
   "cell_type": "code",
   "execution_count": 1,
   "metadata": {
    "collapsed": false
   },
   "outputs": [],
   "source": [
    "from tkinter import *\n",
    "\n",
    "window = Tk()\n",
    "\n",
    "canvas = Canvas(window,height=500,width=500)\n",
    "#canvas.create_line(0,0,500,500,fill=\"blue\",width=5)\n",
    "#canvas.create_line(0,500,500,0,fill=\"red\",width=5)\n",
    "#canvas.create_rectangle(50,50,250,250,fill=\"purple\")\n",
    "#points = [250,0,500,500,0,500]\n",
    "#canvas.create_polygon(points,fill=\"yellow\",outline=\"black\",width=5)\n",
    "#canvas.create_arc(0,0,500,500,style=PIESLICE,start=270,width=5)\n",
    "canvas.create_arc(0,0,500,500,fill=\"red\",extent=180,width=10)\n",
    "canvas.create_arc(0,0,500,500,fill=\"white\",extent=180,start=180,width=10)\n",
    "canvas.create_oval(190,190,310,310,fill=\"white\",width=10)\n",
    "canvas.pack()\n",
    "\n",
    "window.mainloop()"
   ]
  },
  {
   "cell_type": "markdown",
   "metadata": {
    "collapsed": false
   },
   "source": [
    "### Exercise 2. Create a animated countdown timer\n",
    "Adapt he pokeball in such a way that you create an animated countdown timer that counts from 30 to 0 seconds and shows a red arc that become smaller with time.\n",
    "![](images/countdowntimer.png)\n",
    "\n",
    "### Exercise 3. Advanced countdown timer\n",
    "Ask the user how many seconds they want to wait and run the timer with this value. Check whether the value is not higher than fits in the display (59m:59s).\n"
   ]
  },
  {
   "cell_type": "code",
   "execution_count": 2,
   "metadata": {},
   "outputs": [],
   "source": [
    "from tkinter import *\n",
    "import time\n",
    "\n",
    "window = Tk()\n",
    "canvas = Canvas(window,height=500,width=500)\n",
    "\n",
    "#canvas.create_arc(0,0,500,500,fill=\"white\",extent=360,start=90,width=10)\n",
    "canvas.create_oval(0,0,500,500,fill=\"red\",width=1)\n",
    "#canvas.create_arc(0,0,500,500,fill=\"white\",extent=360,width=10)\n",
    "canvas.create_oval(50,50,450,450,fill=\"white\",width=1)\n",
    "canvas.pack()\n",
    "window.update()\n",
    "\n",
    "for i in range(30+1):\n",
    "    #canvas = Canvas(window,height=500,width=500)\n",
    "    canvas.create_arc(0,0,500,500,fill=\"gray\",start=90,extent=i*360/30,width=1)\n",
    "    canvas.create_oval(50,50,450,450,fill=\"white\",width=1)\n",
    "    canvas.create_text(250, 250, text=\"00:\"+str(30-i).zfill(2), fill=\"black\", font=('Helvetica 80 bold'))\n",
    "    \n",
    "    canvas.pack()\n",
    "    #canvas.create_arc(0,0,500,500,fill=\"red\",start=360/30*i,width=10)\n",
    "    #canvas.create_arc(0,0,500,500,fill=\"red\",extent=360,width=10)\n",
    "    #canvas.pack()\n",
    "    window.update()\n",
    "    time.sleep(1)\n",
    "    \n",
    "window.mainloop()\n",
    "\n"
   ]
  }
 ],
 "metadata": {
  "kernelspec": {
   "display_name": "Python 3 (ipykernel)",
   "language": "python",
   "name": "python3"
  },
  "language_info": {
   "codemirror_mode": {
    "name": "ipython",
    "version": 3
   },
   "file_extension": ".py",
   "mimetype": "text/x-python",
   "name": "python",
   "nbconvert_exporter": "python",
   "pygments_lexer": "ipython3",
   "version": "3.6.5"
  }
 },
 "nbformat": 4,
 "nbformat_minor": 1
}