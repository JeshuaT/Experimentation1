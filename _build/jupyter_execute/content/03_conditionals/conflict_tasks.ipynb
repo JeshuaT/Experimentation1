{
 "cells": [
  {
   "cell_type": "markdown",
   "metadata": {
    "collapsed": false
   },
   "source": [
    "# Stroop and flanker tasks in OpenSesame\n",
    "> The text below is adapted from the [OpenSesame guide](https://osf.io/awjcn/files/osfstorage/5c40682f7cf3f50019ba60b0/?pid=awjcn) by James E. Bartlett licensed under CC-By Attribution 4.0 International."
   ]
  },
  {
   "cell_type": "markdown",
   "metadata": {
    "collapsed": false
   },
   "source": [
    "## Stroop task\n",
    "TODO\n",
    "https://osf.io/awjcn/files/osfstorage/5c40682f7cf3f50019ba60b0/?pid=awjcn\n",
    "\n",
    "## Flanker task\n",
    "TODO\n",
    "https://osf.io/awjcn/files/osfstorage/5c40682f7cf3f50019ba60b0/?pid=awjcn\n",
    "\n",
    "## Exercises\n",
    "\n",
    "### Excercise 0. Change the number of trials\n",
    "refer to Brysbaert\n",
    "\n",
    "### Excercise 1. Stop practice block when performance is sufficient\n",
    "\n",
    "Open the flanker task you created earlier in OpenSesame. Change the number of trials in the practice phase to 100. Create a script that counts the number of practice trials. Stop the practice block if at least 10 trials have been presented and the accuracy is at least 80%. Abort the experiment if this criterion is still not met after 100 trials.\n",
    "\n",
    "### Excercise 2. Calculate average correct reaction time\n",
    "Only correct reaction times.\n",
    "\n",
    "### Excercise 3. Counterbalancing: Even or odd participant number\n",
    "\n",
    "TODO elif!\n",
    "\n",
    "\n",
    "\n",
    "\n"
   ]
  },
  {
   "cell_type": "code",
   "execution_count": null,
   "metadata": {
    "collapsed": false
   },
   "outputs": [],
   "source": []
  }
 ],
 "metadata": {
  "kernelspec": {
   "display_name": "Python 3",
   "language": "python",
   "name": "python3"
  },
  "language_info": {
   "codemirror_mode": {
    "name": "ipython",
    "version": 3
   },
   "file_extension": ".py",
   "mimetype": "text/x-python",
   "name": "python",
   "nbconvert_exporter": "python",
   "pygments_lexer": "ipython3",
   "version": "3.6.5"
  }
 },
 "nbformat": 4,
 "nbformat_minor": 0
}