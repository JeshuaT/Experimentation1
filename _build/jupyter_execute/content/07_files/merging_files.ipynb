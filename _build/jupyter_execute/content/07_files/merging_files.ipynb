{
 "cells": [
  {
   "cell_type": "markdown",
   "metadata": {
    "collapsed": false
   },
   "source": [
    "# Merging logfiles OpenSesame"
   ]
  },
  {
   "cell_type": "markdown",
   "metadata": {
    "collapsed": false
   },
   "source": [
    "TODO"
   ]
  },
  {
   "cell_type": "code",
   "execution_count": 2,
   "metadata": {
    "collapsed": false
   },
   "outputs": [],
   "source": [
    "from matplotlib import pyplot as plt\n",
    "import os\n",
    "\n",
    "import numpy as np\n",
    "\n",
    "from datamatrix import DataMatrix, io, operations as ops\n",
    "\n",
    "import pandas as pd\n"
   ]
  },
  {
   "cell_type": "markdown",
   "metadata": {
    "collapsed": false
   },
   "source": [
    "Now a text here"
   ]
  },
  {
   "cell_type": "code",
   "execution_count": 3,
   "metadata": {
    "collapsed": false
   },
   "outputs": [
    {
     "name": "stdout",
     "output_type": "stream",
     "text": [
      "      ID         acc accept_status    accuracy  age  average_response_time  \\\n",
      "0     14  100.000000           yes  100.000000   23                  17079   \n",
      "1     34  100.000000           yes  100.000000   23                  13885   \n",
      "2     12  100.000000           yes  100.000000   23                  11807   \n",
      "3      5   85.714286           yes   85.714286   23                  10212   \n",
      "4     31   87.500000           yes   87.500000   23                   9018   \n",
      "..   ...         ...           ...         ...  ...                    ...   \n",
      "271    3   97.472924           yes   97.472924   23                    980   \n",
      "272   45   97.482014           yes   97.482014   23                    979   \n",
      "273  100   97.491039           yes   97.491039   23                    977   \n",
      "274  110   97.500000           yes   97.500000   23                    976   \n",
      "275   29   97.508897           yes   97.508897   23                    974   \n",
      "\n",
      "     avg_rt background bidi     block  ... time_practice time_stroop  \\\n",
      "0     17079    #ffffff   no  practice  ...        123799      123895   \n",
      "1     13885    #ffffff   no  practice  ...        123799      126701   \n",
      "2     11807    #ffffff   no  practice  ...        123799      129972   \n",
      "3     10212    #ffffff   no  practice  ...        123799      133556   \n",
      "4      9018    #ffffff   no  practice  ...        123799      136370   \n",
      "..      ...        ...  ...       ...  ...           ...         ...   \n",
      "271     980    #ffffff   no         I  ...        123799      917937   \n",
      "272     979    #ffffff   no         I  ...        123799      920705   \n",
      "273     977    #ffffff   no         I  ...        123799      923590   \n",
      "274     976    #ffffff   no         I  ...        123799      926349   \n",
      "275     974    #ffffff   no         I  ...        123799      929072   \n",
      "\n",
      "    time_target      title total_correct total_response_time  total_responses  \\\n",
      "0        124469  Stroop CI             4               68319                4   \n",
      "1        127275  Stroop CI             5               69428                5   \n",
      "2        130547  Stroop CI             6               70842                6   \n",
      "3        134130  Stroop CI             6               71484                7   \n",
      "4        136944  Stroop CI             7               72150                8   \n",
      "..          ...        ...           ...                 ...              ...   \n",
      "271      918511  Stroop CI           270              271492              277   \n",
      "272      921279  Stroop CI           271              272211              278   \n",
      "273      924164  Stroop CI           272              272818              279   \n",
      "274      926925  Stroop CI           273              273312              280   \n",
      "275      929647  Stroop CI           274              273802              281   \n",
      "\n",
      "    uniform_coordinates width    word  \n",
      "0                   yes  1366     RED  \n",
      "1                   yes  1366     LOT  \n",
      "2                   yes  1366   GREEN  \n",
      "3                   yes  1366   GREEN  \n",
      "4                   yes  1366     LOT  \n",
      "..                  ...   ...     ...  \n",
      "271                 yes  1366    BLUE  \n",
      "272                 yes  1366  YELLOW  \n",
      "273                 yes  1366    BLUE  \n",
      "274                 yes  1366   KNIFE  \n",
      "275                 yes  1366     RED  \n",
      "\n",
      "[276 rows x 124 columns]\n"
     ]
    }
   ],
   "source": [
    "df = pd.read_csv('data/subject-0_CI.csv')\n",
    "print(df)"
   ]
  },
  {
   "cell_type": "code",
   "execution_count": 4,
   "metadata": {
    "collapsed": false
   },
   "outputs": [
    {
     "data": {
      "text/html": [
       "<div>\n",
       "<style scoped>\n",
       "    .dataframe tbody tr th:only-of-type {\n",
       "        vertical-align: middle;\n",
       "    }\n",
       "\n",
       "    .dataframe tbody tr th {\n",
       "        vertical-align: top;\n",
       "    }\n",
       "\n",
       "    .dataframe thead th {\n",
       "        text-align: right;\n",
       "    }\n",
       "</style>\n",
       "<table border=\"1\" class=\"dataframe\">\n",
       "  <thead>\n",
       "    <tr style=\"text-align: right;\">\n",
       "      <th></th>\n",
       "      <th>ID</th>\n",
       "      <th>acc</th>\n",
       "      <th>accept_status</th>\n",
       "      <th>accuracy</th>\n",
       "      <th>age</th>\n",
       "      <th>average_response_time</th>\n",
       "      <th>avg_rt</th>\n",
       "      <th>background</th>\n",
       "      <th>bidi</th>\n",
       "      <th>block</th>\n",
       "      <th>...</th>\n",
       "      <th>time_practice</th>\n",
       "      <th>time_stroop</th>\n",
       "      <th>time_target</th>\n",
       "      <th>title</th>\n",
       "      <th>total_correct</th>\n",
       "      <th>total_response_time</th>\n",
       "      <th>total_responses</th>\n",
       "      <th>uniform_coordinates</th>\n",
       "      <th>width</th>\n",
       "      <th>word</th>\n",
       "    </tr>\n",
       "  </thead>\n",
       "  <tbody>\n",
       "    <tr>\n",
       "      <th>0</th>\n",
       "      <td>14</td>\n",
       "      <td>100.000000</td>\n",
       "      <td>yes</td>\n",
       "      <td>100.000000</td>\n",
       "      <td>23</td>\n",
       "      <td>17079</td>\n",
       "      <td>17079</td>\n",
       "      <td>#ffffff</td>\n",
       "      <td>no</td>\n",
       "      <td>practice</td>\n",
       "      <td>...</td>\n",
       "      <td>123799</td>\n",
       "      <td>123895</td>\n",
       "      <td>124469</td>\n",
       "      <td>Stroop CI</td>\n",
       "      <td>4</td>\n",
       "      <td>68319</td>\n",
       "      <td>4</td>\n",
       "      <td>yes</td>\n",
       "      <td>1366</td>\n",
       "      <td>RED</td>\n",
       "    </tr>\n",
       "    <tr>\n",
       "      <th>1</th>\n",
       "      <td>34</td>\n",
       "      <td>100.000000</td>\n",
       "      <td>yes</td>\n",
       "      <td>100.000000</td>\n",
       "      <td>23</td>\n",
       "      <td>13885</td>\n",
       "      <td>13885</td>\n",
       "      <td>#ffffff</td>\n",
       "      <td>no</td>\n",
       "      <td>practice</td>\n",
       "      <td>...</td>\n",
       "      <td>123799</td>\n",
       "      <td>126701</td>\n",
       "      <td>127275</td>\n",
       "      <td>Stroop CI</td>\n",
       "      <td>5</td>\n",
       "      <td>69428</td>\n",
       "      <td>5</td>\n",
       "      <td>yes</td>\n",
       "      <td>1366</td>\n",
       "      <td>LOT</td>\n",
       "    </tr>\n",
       "    <tr>\n",
       "      <th>2</th>\n",
       "      <td>12</td>\n",
       "      <td>100.000000</td>\n",
       "      <td>yes</td>\n",
       "      <td>100.000000</td>\n",
       "      <td>23</td>\n",
       "      <td>11807</td>\n",
       "      <td>11807</td>\n",
       "      <td>#ffffff</td>\n",
       "      <td>no</td>\n",
       "      <td>practice</td>\n",
       "      <td>...</td>\n",
       "      <td>123799</td>\n",
       "      <td>129972</td>\n",
       "      <td>130547</td>\n",
       "      <td>Stroop CI</td>\n",
       "      <td>6</td>\n",
       "      <td>70842</td>\n",
       "      <td>6</td>\n",
       "      <td>yes</td>\n",
       "      <td>1366</td>\n",
       "      <td>GREEN</td>\n",
       "    </tr>\n",
       "    <tr>\n",
       "      <th>3</th>\n",
       "      <td>5</td>\n",
       "      <td>85.714286</td>\n",
       "      <td>yes</td>\n",
       "      <td>85.714286</td>\n",
       "      <td>23</td>\n",
       "      <td>10212</td>\n",
       "      <td>10212</td>\n",
       "      <td>#ffffff</td>\n",
       "      <td>no</td>\n",
       "      <td>practice</td>\n",
       "      <td>...</td>\n",
       "      <td>123799</td>\n",
       "      <td>133556</td>\n",
       "      <td>134130</td>\n",
       "      <td>Stroop CI</td>\n",
       "      <td>6</td>\n",
       "      <td>71484</td>\n",
       "      <td>7</td>\n",
       "      <td>yes</td>\n",
       "      <td>1366</td>\n",
       "      <td>GREEN</td>\n",
       "    </tr>\n",
       "    <tr>\n",
       "      <th>4</th>\n",
       "      <td>31</td>\n",
       "      <td>87.500000</td>\n",
       "      <td>yes</td>\n",
       "      <td>87.500000</td>\n",
       "      <td>23</td>\n",
       "      <td>9018</td>\n",
       "      <td>9018</td>\n",
       "      <td>#ffffff</td>\n",
       "      <td>no</td>\n",
       "      <td>practice</td>\n",
       "      <td>...</td>\n",
       "      <td>123799</td>\n",
       "      <td>136370</td>\n",
       "      <td>136944</td>\n",
       "      <td>Stroop CI</td>\n",
       "      <td>7</td>\n",
       "      <td>72150</td>\n",
       "      <td>8</td>\n",
       "      <td>yes</td>\n",
       "      <td>1366</td>\n",
       "      <td>LOT</td>\n",
       "    </tr>\n",
       "    <tr>\n",
       "      <th>...</th>\n",
       "      <td>...</td>\n",
       "      <td>...</td>\n",
       "      <td>...</td>\n",
       "      <td>...</td>\n",
       "      <td>...</td>\n",
       "      <td>...</td>\n",
       "      <td>...</td>\n",
       "      <td>...</td>\n",
       "      <td>...</td>\n",
       "      <td>...</td>\n",
       "      <td>...</td>\n",
       "      <td>...</td>\n",
       "      <td>...</td>\n",
       "      <td>...</td>\n",
       "      <td>...</td>\n",
       "      <td>...</td>\n",
       "      <td>...</td>\n",
       "      <td>...</td>\n",
       "      <td>...</td>\n",
       "      <td>...</td>\n",
       "      <td>...</td>\n",
       "    </tr>\n",
       "    <tr>\n",
       "      <th>271</th>\n",
       "      <td>3</td>\n",
       "      <td>97.472924</td>\n",
       "      <td>yes</td>\n",
       "      <td>97.472924</td>\n",
       "      <td>23</td>\n",
       "      <td>980</td>\n",
       "      <td>980</td>\n",
       "      <td>#ffffff</td>\n",
       "      <td>no</td>\n",
       "      <td>I</td>\n",
       "      <td>...</td>\n",
       "      <td>123799</td>\n",
       "      <td>917937</td>\n",
       "      <td>918511</td>\n",
       "      <td>Stroop CI</td>\n",
       "      <td>270</td>\n",
       "      <td>271492</td>\n",
       "      <td>277</td>\n",
       "      <td>yes</td>\n",
       "      <td>1366</td>\n",
       "      <td>BLUE</td>\n",
       "    </tr>\n",
       "    <tr>\n",
       "      <th>272</th>\n",
       "      <td>45</td>\n",
       "      <td>97.482014</td>\n",
       "      <td>yes</td>\n",
       "      <td>97.482014</td>\n",
       "      <td>23</td>\n",
       "      <td>979</td>\n",
       "      <td>979</td>\n",
       "      <td>#ffffff</td>\n",
       "      <td>no</td>\n",
       "      <td>I</td>\n",
       "      <td>...</td>\n",
       "      <td>123799</td>\n",
       "      <td>920705</td>\n",
       "      <td>921279</td>\n",
       "      <td>Stroop CI</td>\n",
       "      <td>271</td>\n",
       "      <td>272211</td>\n",
       "      <td>278</td>\n",
       "      <td>yes</td>\n",
       "      <td>1366</td>\n",
       "      <td>YELLOW</td>\n",
       "    </tr>\n",
       "    <tr>\n",
       "      <th>273</th>\n",
       "      <td>100</td>\n",
       "      <td>97.491039</td>\n",
       "      <td>yes</td>\n",
       "      <td>97.491039</td>\n",
       "      <td>23</td>\n",
       "      <td>977</td>\n",
       "      <td>977</td>\n",
       "      <td>#ffffff</td>\n",
       "      <td>no</td>\n",
       "      <td>I</td>\n",
       "      <td>...</td>\n",
       "      <td>123799</td>\n",
       "      <td>923590</td>\n",
       "      <td>924164</td>\n",
       "      <td>Stroop CI</td>\n",
       "      <td>272</td>\n",
       "      <td>272818</td>\n",
       "      <td>279</td>\n",
       "      <td>yes</td>\n",
       "      <td>1366</td>\n",
       "      <td>BLUE</td>\n",
       "    </tr>\n",
       "    <tr>\n",
       "      <th>274</th>\n",
       "      <td>110</td>\n",
       "      <td>97.500000</td>\n",
       "      <td>yes</td>\n",
       "      <td>97.500000</td>\n",
       "      <td>23</td>\n",
       "      <td>976</td>\n",
       "      <td>976</td>\n",
       "      <td>#ffffff</td>\n",
       "      <td>no</td>\n",
       "      <td>I</td>\n",
       "      <td>...</td>\n",
       "      <td>123799</td>\n",
       "      <td>926349</td>\n",
       "      <td>926925</td>\n",
       "      <td>Stroop CI</td>\n",
       "      <td>273</td>\n",
       "      <td>273312</td>\n",
       "      <td>280</td>\n",
       "      <td>yes</td>\n",
       "      <td>1366</td>\n",
       "      <td>KNIFE</td>\n",
       "    </tr>\n",
       "    <tr>\n",
       "      <th>275</th>\n",
       "      <td>29</td>\n",
       "      <td>97.508897</td>\n",
       "      <td>yes</td>\n",
       "      <td>97.508897</td>\n",
       "      <td>23</td>\n",
       "      <td>974</td>\n",
       "      <td>974</td>\n",
       "      <td>#ffffff</td>\n",
       "      <td>no</td>\n",
       "      <td>I</td>\n",
       "      <td>...</td>\n",
       "      <td>123799</td>\n",
       "      <td>929072</td>\n",
       "      <td>929647</td>\n",
       "      <td>Stroop CI</td>\n",
       "      <td>274</td>\n",
       "      <td>273802</td>\n",
       "      <td>281</td>\n",
       "      <td>yes</td>\n",
       "      <td>1366</td>\n",
       "      <td>RED</td>\n",
       "    </tr>\n",
       "  </tbody>\n",
       "</table>\n",
       "<p>276 rows × 124 columns</p>\n",
       "</div>"
      ],
      "text/plain": [
       "      ID         acc accept_status    accuracy  age  average_response_time  \\\n",
       "0     14  100.000000           yes  100.000000   23                  17079   \n",
       "1     34  100.000000           yes  100.000000   23                  13885   \n",
       "2     12  100.000000           yes  100.000000   23                  11807   \n",
       "3      5   85.714286           yes   85.714286   23                  10212   \n",
       "4     31   87.500000           yes   87.500000   23                   9018   \n",
       "..   ...         ...           ...         ...  ...                    ...   \n",
       "271    3   97.472924           yes   97.472924   23                    980   \n",
       "272   45   97.482014           yes   97.482014   23                    979   \n",
       "273  100   97.491039           yes   97.491039   23                    977   \n",
       "274  110   97.500000           yes   97.500000   23                    976   \n",
       "275   29   97.508897           yes   97.508897   23                    974   \n",
       "\n",
       "     avg_rt background bidi     block  ... time_practice time_stroop  \\\n",
       "0     17079    #ffffff   no  practice  ...        123799      123895   \n",
       "1     13885    #ffffff   no  practice  ...        123799      126701   \n",
       "2     11807    #ffffff   no  practice  ...        123799      129972   \n",
       "3     10212    #ffffff   no  practice  ...        123799      133556   \n",
       "4      9018    #ffffff   no  practice  ...        123799      136370   \n",
       "..      ...        ...  ...       ...  ...           ...         ...   \n",
       "271     980    #ffffff   no         I  ...        123799      917937   \n",
       "272     979    #ffffff   no         I  ...        123799      920705   \n",
       "273     977    #ffffff   no         I  ...        123799      923590   \n",
       "274     976    #ffffff   no         I  ...        123799      926349   \n",
       "275     974    #ffffff   no         I  ...        123799      929072   \n",
       "\n",
       "    time_target      title total_correct total_response_time  total_responses  \\\n",
       "0        124469  Stroop CI             4               68319                4   \n",
       "1        127275  Stroop CI             5               69428                5   \n",
       "2        130547  Stroop CI             6               70842                6   \n",
       "3        134130  Stroop CI             6               71484                7   \n",
       "4        136944  Stroop CI             7               72150                8   \n",
       "..          ...        ...           ...                 ...              ...   \n",
       "271      918511  Stroop CI           270              271492              277   \n",
       "272      921279  Stroop CI           271              272211              278   \n",
       "273      924164  Stroop CI           272              272818              279   \n",
       "274      926925  Stroop CI           273              273312              280   \n",
       "275      929647  Stroop CI           274              273802              281   \n",
       "\n",
       "    uniform_coordinates width    word  \n",
       "0                   yes  1366     RED  \n",
       "1                   yes  1366     LOT  \n",
       "2                   yes  1366   GREEN  \n",
       "3                   yes  1366   GREEN  \n",
       "4                   yes  1366     LOT  \n",
       "..                  ...   ...     ...  \n",
       "271                 yes  1366    BLUE  \n",
       "272                 yes  1366  YELLOW  \n",
       "273                 yes  1366    BLUE  \n",
       "274                 yes  1366   KNIFE  \n",
       "275                 yes  1366     RED  \n",
       "\n",
       "[276 rows x 124 columns]"
      ]
     },
     "execution_count": 4,
     "metadata": {},
     "output_type": "execute_result"
    }
   ],
   "source": [
    "df\n"
   ]
  },
  {
   "cell_type": "code",
   "execution_count": 5,
   "metadata": {
    "collapsed": false
   },
   "outputs": [
    {
     "name": "stdout",
     "output_type": "stream",
     "text": [
      "+----+----+---------------+---------------+---------------+-----+-----------------------+\n",
      "| #  | ID |      acc      | accept_status |    accuracy   | age | average_response_time |\n",
      "+----+----+---------------+---------------+---------------+-----+-----------------------+\n",
      "| 0  | 14 |      100      |      yes      |      100      |  23 |         17079         |\n",
      "| 1  | 34 |      100      |      yes      |      100      |  23 |         13885         |\n",
      "| 2  | 12 |      100      |      yes      |      100      |  23 |         11807         |\n",
      "| 3  | 5  | 85.7142857143 |      yes      | 85.7142857143 |  23 |         10212         |\n",
      "| 4  | 31 |      87.5     |      yes      |      87.5     |  23 |          9018         |\n",
      "| 5  | 25 | 88.8888888889 |      yes      | 88.8888888889 |  23 |          8104         |\n",
      "| 6  | 24 |       90      |      yes      |       90      |  23 |          7438         |\n",
      "| 7  | 2  | 90.9090909091 |      yes      | 90.9090909091 |  23 |          6844         |\n",
      "| 8  | 33 | 91.6666666667 |      yes      | 91.6666666667 |  23 |          6339         |\n",
      "| 9  | 9  | 92.3076923077 |      yes      | 92.3076923077 |  23 |          5933         |\n",
      "| 10 | 11 | 92.8571428571 |      yes      | 92.8571428571 |  23 |          5580         |\n",
      "| 11 | 20 | 93.3333333333 |      yes      | 93.3333333333 |  23 |          5267         |\n",
      "| 12 | 17 |     93.75     |      yes      |     93.75     |  23 |          4996         |\n",
      "| 13 | 16 | 94.1176470588 |      yes      | 94.1176470588 |  23 |          4739         |\n",
      "| 14 | 26 | 94.4444444444 |      yes      | 94.4444444444 |  23 |          4510         |\n",
      "| 15 | 22 | 94.7368421053 |      yes      | 94.7368421053 |  23 |          4314         |\n",
      "| 16 | 28 |       95      |      yes      |       95      |  23 |          4128         |\n",
      "| 17 | 29 | 95.2380952381 |      yes      | 95.2380952381 |  23 |          3966         |\n",
      "| 18 | 4  | 95.4545454545 |      yes      | 95.4545454545 |  23 |          3813         |\n",
      "| 19 | 13 |  95.652173913 |      yes      |  95.652173913 |  23 |          3671         |\n",
      "+----+----+---------------+---------------+---------------+-----+-----------------------+\n",
      "(+ 118 columns not shown)\n",
      "(+ 256 rows not shown)\n"
     ]
    }
   ],
   "source": [
    "from datamatrix import io\n",
    "\n",
    "dm = io.readtxt('data/subject-0_CI.csv')\n",
    "print(dm)"
   ]
  },
  {
   "cell_type": "code",
   "execution_count": 94,
   "metadata": {
    "collapsed": false
   },
   "outputs": [
    {
     "name": "stdout",
     "output_type": "stream",
     "text": [
      "+----+----+---------------+---------------+---------------+-----+-----------------------+\n",
      "| #  | ID |      acc      | accept_status |    accuracy   | age | average_response_time |\n",
      "+----+----+---------------+---------------+---------------+-----+-----------------------+\n",
      "| 0  | 14 |      100      |      yes      |      100      |  23 |         17079         |\n",
      "| 1  | 34 |      100      |      yes      |      100      |  23 |         13885         |\n",
      "| 2  | 12 |      100      |      yes      |      100      |  23 |         11807         |\n",
      "| 3  | 5  | 85.7142857143 |      yes      | 85.7142857143 |  23 |         10212         |\n",
      "| 4  | 31 |      87.5     |      yes      |      87.5     |  23 |          9018         |\n",
      "| 5  | 25 | 88.8888888889 |      yes      | 88.8888888889 |  23 |          8104         |\n",
      "| 6  | 24 |       90      |      yes      |       90      |  23 |          7438         |\n",
      "| 7  | 2  | 90.9090909091 |      yes      | 90.9090909091 |  23 |          6844         |\n",
      "| 8  | 33 | 91.6666666667 |      yes      | 91.6666666667 |  23 |          6339         |\n",
      "| 9  | 9  | 92.3076923077 |      yes      | 92.3076923077 |  23 |          5933         |\n",
      "| 10 | 11 | 92.8571428571 |      yes      | 92.8571428571 |  23 |          5580         |\n",
      "| 11 | 20 | 93.3333333333 |      yes      | 93.3333333333 |  23 |          5267         |\n",
      "| 12 | 17 |     93.75     |      yes      |     93.75     |  23 |          4996         |\n",
      "| 13 | 16 | 94.1176470588 |      yes      | 94.1176470588 |  23 |          4739         |\n",
      "| 14 | 26 | 94.4444444444 |      yes      | 94.4444444444 |  23 |          4510         |\n",
      "| 15 | 22 | 94.7368421053 |      yes      | 94.7368421053 |  23 |          4314         |\n",
      "| 16 | 28 |       95      |      yes      |       95      |  23 |          4128         |\n",
      "| 17 | 29 | 95.2380952381 |      yes      | 95.2380952381 |  23 |          3966         |\n",
      "| 18 | 4  | 95.4545454545 |      yes      | 95.4545454545 |  23 |          3813         |\n",
      "| 19 | 13 |  95.652173913 |      yes      |  95.652173913 |  23 |          3671         |\n",
      "+----+----+---------------+---------------+---------------+-----+-----------------------+\n",
      "(+ 118 columns not shown)\n",
      "(+ 256 rows not shown)\n"
     ]
    }
   ],
   "source": [
    "#r\"C:\\Users\\steenbergenhvan1\\surfdrive\\Virtual_P\\My Documents\\Teaching\\2022-2023\\Experimentation I nw style\\Exp1Docs_Shared\\07_Files\\data\"\n",
    "\n",
    "dm = io.readtxt(r\"C:\\Users\\steenbergenhvan1\\surfdrive\\Virtual_P\\My Documents\\Teaching\\2022-2023\\Experimentation I nw style\\Exp1Docs_Shared\\07_Files\\data\\subject-0_CI - copy.csv\")\n",
    "print(dm)"
   ]
  },
  {
   "cell_type": "code",
   "execution_count": null,
   "metadata": {
    "collapsed": false
   },
   "outputs": [],
   "source": []
  },
  {
   "cell_type": "code",
   "execution_count": 6,
   "metadata": {
    "collapsed": false
   },
   "outputs": [
    {
     "name": "stdout",
     "output_type": "stream",
     "text": [
      "Reading data\\CI_RSI2000_test.csv\n",
      "Reading data\\subject-0_CI.csv\n",
      "Reading data\\subject-11_CI.csv\n",
      "Reading data\\subject-12_IC.csv\n",
      "Reading data\\subject-13_CI.csv\n",
      "Reading data\\subject-14_IC.csv\n",
      "Reading data\\subject-1_IC.csv\n",
      "Reading data\\subject-3_CI.csv\n",
      "Reading data\\subject-4_IC.csv\n",
      "Reading data\\subject-5_CI.csv\n",
      "Reading data\\subject-6.csv\n",
      "Reading data\\subject-7_IC.csv\n",
      "Reading data\\subject-9_IC.csv\n"
     ]
    }
   ],
   "source": [
    "# Change this to the folder that contains the .csv files\n",
    "SRC_FOLDER = 'data'\n",
    "# Change this to a list of column names that you want to keep\n",
    "COLUMNS_TO_KEEP = [\n",
    "    'subject_nr',\n",
    "    'congruency',\n",
    "    'response_time',\n",
    "    'acc'\n",
    "]\n",
    "\n",
    "\n",
    "dm = DataMatrix()\n",
    "for basename in os.listdir(SRC_FOLDER):\n",
    "    path = os.path.join(SRC_FOLDER, basename)\n",
    "    print('Reading {}'.format(path))\n",
    "    dm <<= ops.keep_only(io.readtxt(path), *COLUMNS_TO_KEEP)\n",
    "io.writetxt(dm, 'merged-data.csv')\n",
    "\n"
   ]
  },
  {
   "cell_type": "code",
   "execution_count": 7,
   "metadata": {
    "collapsed": false
   },
   "outputs": [
    {
     "data": {
      "text/plain": [
       "[<matplotlib.lines.Line2D at 0x20a45fa4220>]"
      ]
     },
     "execution_count": 7,
     "metadata": {},
     "output_type": "execute_result"
    },
    {
     "data": {
      "image/png": "[encoded data removed]",
      "text/plain": [
       "<Figure size 432x288 with 1 Axes>"
      ]
     },
     "metadata": {
      "filenames": {
       "image/png": "C:\\Users\\trompjj\\DataspellProjects\\Experimentation1\\_build\\jupyter_execute\\content\\07_files\\merging_files_10_1.png"
      },
      "needs_background": "light"
     },
     "output_type": "display_data"
    }
   ],
   "source": [
    "\n",
    "dm = io.readtxt('merged-data.csv')\n",
    "df = pd.read_csv('merged-data.csv')\n",
    "\n",
    "plt.plot(dm.subject_nr, dm.acc, ',')\n"
   ]
  },
  {
   "cell_type": "code",
   "execution_count": 8,
   "metadata": {
    "collapsed": false
   },
   "outputs": [
    {
     "data": {
      "text/html": [
       "<div>\n",
       "<style scoped>\n",
       "    .dataframe tbody tr th:only-of-type {\n",
       "        vertical-align: middle;\n",
       "    }\n",
       "\n",
       "    .dataframe tbody tr th {\n",
       "        vertical-align: top;\n",
       "    }\n",
       "\n",
       "    .dataframe thead th {\n",
       "        text-align: right;\n",
       "    }\n",
       "</style>\n",
       "<table border=\"1\" class=\"dataframe\">\n",
       "  <thead>\n",
       "    <tr style=\"text-align: right;\">\n",
       "      <th>congruency</th>\n",
       "      <th>con</th>\n",
       "      <th>inc</th>\n",
       "      <th>neutral</th>\n",
       "    </tr>\n",
       "    <tr>\n",
       "      <th>subject_nr</th>\n",
       "      <th></th>\n",
       "      <th></th>\n",
       "      <th></th>\n",
       "    </tr>\n",
       "  </thead>\n",
       "  <tbody>\n",
       "    <tr>\n",
       "      <th>0</th>\n",
       "      <td>480</td>\n",
       "      <td>480</td>\n",
       "      <td>144</td>\n",
       "    </tr>\n",
       "    <tr>\n",
       "      <th>1</th>\n",
       "      <td>120</td>\n",
       "      <td>120</td>\n",
       "      <td>36</td>\n",
       "    </tr>\n",
       "    <tr>\n",
       "      <th>3</th>\n",
       "      <td>120</td>\n",
       "      <td>120</td>\n",
       "      <td>36</td>\n",
       "    </tr>\n",
       "    <tr>\n",
       "      <th>4</th>\n",
       "      <td>120</td>\n",
       "      <td>120</td>\n",
       "      <td>36</td>\n",
       "    </tr>\n",
       "    <tr>\n",
       "      <th>5</th>\n",
       "      <td>120</td>\n",
       "      <td>120</td>\n",
       "      <td>36</td>\n",
       "    </tr>\n",
       "    <tr>\n",
       "      <th>6</th>\n",
       "      <td>120</td>\n",
       "      <td>120</td>\n",
       "      <td>36</td>\n",
       "    </tr>\n",
       "    <tr>\n",
       "      <th>9</th>\n",
       "      <td>120</td>\n",
       "      <td>120</td>\n",
       "      <td>36</td>\n",
       "    </tr>\n",
       "    <tr>\n",
       "      <th>11</th>\n",
       "      <td>120</td>\n",
       "      <td>120</td>\n",
       "      <td>36</td>\n",
       "    </tr>\n",
       "    <tr>\n",
       "      <th>12</th>\n",
       "      <td>120</td>\n",
       "      <td>120</td>\n",
       "      <td>36</td>\n",
       "    </tr>\n",
       "    <tr>\n",
       "      <th>13</th>\n",
       "      <td>120</td>\n",
       "      <td>120</td>\n",
       "      <td>36</td>\n",
       "    </tr>\n",
       "  </tbody>\n",
       "</table>\n",
       "</div>"
      ],
      "text/plain": [
       "congruency  con  inc  neutral\n",
       "subject_nr                   \n",
       "0           480  480      144\n",
       "1           120  120       36\n",
       "3           120  120       36\n",
       "4           120  120       36\n",
       "5           120  120       36\n",
       "6           120  120       36\n",
       "9           120  120       36\n",
       "11          120  120       36\n",
       "12          120  120       36\n",
       "13          120  120       36"
      ]
     },
     "execution_count": 8,
     "metadata": {},
     "output_type": "execute_result"
    }
   ],
   "source": [
    "#check counts\n",
    "pd.pivot_table(\n",
    "    dm,\n",
    "    values=\"acc\",\n",
    "    index=[\"subject_nr\"],\n",
    "    columns=[\"congruency\"],\n",
    "    aggfunc=len,\n",
    ")\n"
   ]
  },
  {
   "cell_type": "code",
   "execution_count": 9,
   "metadata": {
    "collapsed": false
   },
   "outputs": [
    {
     "data": {
      "text/plain": [
       "(array([ 3.,  0.,  2.,  7., 10., 10., 21., 17., 18., 21., 19., 31., 37.,\n",
       "        28., 35., 49., 43., 44., 51., 52., 46., 56., 45., 42., 44., 37.,\n",
       "        43., 47., 44., 30., 40., 26., 36., 28., 24., 17., 31., 25., 19.,\n",
       "        21., 21., 18., 19., 21., 15., 15., 11., 10., 13., 12.,  9., 12.,\n",
       "        11.,  7.,  8., 14.,  7.,  9.,  8.,  5.,  7.,  4.,  6.,  5.,  6.,\n",
       "         4.,  3.,  4.,  3.,  7.,  4.,  0.,  1.,  2.,  5.,  5.,  5.,  1.,\n",
       "         1.,  3.,  0.,  1.,  1.,  3.,  1.,  2.,  1.,  1.,  1.,  2.,  0.,\n",
       "         2.,  0.,  0.,  1.,  2.,  2.,  0.,  1., 19.]),\n",
       " array([ 334.  ,  350.66,  367.32,  383.98,  400.64,  417.3 ,  433.96,\n",
       "         450.62,  467.28,  483.94,  500.6 ,  517.26,  533.92,  550.58,\n",
       "         567.24,  583.9 ,  600.56,  617.22,  633.88,  650.54,  667.2 ,\n",
       "         683.86,  700.52,  717.18,  733.84,  750.5 ,  767.16,  783.82,\n",
       "         800.48,  817.14,  833.8 ,  850.46,  867.12,  883.78,  900.44,\n",
       "         917.1 ,  933.76,  950.42,  967.08,  983.74, 1000.4 , 1017.06,\n",
       "        1033.72, 1050.38, 1067.04, 1083.7 , 1100.36, 1117.02, 1133.68,\n",
       "        1150.34, 1167.  , 1183.66, 1200.32, 1216.98, 1233.64, 1250.3 ,\n",
       "        1266.96, 1283.62, 1300.28, 1316.94, 1333.6 , 1350.26, 1366.92,\n",
       "        1383.58, 1400.24, 1416.9 , 1433.56, 1450.22, 1466.88, 1483.54,\n",
       "        1500.2 , 1516.86, 1533.52, 1550.18, 1566.84, 1583.5 , 1600.16,\n",
       "        1616.82, 1633.48, 1650.14, 1666.8 , 1683.46, 1700.12, 1716.78,\n",
       "        1733.44, 1750.1 , 1766.76, 1783.42, 1800.08, 1816.74, 1833.4 ,\n",
       "        1850.06, 1866.72, 1883.38, 1900.04, 1916.7 , 1933.36, 1950.02,\n",
       "        1966.68, 1983.34, 2000.  ]),\n",
       " <BarContainer object of 100 artists>)"
      ]
     },
     "execution_count": 9,
     "metadata": {},
     "output_type": "execute_result"
    },
    {
     "data": {
      "image/png": "[encoded data removed]",
      "text/plain": [
       "<Figure size 576x432 with 1 Axes>"
      ]
     },
     "metadata": {
      "filenames": {
       "image/png": "C:\\Users\\trompjj\\DataspellProjects\\Experimentation1\\_build\\jupyter_execute\\content\\07_files\\merging_files_12_1.png"
      },
      "needs_background": "light"
     },
     "output_type": "display_data"
    }
   ],
   "source": [
    "#datamatrix syntax\n",
    "plt.figure(figsize=(8,6))\n",
    "plt.hist((dm.congruency == 'con').response_time, bins=100, alpha=0.5, label=\"data1\")\n",
    "plt.hist((dm.congruency == 'inc').response_time, bins=100, alpha=0.5, label=\"data2\")\n"
   ]
  },
  {
   "cell_type": "code",
   "execution_count": 16,
   "metadata": {
    "collapsed": false
   },
   "outputs": [
    {
     "data": {
      "text/html": [
       "<div>\n",
       "<style scoped>\n",
       "    .dataframe tbody tr th:only-of-type {\n",
       "        vertical-align: middle;\n",
       "    }\n",
       "\n",
       "    .dataframe tbody tr th {\n",
       "        vertical-align: top;\n",
       "    }\n",
       "\n",
       "    .dataframe thead th {\n",
       "        text-align: right;\n",
       "    }\n",
       "</style>\n",
       "<table border=\"1\" class=\"dataframe\">\n",
       "  <thead>\n",
       "    <tr style=\"text-align: right;\">\n",
       "      <th></th>\n",
       "      <th>acc</th>\n",
       "      <th>congruency</th>\n",
       "      <th>response_time</th>\n",
       "      <th>subject_nr</th>\n",
       "    </tr>\n",
       "  </thead>\n",
       "  <tbody>\n",
       "    <tr>\n",
       "      <th>0</th>\n",
       "      <td>75.000000</td>\n",
       "      <td>neutral</td>\n",
       "      <td>1988</td>\n",
       "      <td>0</td>\n",
       "    </tr>\n",
       "    <tr>\n",
       "      <th>1</th>\n",
       "      <td>80.000000</td>\n",
       "      <td>neutral</td>\n",
       "      <td>1060</td>\n",
       "      <td>0</td>\n",
       "    </tr>\n",
       "    <tr>\n",
       "      <th>2</th>\n",
       "      <td>83.333333</td>\n",
       "      <td>neutral</td>\n",
       "      <td>890</td>\n",
       "      <td>0</td>\n",
       "    </tr>\n",
       "    <tr>\n",
       "      <th>3</th>\n",
       "      <td>85.714286</td>\n",
       "      <td>inc</td>\n",
       "      <td>692</td>\n",
       "      <td>0</td>\n",
       "    </tr>\n",
       "    <tr>\n",
       "      <th>4</th>\n",
       "      <td>87.500000</td>\n",
       "      <td>neutral</td>\n",
       "      <td>1155</td>\n",
       "      <td>0</td>\n",
       "    </tr>\n",
       "  </tbody>\n",
       "</table>\n",
       "</div>"
      ],
      "text/plain": [
       "         acc congruency  response_time  subject_nr\n",
       "0  75.000000    neutral           1988           0\n",
       "1  80.000000    neutral           1060           0\n",
       "2  83.333333    neutral            890           0\n",
       "3  85.714286        inc            692           0\n",
       "4  87.500000    neutral           1155           0"
      ]
     },
     "execution_count": 16,
     "metadata": {},
     "output_type": "execute_result"
    },
    {
     "data": {
      "image/png": "[encoded data removed]",
      "text/plain": [
       "<Figure size 576x432 with 1 Axes>"
      ]
     },
     "metadata": {
      "filenames": {
       "image/png": "C:\\Users\\trompjj\\DataspellProjects\\Experimentation1\\_build\\jupyter_execute\\content\\07_files\\merging_files_13_1.png"
      },
      "needs_background": "light"
     },
     "output_type": "display_data"
    }
   ],
   "source": [
    "#dataframe syntax\n",
    "plt.figure(figsize=(8,6));\n",
    "plt.hist(df.query(\"congruency == 'con'\").response_time, bins=100, alpha=0.5, label=\"data1\");\n",
    "plt.hist(df.query(\"congruency == 'inc'\").response_time, bins=100, alpha=0.5, label=\"data2\");\n"
   ]
  },
  {
   "cell_type": "code",
   "execution_count": 61,
   "metadata": {
    "collapsed": false
   },
   "outputs": [
    {
     "name": "stdout",
     "output_type": "stream",
     "text": [
      "            acc congruency  response_time  subject_nr  rt_zscore\n",
      "0     75.000000    neutral           1988           0   5.312859\n",
      "1     80.000000    neutral           1060           0   1.410521\n",
      "2     83.333333    neutral            890           0   0.695653\n",
      "3     85.714286        inc            692           0  -0.196640\n",
      "4     87.500000    neutral           1155           0   1.810006\n",
      "...         ...        ...            ...         ...        ...\n",
      "3583  88.447653        con            534           9  -0.717676\n",
      "3584  88.489209        con            566           9  -0.560422\n",
      "3585  88.530466        con            688           9   0.039109\n",
      "3586  88.571429    neutral            688           9  -0.311542\n",
      "3587  88.612100        con            617           9  -0.309799\n",
      "\n",
      "[3588 rows x 5 columns]\n"
     ]
    }
   ],
   "source": [
    "\n",
    "#df.head()\n",
    "\n",
    "#df['acc']\n",
    "#df.acc\n",
    "\n",
    "#df.iloc[1]\n",
    "\n",
    "#print(df['congruency'])\n",
    "\n",
    "#df.shape\n",
    "\n",
    "#dfg = df.groupby('subject_nr')\n",
    "#dfg.mean()\n",
    "\n",
    "#df.groupby('subject_nr').agg([np.sum, np.mean, np.std])\n",
    "\n",
    "\n",
    "df['rt_zscore'] = df.groupby(['subject_nr','congruency'])['response_time'].transform(lambda x: (x-x.mean())/x.std())\n",
    "\n",
    "print(df)\n"
   ]
  },
  {
   "cell_type": "code",
   "execution_count": 72,
   "metadata": {
    "collapsed": false
   },
   "outputs": [
    {
     "data": {
      "image/png": "[encoded data removed]",
      "text/plain": [
       "<Figure size 576x432 with 1 Axes>"
      ]
     },
     "metadata": {
      "filenames": {
       "image/png": "C:\\Users\\trompjj\\DataspellProjects\\Experimentation1\\_build\\jupyter_execute\\content\\07_files\\merging_files_15_0.png"
      }
     },
     "output_type": "display_data"
    }
   ],
   "source": [
    "plt.figure(figsize=(8,6));\n",
    "plt.hist(df.query(\"congruency == 'inc' & rt_zscore <= 3\").response_time, bins=100, alpha=0.5, label=\"data1\");\n",
    "plt.hist(df.query(\"congruency == 'inc' & rt_zscore > 3\").response_time, bins=100, alpha=0.5, label=\"data2\");"
   ]
  },
  {
   "cell_type": "code",
   "execution_count": 82,
   "metadata": {
    "collapsed": false
   },
   "outputs": [
    {
     "data": {
      "text/plain": [
       "<seaborn.axisgrid.FacetGrid at 0x20a55c84a90>"
      ]
     },
     "execution_count": 82,
     "metadata": {},
     "output_type": "execute_result"
    },
    {
     "data": {
      "image/png": "[encoded data removed]",
      "text/plain": [
       "<Figure size 714.35x1944 with 27 Axes>"
      ]
     },
     "metadata": {
      "filenames": {
       "image/png": "C:\\Users\\trompjj\\DataspellProjects\\Experimentation1\\_build\\jupyter_execute\\content\\07_files\\merging_files_16_1.png"
      }
     },
     "output_type": "display_data"
    }
   ],
   "source": [
    "import seaborn as sns\n",
    "\n",
    "df['is_outlier'] = df['rt_zscore'] > 3\n",
    "\n",
    "sns.set_theme(style=\"darkgrid\")\n",
    "sns.displot(\n",
    "    df.query(\"subject_nr != 0\"), x=\"response_time\", col=\"congruency\", row=\"subject_nr\",\n",
    "    binwidth=10, height=3, facet_kws=dict(margin_titles=True), hue = \"is_outlier\",\n",
    ")"
   ]
  },
  {
   "cell_type": "code",
   "execution_count": 15,
   "metadata": {
    "collapsed": false
   },
   "outputs": [
    {
     "data": {
      "text/html": [
       "<div>\n",
       "<style scoped>\n",
       "    .dataframe tbody tr th:only-of-type {\n",
       "        vertical-align: middle;\n",
       "    }\n",
       "\n",
       "    .dataframe tbody tr th {\n",
       "        vertical-align: top;\n",
       "    }\n",
       "\n",
       "    .dataframe thead th {\n",
       "        text-align: right;\n",
       "    }\n",
       "</style>\n",
       "<table border=\"1\" class=\"dataframe\">\n",
       "  <thead>\n",
       "    <tr style=\"text-align: right;\">\n",
       "      <th></th>\n",
       "      <th>acc</th>\n",
       "      <th>congruency</th>\n",
       "      <th>response_time</th>\n",
       "      <th>subject_nr</th>\n",
       "    </tr>\n",
       "  </thead>\n",
       "  <tbody>\n",
       "    <tr>\n",
       "      <th>0</th>\n",
       "      <td>75.000000</td>\n",
       "      <td>neutral</td>\n",
       "      <td>1988</td>\n",
       "      <td>0</td>\n",
       "    </tr>\n",
       "    <tr>\n",
       "      <th>1</th>\n",
       "      <td>80.000000</td>\n",
       "      <td>neutral</td>\n",
       "      <td>1060</td>\n",
       "      <td>0</td>\n",
       "    </tr>\n",
       "    <tr>\n",
       "      <th>2</th>\n",
       "      <td>83.333333</td>\n",
       "      <td>neutral</td>\n",
       "      <td>890</td>\n",
       "      <td>0</td>\n",
       "    </tr>\n",
       "    <tr>\n",
       "      <th>3</th>\n",
       "      <td>85.714286</td>\n",
       "      <td>inc</td>\n",
       "      <td>692</td>\n",
       "      <td>0</td>\n",
       "    </tr>\n",
       "    <tr>\n",
       "      <th>4</th>\n",
       "      <td>87.500000</td>\n",
       "      <td>neutral</td>\n",
       "      <td>1155</td>\n",
       "      <td>0</td>\n",
       "    </tr>\n",
       "    <tr>\n",
       "      <th>...</th>\n",
       "      <td>...</td>\n",
       "      <td>...</td>\n",
       "      <td>...</td>\n",
       "      <td>...</td>\n",
       "    </tr>\n",
       "    <tr>\n",
       "      <th>3583</th>\n",
       "      <td>88.447653</td>\n",
       "      <td>con</td>\n",
       "      <td>534</td>\n",
       "      <td>9</td>\n",
       "    </tr>\n",
       "    <tr>\n",
       "      <th>3584</th>\n",
       "      <td>88.489209</td>\n",
       "      <td>con</td>\n",
       "      <td>566</td>\n",
       "      <td>9</td>\n",
       "    </tr>\n",
       "    <tr>\n",
       "      <th>3585</th>\n",
       "      <td>88.530466</td>\n",
       "      <td>con</td>\n",
       "      <td>688</td>\n",
       "      <td>9</td>\n",
       "    </tr>\n",
       "    <tr>\n",
       "      <th>3586</th>\n",
       "      <td>88.571429</td>\n",
       "      <td>neutral</td>\n",
       "      <td>688</td>\n",
       "      <td>9</td>\n",
       "    </tr>\n",
       "    <tr>\n",
       "      <th>3587</th>\n",
       "      <td>88.612100</td>\n",
       "      <td>con</td>\n",
       "      <td>617</td>\n",
       "      <td>9</td>\n",
       "    </tr>\n",
       "  </tbody>\n",
       "</table>\n",
       "<p>3588 rows × 4 columns</p>\n",
       "</div>"
      ],
      "text/plain": [
       "            acc congruency  response_time  subject_nr\n",
       "0     75.000000    neutral           1988           0\n",
       "1     80.000000    neutral           1060           0\n",
       "2     83.333333    neutral            890           0\n",
       "3     85.714286        inc            692           0\n",
       "4     87.500000    neutral           1155           0\n",
       "...         ...        ...            ...         ...\n",
       "3583  88.447653        con            534           9\n",
       "3584  88.489209        con            566           9\n",
       "3585  88.530466        con            688           9\n",
       "3586  88.571429    neutral            688           9\n",
       "3587  88.612100        con            617           9\n",
       "\n",
       "[3588 rows x 4 columns]"
      ]
     },
     "execution_count": 15,
     "metadata": {},
     "output_type": "execute_result"
    }
   ],
   "source": [
    "df"
   ]
  },
  {
   "cell_type": "code",
   "execution_count": 87,
   "metadata": {
    "collapsed": false
   },
   "outputs": [],
   "source": [
    "df_sum = df.query(\"rt_zscore <= 3\").groupby(['subject_nr','congruency'])['response_time'].mean()"
   ]
  },
  {
   "cell_type": "code",
   "execution_count": 88,
   "metadata": {
    "collapsed": false
   },
   "outputs": [
    {
     "data": {
      "text/plain": [
       "subject_nr  congruency\n",
       "0           con            617.957447\n",
       "            inc            720.670213\n",
       "            neutral        702.872340\n",
       "1           con            704.855932\n",
       "            inc            862.016807\n",
       "            neutral        833.777778\n",
       "3           con            843.822034\n",
       "            inc           1108.733333\n",
       "            neutral       1039.571429\n",
       "4           con            893.084746\n",
       "            inc           1094.958333\n",
       "            neutral       1138.527778\n",
       "5           con            756.854701\n",
       "            inc            823.769231\n",
       "            neutral        813.694444\n",
       "6           con            715.529412\n",
       "            inc            833.491525\n",
       "            neutral        857.342857\n",
       "9           con            665.110169\n",
       "            inc            864.487179\n",
       "            neutral        735.714286\n",
       "11          con            650.593220\n",
       "            inc            684.445378\n",
       "            neutral        726.000000\n",
       "12          con            722.508475\n",
       "            inc            799.521368\n",
       "            neutral        724.944444\n",
       "13          con            627.431034\n",
       "            inc            775.016949\n",
       "            neutral        697.805556\n",
       "Name: response_time, dtype: float64"
      ]
     },
     "execution_count": 88,
     "metadata": {},
     "output_type": "execute_result"
    }
   ],
   "source": [
    "df_sum"
   ]
  },
  {
   "cell_type": "code",
   "execution_count": null,
   "metadata": {
    "collapsed": false
   },
   "outputs": [],
   "source": []
  }
 ],
 "metadata": {
  "kernelspec": {
   "display_name": "Python 3",
   "language": "python",
   "name": "python3"
  },
  "language_info": {
   "codemirror_mode": {
    "name": "ipython",
    "version": 2
   },
   "file_extension": ".py",
   "mimetype": "text/x-python",
   "name": "python",
   "nbconvert_exporter": "python",
   "pygments_lexer": "ipython2",
   "version": "2.7.6"
  }
 },
 "nbformat": 4,
 "nbformat_minor": 0
}