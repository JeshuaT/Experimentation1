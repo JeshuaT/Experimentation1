{
 "cells": [
  {
   "cell_type": "markdown",
   "metadata": {
    "collapsed": false
   },
   "outputs": [],
   "source": [
    "# Python exercises: Decimal versus binary notation"
   ]
  },
  {
   "cell_type": "markdown",
   "metadata": {
    "collapsed": false
   },
   "outputs": [],
   "source": [
    "### Exercise 1. Convert a binary number to a decimal number\n",
    "\n",
    "To convert a binary number to a decimal value you can use the int function as shown in the example below. Write python code that converts an 8-bit binary number (provided via by the user as a string of eight zeros and ones) to a decimal value and print this value using a loop. Check the result by comparing the value to the table provided in today's lessons.\n",
    "\n",
    "> **Hint** To convert an 8-bit binary number to a decimal value, first assign each bit a weight based on its position in the binary number. The rightmost bit, or least significant bit, has a weight of 1, the next bit to the left has a weight of 2, the next bit has a weight of 4, and so on.\n",
    ">\n",
    "> Next, determine the decimal value of each bit by multiplying its weight by its value (1 for a 1 and 0 for a 0). For example, if the binary number is 11011011, the decimal value of the rightmost bit is 1 (1 * 2^0), the decimal value of the next bit is 2 (1 * 2^1), the decimal value of the next bit is 0 (0 * 2^2), and so on.\n",
    ">\n",
    "> Finally, add up the decimal values of each bit to find the total decimal value of the binary number. In the example above, the total decimal value is 128 + 64 + 0 + 16 + 8 + 0 + 2 + 1 = 219.\n"
   ]
  },
  {
   "cell_type": "code",
   "execution_count": 33,
   "metadata": {
    "collapsed": false
   },
   "outputs": [
    {
     "ename": "ValueError",
     "evalue": "invalid literal for int() with base 2: ''",
     "output_type": "error",
     "traceback": [
      "\u001b[1;31m---------------------------------------------------------------------------\u001b[0m",
      "\u001b[1;31mValueError\u001b[0m                                Traceback (most recent call last)",
      "Input \u001b[1;32mIn [33]\u001b[0m, in \u001b[0;36m<cell line: 6>\u001b[1;34m()\u001b[0m\n\u001b[0;32m      2\u001b[0m binary_number \u001b[38;5;241m=\u001b[39m \u001b[38;5;28minput\u001b[39m(\u001b[38;5;124m\"\u001b[39m\u001b[38;5;124mEnter an 8-bit binary number: \u001b[39m\u001b[38;5;124m\"\u001b[39m)\n\u001b[0;32m      4\u001b[0m \u001b[38;5;66;03m# Convert the binary number to a decimal value\u001b[39;00m\n\u001b[0;32m      5\u001b[0m \u001b[38;5;66;03m# write your own code here (that replaces the line below)\u001b[39;00m\n\u001b[1;32m----> 6\u001b[0m decimal_value \u001b[38;5;241m=\u001b[39m \u001b[38;5;28;43mint\u001b[39;49m\u001b[43m(\u001b[49m\u001b[43mbinary_number\u001b[49m\u001b[43m,\u001b[49m\u001b[43m \u001b[49m\u001b[38;5;241;43m2\u001b[39;49m\u001b[43m)\u001b[49m\n\u001b[0;32m      8\u001b[0m \u001b[38;5;66;03m# Print the decimal value\u001b[39;00m\n\u001b[0;32m      9\u001b[0m \u001b[38;5;28mprint\u001b[39m(decimal_value)\n",
      "\u001b[1;31mValueError\u001b[0m: invalid literal for int() with base 2: ''"
     ]
    }
   ],
   "source": [
    "# Get the binary number from the user\n",
    "binary_number = input(\"Enter an 8-bit binary number: \")\n",
    "\n",
    "# Convert the binary number to a decimal value\n",
    "# write your own code here (that replaces the line below)\n",
    "decimal_value = int(binary_number, 2)\n",
    "\n",
    "# Print the decimal value\n",
    "print(decimal_value)"
   ]
  },
  {
   "cell_type": "markdown",
   "metadata": {
    "collapsed": false
   },
   "source": [
    "### Exercise 2. Convert a decimal number to a binary number\n",
    "\n",
    "Let's now do the opposite. To convert a decimal number to a binary value you can use the format function (the bin function also works but uses a different notation). Write python code that converts a decimal number (provided via by the user) to an 8-bit binary number  and print this value using a loop. Check the result by comparing the value to the table provided in today's lessons.\n",
    "\n",
    "> **Hint** To convert a decimal value to an 8-bit binary number, first divide the decimal value by 2 and take the remainder. The remainder will be the rightmost bit of the binary number, with a value of either 0 or 1.\n",
    ">\n",
    ">Next, divide the quotient of the previous step by 2 and take the remainder. This remainder will be the next bit to the right in the binary number. Repeat this process until the quotient becomes 0, resulting in an 8-bit binary number.\n",
    ">\n",
    "> For example, to convert the decimal value 13 to an 8-bit binary number, we first divide 13 by 2 and take the remainder, which is 1. The quotient is 6. We then divide 6 by 2 and take the remainder, which is 0. The quotient is 3. We repeat this process until the quotient becomes 0, resulting in the binary number 1101. We then add zeros before the until we have 8-bits: 00001101."
   ]
  },
  {
   "cell_type": "code",
   "execution_count": null,
   "metadata": {
    "collapsed": false
   },
   "outputs": [],
   "source": [
    "# Get the decimal number from the user\n",
    "decimal_value = input(\"Enter a decimal value between 0 and 255: \")\n",
    "\n",
    "# Convert the decimal value to a binary value\n",
    "# write your own code here (that replaces the line below)\n",
    "binary_number_s = format(int(decimal_value),'08b')\n",
    "\n",
    "# Print the binary value\n",
    "print(binary_number_s)"
   ]
  }
 ],
 "metadata": {
  "kernelspec": {
   "display_name": "Python 3",
   "language": "python",
   "name": "python3"
  },
  "language_info": {
   "codemirror_mode": {
    "name": "ipython",
    "version": 2
   },
   "file_extension": ".py",
   "mimetype": "text/x-python",
   "name": "python",
   "nbconvert_exporter": "python",
   "pygments_lexer": "ipython2",
   "version": "2.7.6"
  }
 },
 "nbformat": 4,
 "nbformat_minor": 0
}