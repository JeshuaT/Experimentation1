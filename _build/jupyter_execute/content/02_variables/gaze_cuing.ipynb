{
 "cells": [
  {
   "cell_type": "markdown",
   "metadata": {},
   "source": [
    "# Gaze cuing task in OpenSesame"
   ]
  },
  {
   "cell_type": "code",
   "execution_count": 10,
   "metadata": {},
   "outputs": [],
   "source": [
    "from IPython.display import IFrame\n"
   ]
  },
  {
   "cell_type": "markdown",
   "metadata": {},
   "source": [
    "The tutorial can be found [here](https://osdoc.cogsci.nl/3.3/tutorials/beginner/)"
   ]
  },
  {
   "cell_type": "code",
   "execution_count": 11,
   "metadata": {},
   "outputs": [
    {
     "data": {
      "text/html": [
       "\n",
       "<iframe\n",
       "    width=\"800\"\n",
       "    height=\"600\"\n",
       "    src=\"https://osdoc.cogsci.nl/3.3/tutorials/beginner/\"\n",
       "    frameborder=\"0\"\n",
       "    allowfullscreen\n",
       "\n",
       "></iframe>\n"
      ],
      "text/plain": [
       "<IPython.lib.display.IFrame at 0x11876fc1cd0>"
      ]
     },
     "execution_count": 11,
     "metadata": {},
     "output_type": "execute_result"
    }
   ],
   "source": [
    "\n",
    "\n",
    "IFrame(src=\"https://osdoc.cogsci.nl/3.3/tutorials/beginner/\", width=\"800\", height=\"600\")"
   ]
  },
  {
   "cell_type": "markdown",
   "metadata": {},
   "source": [
    "\n",
    "## Exercises\n",
    "\n",
    "### Exercise 1. Express the location of the cues in relative terms\n",
    "Let's now adapt the gaze cuing experiment you created in the tutorial. Change the 300 and -300 values into percentages (e.g. 10% and -10%) and calculate the x positions based on the resolution (width) of the screen.\n",
    "\n",
    "Test whether the location is updated when you change the resolution of the screen.\n",
    "\n",
    "### Exercise 2. Calculate average performance\n",
    "\n",
    "Change the TimeOut value of the Keyboard_response object to 500 (ms) so that missing values are recorded. How does OpenSesame store missing responses? Check this in the log file.\n",
    "\n",
    "Now count the number of times the response was correct, incorrect and missing. Also, count the total number of trials presented in the block. Present the percentage of correct, incorrect, and missing responses in the feedback item. Compare whether the values you calculated correspond with the values automatically created by OpenSesame."
   ]
  },
  {
   "cell_type": "code",
   "execution_count": 9,
   "metadata": {},
   "outputs": [],
   "source": []
  }
 ],
 "metadata": {
  "celltoolbar": "Tags",
  "kernelspec": {
   "display_name": "Python 3 (ipykernel)",
   "language": "python",
   "name": "python3"
  },
  "language_info": {
   "codemirror_mode": {
    "name": "ipython",
    "version": 3
   },
   "file_extension": ".py",
   "mimetype": "text/x-python",
   "name": "python",
   "nbconvert_exporter": "python",
   "pygments_lexer": "ipython3",
   "version": "3.9.12"
  }
 },
 "nbformat": 4,
 "nbformat_minor": 1
}