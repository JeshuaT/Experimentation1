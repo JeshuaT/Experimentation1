{
 "cells": [
  {
   "cell_type": "markdown",
   "metadata": {
    "collapsed": false
   },
   "source": [
    "# Gaze cuing task in OpenSesame"
   ]
  },
  {
   "cell_type": "markdown",
   "metadata": {
    "collapsed": false
   },
   "source": [
    "TODO link naar https://osdoc.cogsci.nl/3.3/tutorials/beginner/\n",
    "\n",
    "## Additional Exercises\n",
    "\n",
    "1. Load the gaze cuing experiment in OpenSesame.\n",
    "2. Change the TimeOut value of the Keyboard_response object to 500 (ms).\n",
    "3. Count the number of times the response was correct, incorrect and missing. Also, count the total number of trials presented. Present the percentage of correct, incorrect, and missing responses in the feedback item.\n",
    "4. Calculate the average of all reaction times\n",
    "\n"
   ]
  },
  {
   "cell_type": "code",
   "execution_count": null,
   "metadata": {
    "collapsed": false
   },
   "outputs": [],
   "source": []
  }
 ],
 "metadata": {
  "kernelspec": {
   "display_name": "Python 3",
   "language": "python",
   "name": "python3"
  },
  "language_info": {
   "codemirror_mode": {
    "name": "ipython",
    "version": 3
   },
   "file_extension": ".py",
   "mimetype": "text/x-python",
   "name": "python",
   "nbconvert_exporter": "python",
   "pygments_lexer": "ipython3",
   "version": "3.6.5"
  }
 },
 "nbformat": 4,
 "nbformat_minor": 0
}