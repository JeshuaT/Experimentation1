{
 "cells": [
  {
   "cell_type": "markdown",
   "metadata": {},
   "source": [
    "# Python exercises: Variables\n",
    "\n",
    "> **Note:** Some of the exercises below are adapted from the [Python for Everyone Course](https://www.py4e.com/html3/02-variables) by Charles R. Severance licensed under Creative Commons Attribution 3.0\n",
    "\n",
    "> **Note**: For these exercises you will need to launch the page using Google Colab.\n",
    "\n",
    "### Exercise 1. Print welcome text\n",
    "\n",
    "Write a program that uses input to prompt a user for their name and then welcomes them.\n",
    "\n",
    "```\n",
    "Enter your name: Chuck\n",
    "Hello Chuck\n",
    "```"
   ]
  },
  {
   "cell_type": "code",
   "execution_count": 1,
   "metadata": {},
   "outputs": [],
   "source": [
    "#your code here"
   ]
  },
  {
   "cell_type": "markdown",
   "metadata": {},
   "source": [
    "### Exercise 2. Compute gross pay\n",
    "\n",
    "Write a program to prompt the user for hours and rate per hour to compute gross pay.\n",
    "\n",
    "```\n",
    "Enter Hours: 35\n",
    "Enter Rate: 2.75\n",
    "Pay: 96.25\n",
    "```\n",
    "\n",
    "We won’t worry about making sure our pay has exactly two digits after the decimal place for now. If you want, you can play with the built-in Python round function to properly round the resulting pay to two decimal places.\n"
   ]
  },
  {
   "cell_type": "code",
   "execution_count": 2,
   "metadata": {},
   "outputs": [],
   "source": [
    "#your code here"
   ]
  },
  {
   "cell_type": "markdown",
   "metadata": {},
   "source": [
    "### Exercise 3. Numeric calculations\n",
    "\n",
    "Assume that we execute the following assignment statements:\n",
    "\n",
    "```\n",
    "width = 17\n",
    "height = 12.0\n",
    "```\n",
    "\n",
    "For each of the following expressions, write the value of the expression and the type (of the value of the expression).\n",
    "\n",
    "width//2\n",
    "\n",
    "width/2.0\n",
    "\n",
    "height/3\n",
    "\n",
    "1 + 2 * 5\n",
    "\n",
    "Use the Python interpreter to check your answers.\n"
   ]
  },
  {
   "cell_type": "code",
   "execution_count": 3,
   "metadata": {},
   "outputs": [],
   "source": [
    "#your code here"
   ]
  },
  {
   "cell_type": "markdown",
   "metadata": {},
   "source": [
    "\n",
    "### Exercise 4. Convert temperature\n",
    " Write a program which prompts the user for a Celsius temperature, convert the temperature to Fahrenheit, and print out the converted temperature.\n",
    " \n",
    " ```\n",
    "Enter temperature in Celsius: 25\n",
    "Temperature in Fahrenheit: 77.0\n",
    " ```\n"
   ]
  },
  {
   "cell_type": "code",
   "execution_count": 4,
   "metadata": {},
   "outputs": [],
   "source": [
    "#your code here"
   ]
  },
  {
   "cell_type": "markdown",
   "metadata": {},
   "source": [
    "### Exercise 5. Convert reaction time\n",
    " Write a program which prompts the user for a certain reaction time value in milliseconds (between 1 and 2000 ms). Assume we want to apply a transformation of this value to correct for the skewed distribution of reaction time (in later chapters you will learn how to transform multiple values at once). Calculate the following two measures:\n",
    "\n",
    "- Inverse RT: RTinv = -1000 / RT\n",
    "- Logarithm of RT: RTlog = log(RT)\n",
    "\n",
    "Make sure your round both values to two decimals. Example of expected behavior:\n",
    "```\n",
    "Enter reaction time value in ms (between 1 and 2000 ms): 987\n",
    "Inverse RT is: -1.01; Log RT is: 6.89.\n",
    "```\n",
    "\n",
    "For the log transformation, you will need the in-built mathematics package called \"math\". We import math in the code below for you. To log-transform a numeric variable, you can call the **math.log(variable)** function."
   ]
  },
  {
   "cell_type": "code",
   "execution_count": 5,
   "metadata": {},
   "outputs": [],
   "source": [
    "#your code here\n",
    "import math"
   ]
  },
  {
   "cell_type": "markdown",
   "metadata": {},
   "source": [
    "### Exercise 6. Combine reaction time and accuracy information\n",
    " Write a program which prompts the user for a certain average reaction time value in milliseconds (between 1 and 2000 ms) and an average accuracy score (as proportion correct scores, ranging from 0 to 1). Combine these measure to a single score called the inverse accuracy score.\n",
    "\n",
    "Bruyer and Brysbaert (2011, p.6) explain how to calculate the inverse efficiency score (note that PE means proportion of errors):\n",
    "> To deal with the issue of how to combine speed and error, Townsend and Ashby (1978) proposed the “inverse efficiency score” (IES; see also Townsend & Ashby, 1983). IES can be thought of as an observable measure that gauges the average energy consumed by the system over time (or the power of the system; Townsend & Ashby, 1983, p. 204). It consists of RT divided by 1 - PE (or by PC, the proportion of correct responses). So, for a given participant the mean (or median) RT of the correct responses in a particular condition is calculated and divided by (1-PE) or by PC. Since RTs are expressed in ms and divided by proportions, IES is expressed in ms as well. For instance, if a participant in a particular condition responds with an average RT of 652 ms and makes 5% errors, then IES = 652/(1-.05) = 652/.95 = 686 ms.\n",
    "\n",
    "Print all the relevant measures to the screen in one line of text, as in the example below:\n",
    "```\n",
    "Enter average reaction time value in ms (between 1 and 2000 ms): 652\n",
    "Enter average accuracy score as proportion (between 0 and 1): .9449\n",
    "When combining an RT of 652 ms and an ACC of 0.9449 (= 5.51% errors), the IES score is 690 ms.\n",
    "```"
   ]
  },
  {
   "cell_type": "code",
   "execution_count": 6,
   "metadata": {},
   "outputs": [],
   "source": [
    "#your code here"
   ]
  },
  {
   "cell_type": "markdown",
   "metadata": {
    "collapsed": false
   },
   "source": [
    "### Exercise 7. Saving and loading the jupyter notebook\n",
    "\n",
    "Now, save your work and store the .ipynb file in a designated folder. Close this window, and re-open the Google colab. Reload your work. Is everything still there?"
   ]
  },
  {
   "cell_type": "markdown",
   "metadata": {},
   "source": [
    "# References\n",
    "\n",
    "Bruyer, R., & Brysbaert, M. (2011). Combining speed and accuracy in cognitive psychology: Is the inverse efficiency score (IES) a better dependent variable than the mean reaction time (RT) and the percentage of errors (PE)?. *Psychologica Belgica*, *51*(1), 5-13."
   ]
  }
 ],
 "metadata": {
  "kernelspec": {
   "display_name": "Python 3 (ipykernel)",
   "language": "python",
   "name": "python3"
  },
  "language_info": {
   "codemirror_mode": {
    "name": "ipython",
    "version": 3
   },
   "file_extension": ".py",
   "mimetype": "text/x-python",
   "name": "python",
   "nbconvert_exporter": "python",
   "pygments_lexer": "ipython3",
   "version": "3.9.12"
  }
 },
 "nbformat": 4,
 "nbformat_minor": 1
}