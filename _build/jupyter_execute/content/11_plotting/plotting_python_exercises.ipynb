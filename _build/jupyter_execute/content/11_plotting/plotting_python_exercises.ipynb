{
 "cells": [
  {
   "cell_type": "markdown",
   "metadata": {
    "collapsed": false
   },
   "source": [
    "# Python exercises: Plotting"
   ]
  },
  {
   "cell_type": "markdown",
   "metadata": {
    "collapsed": false
   },
   "outputs": [],
   "source": [
    "During the exercises in the dataframes module you learned how to import a dataset, and how to look at the dataframe from multiple angles. In the python lessons for this module you learned that you can use matplotlib in three different ways. From \"quick-and-rigid\" to \"slow-but-flexible\", these are:\n",
    "(1) Seaborn plotting\n",
    "(2) Pyplot procedural plotting\n",
    "(3) Object-oriented plotting\n",
    "\n",
    "## Exercise 1\n",
    "Pick a dataset whereby something changes over time (e.g. the [dataset on global CO2 and greenhouse emission](https://github.com/owid/co2-data)). Import that dataset, and make sure the dataset is in a [tidy format](http://teaching.gureckislab.org/fall22/labincp/chapters/05/00-data.html#data-organization-tidy-and-wide-formats).\n"
   ]
  },
  {
   "cell_type": "code",
   "execution_count": null,
   "metadata": {
    "collapsed": false
   },
   "outputs": [],
   "source": [
    "import pandas as pd\n",
    "\n",
    "# import the csv here\n",
    "\n",
    "# do some data wrangling here if you need to get the dataframe in tidy format\n",
    "\n",
    "# print out the dataframe"
   ]
  },
  {
   "cell_type": "markdown",
   "metadata": {
    "collapsed": false
   },
   "source": [
    "\n",
    "## Exercise 2\n",
    "Using a seaborn lineplot, plot the change over time. Add a title, an x-label, a y-label and a legend (if suitable)."
   ]
  },
  {
   "cell_type": "code",
   "execution_count": null,
   "metadata": {
    "collapsed": false
   },
   "outputs": [],
   "source": [
    "import seaborn as sns\n",
    "\n",
    "# your answer here"
   ]
  },
  {
   "cell_type": "markdown",
   "metadata": {
    "collapsed": false
   },
   "source": [
    "## Exercise 3\n",
    "Now, make the same plot using the pyplot procedural plotting approach. Including the title, x-label and y-label.\n",
    "\n",
    "> **Hint**: [This youtube video](https://www.youtube.com/watch?v=_LWjaAiKaf8&ab_channel=CoreySchafer) could be of help, as well as [this tutorial](https://machinelearningmastery.com/time-series-data-visualization-with-python/)."
   ]
  },
  {
   "cell_type": "code",
   "execution_count": null,
   "metadata": {
    "collapsed": false
   },
   "outputs": [],
   "source": [
    "import matplotlib.pyplot as plt\n",
    "\n",
    "# your answer here"
   ]
  },
  {
   "cell_type": "markdown",
   "metadata": {
    "collapsed": false
   },
   "source": [
    "## Exercise 4\n",
    "Yes, you guessed it: now plot the same plot using the object-oriented approach. Again including the title, x-label and y-label.\n",
    "\n",
    "> **Hint:** [This tutorial](https://www.python-graph-gallery.com/basic-time-series-with-matplotlib) is useful for this approach"
   ]
  },
  {
   "cell_type": "code",
   "execution_count": null,
   "metadata": {
    "collapsed": false
   },
   "outputs": [],
   "source": [
    "import matplotlib as plt\n",
    "\n",
    "# your answer here"
   ]
  }
 ],
 "metadata": {
  "kernelspec": {
   "display_name": "Python 3",
   "language": "python",
   "name": "python3"
  },
  "language_info": {
   "codemirror_mode": {
    "name": "ipython",
    "version": 2
   },
   "file_extension": ".py",
   "mimetype": "text/x-python",
   "name": "python",
   "nbconvert_exporter": "python",
   "pygments_lexer": "ipython2",
   "version": "2.7.6"
  }
 },
 "nbformat": 4,
 "nbformat_minor": 0
}