{
 "cells": [
  {
   "cell_type": "markdown",
   "metadata": {
    "collapsed": false
   },
   "source": [
    "# Python exercises: Getting Ready"
   ]
  },
  {
   "cell_type": "markdown",
   "metadata": {
    "collapsed": false
   },
   "outputs": [],
   "source": [
    "Below are adapted from: https://www.py4e.com/html3/01-intro\n",
    "\n",
    "## Exercise 1\n",
    "What is wrong with the following code?\n",
    "```\n",
    "primt 'Hello world!'\n",
    "File \"<stdin>\", line 1\n",
    "  primt 'Hello world!'\n",
    "                     ^\n",
    "SyntaxError: invalid syntax\n",
    "```\n",
    "1. Correct the code and run it in the browser below:\n"
   ]
  },
  {
   "cell_type": "code",
   "execution_count": 1,
   "metadata": {
    "collapsed": false
   },
   "outputs": [],
   "source": [
    "#enter your code here"
   ]
  },
  {
   "cell_type": "markdown",
   "metadata": {
    "collapsed": false
   },
   "outputs": [],
   "source": [
    "2. Now enter the code in Spyder and run it on your computer. Check the where you see the output.\n",
    "\n",
    "3. Finally, let's use the same code in OpenSesame. Open OpenSesame and click File > New > Extended Template. Drag a new `inline_script` object from the Toolbar after the `instructions` object and enter the same python code. Run the experiment in a Window (use the green >> button) and check whether the message is printed to the Console. Close the experiment (Escape) and move the inline script into the `trial_sequence`. When is the print executed? How often is the print executed?\n",
    "\n",
    "## Exercise 2\n",
    "\n",
    "1. Run the following code in the browser, in Spyder and in OpenSesame using the same method as described in Exercise 1. What value is printed out?\n",
    "\n",
    "```\n",
    "myvar = 43\n",
    "myvar = myvar + 1\n",
    "print(myvar)\n",
    "```"
   ]
  },
  {
   "cell_type": "code",
   "execution_count": 2,
   "metadata": {
    "collapsed": false
   },
   "outputs": [],
   "source": [
    "#enter your code here"
   ]
  },
  {
   "cell_type": "markdown",
   "metadata": {
    "collapsed": false
   },
   "source": [
    "\n",
    "2. Now, in OpenSesame, split the code into multiple `inline_scripts`. The inline after the  `instructions` object assigns the value 43 to x. The inline in the `trial_sequence` only increments x with 1 and prints x. What values are printed in the OpenSesame console when you run the experiment in windowed mode?\n",
    "\n",
    "3. Finally, let's convert the python variable to an OpenSesame `experimental variable` (we will learn more this in the next session, also see https://osdoc.cogsci.nl/3.3/manual/variables/).\n",
    "\n",
    "The advance of experimental variables in OpenSesame are:\n",
    "- They can be referred to in other objects (using the [] notation, to be discussed next session);\n",
    "- The value can be inspected during runtime using the Variable Inspector;\n",
    "- They can be logged in the textfile via the logger object.\n",
    "\n",
    "Go back to OpenSesame and add `var.` to all mentions of variable myvar, like:\n",
    "\n",
    "```\n",
    "var.myvar = 43\n",
    "```\n",
    "\n",
    "and\n",
    "```\n",
    "var.myvar = var.myvar + 1\n",
    "print(var.myvar)\n",
    "```\n",
    "Note that this `var.` notation is specific to OpenSesame and does not work outside OpenSesame, e.g. in the browser or in Spyder.\n",
    "\n",
    "Before running the experiment in windowed mode, open the `Variable Inspector` and search for myvar. Run the experiment and see whether the values are updated in the Variable Inspector and in the Console. Finish the experiment and check whether the values are properly saved into the logfile.\n",
    "\n",
    "\n",
    "\n",
    "\n",
    "\n",
    "\n",
    "\n",
    "\n",
    "\n",
    "\n",
    "\n"
   ]
  },
  {
   "cell_type": "code",
   "execution_count": 3,
   "metadata": {
    "collapsed": false
   },
   "outputs": [],
   "source": [
    "#enter your code here"
   ]
  }
 ],
 "metadata": {
  "kernelspec": {
   "display_name": "Python 3",
   "language": "python",
   "name": "python3"
  },
  "language_info": {
   "codemirror_mode": {
    "name": "ipython",
    "version": 3
   },
   "file_extension": ".py",
   "mimetype": "text/x-python",
   "name": "python",
   "nbconvert_exporter": "python",
   "pygments_lexer": "ipython3",
   "version": "3.6.5"
  }
 },
 "nbformat": 4,
 "nbformat_minor": 0
}