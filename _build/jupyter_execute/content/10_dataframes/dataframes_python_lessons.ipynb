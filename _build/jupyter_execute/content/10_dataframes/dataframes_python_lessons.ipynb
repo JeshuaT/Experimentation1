{
 "cells": [
  {
   "cell_type": "markdown",
   "metadata": {
    "collapsed": false
   },
   "outputs": [],
   "source": [
    "# Python lessons: Dataframes\n"
   ]
  },
  {
   "cell_type": "code",
   "execution_count": 1,
   "metadata": {
    "collapsed": false
   },
   "outputs": [],
   "source": [
    "from IPython.display import IFrame"
   ]
  },
  {
   "cell_type": "markdown",
   "metadata": {
    "collapsed": false
   },
   "source": [
    "In this module you will learn how to work with OpenSesame datasets using the python package Pandas. The video and lesson we supply here were created by Todd M Gureckis, and released under [the creative commons license](http://teaching.gureckislab.org/fall22/labincp/LICENSE.html). First, watch this video:"
   ]
  },
  {
   "cell_type": "code",
   "execution_count": 2,
   "metadata": {
    "collapsed": false
   },
   "outputs": [
    {
     "data": {
      "text/html": [
       "\n",
       "<iframe\n",
       "    width=\"560\"\n",
       "    height=\"315\"\n",
       "    src=\"https://player.vimeo.com/video/520946467\"\n",
       "    frameborder=\"0\"\n",
       "    allowfullscreen\n",
       "></iframe>\n"
      ],
      "text/plain": [
       "<IPython.lib.display.IFrame at 0x63c4870>"
      ]
     },
     "execution_count": 2,
     "metadata": {},
     "output_type": "execute_result"
    }
   ],
   "source": [
    "IFrame(src=\"https://player.vimeo.com/video/520946467\", width=\"560\", height=\"315\")"
   ]
  },
  {
   "cell_type": "markdown",
   "metadata": {
    "collapsed": false
   },
   "source": [
    "Then, follow along with [this explanation on dataframes and pandas](http://teaching.gureckislab.org/fall22/labincp/chapters/05/00-data.html), also provided by Todd M Gureckis:\n",
    "\n",
    "Focus on the following:\n",
    "- What is a dataframe?\n",
    "- How to read a csv?\n",
    "- How to select rows?\n",
    "- How to select columns?\n",
    "- What is the split-apply-combine workflow?"
   ]
  },
  {
   "cell_type": "markdown",
   "metadata": {
    "collapsed": false
   },
   "source": []
  }
 ],
 "metadata": {
  "kernelspec": {
   "display_name": "Python 3",
   "language": "python",
   "name": "python3"
  },
  "language_info": {
   "codemirror_mode": {
    "name": "ipython",
    "version": 3
   },
   "file_extension": ".py",
   "mimetype": "text/x-python",
   "name": "python",
   "nbconvert_exporter": "python",
   "pygments_lexer": "ipython3",
   "version": "3.6.5"
  }
 },
 "nbformat": 4,
 "nbformat_minor": 0
}