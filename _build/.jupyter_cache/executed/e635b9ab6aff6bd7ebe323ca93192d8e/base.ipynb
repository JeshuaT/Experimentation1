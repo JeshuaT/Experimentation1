{
 "cells": [
  {
   "cell_type": "code",
   "execution_count": 1,
   "metadata": {},
   "outputs": [
    {
     "name": "stdout",
     "output_type": "stream",
     "text": [
      " Hello world\r"
     ]
    },
    {
     "name": "stdout",
     "output_type": "stream",
     "text": [
      "  Hello world\r"
     ]
    },
    {
     "name": "stdout",
     "output_type": "stream",
     "text": [
      "   Hello world\r"
     ]
    },
    {
     "name": "stdout",
     "output_type": "stream",
     "text": [
      "    Hello world\r"
     ]
    },
    {
     "name": "stdout",
     "output_type": "stream",
     "text": [
      "     Hello world\r"
     ]
    },
    {
     "name": "stdout",
     "output_type": "stream",
     "text": [
      "      Hello world\r"
     ]
    },
    {
     "name": "stdout",
     "output_type": "stream",
     "text": [
      "       Hello world\r"
     ]
    },
    {
     "name": "stdout",
     "output_type": "stream",
     "text": [
      "        Hello world\r"
     ]
    },
    {
     "name": "stdout",
     "output_type": "stream",
     "text": [
      "         Hello world\r"
     ]
    },
    {
     "name": "stdout",
     "output_type": "stream",
     "text": [
      "          Hello world\r"
     ]
    },
    {
     "name": "stdout",
     "output_type": "stream",
     "text": [
      "           Hello world\r"
     ]
    },
    {
     "name": "stdout",
     "output_type": "stream",
     "text": [
      "            Hello world\r"
     ]
    },
    {
     "name": "stdout",
     "output_type": "stream",
     "text": [
      "             Hello world\r"
     ]
    },
    {
     "name": "stdout",
     "output_type": "stream",
     "text": [
      "              Hello world\r"
     ]
    },
    {
     "name": "stdout",
     "output_type": "stream",
     "text": [
      "               Hello world\r"
     ]
    },
    {
     "name": "stdout",
     "output_type": "stream",
     "text": [
      "                Hello world\r"
     ]
    },
    {
     "name": "stdout",
     "output_type": "stream",
     "text": [
      "                 Hello world\r"
     ]
    },
    {
     "name": "stdout",
     "output_type": "stream",
     "text": [
      "                  Hello world\r"
     ]
    },
    {
     "name": "stdout",
     "output_type": "stream",
     "text": [
      "                   Hello world\r"
     ]
    },
    {
     "name": "stdout",
     "output_type": "stream",
     "text": [
      "                    Hello world\r"
     ]
    },
    {
     "name": "stdout",
     "output_type": "stream",
     "text": [
      "                     Hello world\r"
     ]
    },
    {
     "name": "stdout",
     "output_type": "stream",
     "text": [
      "                      Hello world\r"
     ]
    },
    {
     "name": "stdout",
     "output_type": "stream",
     "text": [
      "                       Hello world\r"
     ]
    },
    {
     "name": "stdout",
     "output_type": "stream",
     "text": [
      "                        Hello world\r"
     ]
    },
    {
     "name": "stdout",
     "output_type": "stream",
     "text": [
      "                         Hello world\r"
     ]
    },
    {
     "name": "stdout",
     "output_type": "stream",
     "text": [
      "                          Hello world\r"
     ]
    },
    {
     "name": "stdout",
     "output_type": "stream",
     "text": [
      "                           Hello world\r"
     ]
    },
    {
     "name": "stdout",
     "output_type": "stream",
     "text": [
      "                            Hello world\r"
     ]
    },
    {
     "name": "stdout",
     "output_type": "stream",
     "text": [
      "                             Hello world\r"
     ]
    },
    {
     "name": "stdout",
     "output_type": "stream",
     "text": [
      "                              Hello world\r"
     ]
    },
    {
     "name": "stdout",
     "output_type": "stream",
     "text": [
      "                               Hello world\r"
     ]
    },
    {
     "name": "stdout",
     "output_type": "stream",
     "text": [
      "                                Hello world\r"
     ]
    },
    {
     "name": "stdout",
     "output_type": "stream",
     "text": [
      "                                 Hello world\r"
     ]
    },
    {
     "name": "stdout",
     "output_type": "stream",
     "text": [
      "                                  Hello world\r"
     ]
    },
    {
     "name": "stdout",
     "output_type": "stream",
     "text": [
      "                                   Hello world\r"
     ]
    },
    {
     "name": "stdout",
     "output_type": "stream",
     "text": [
      "                                    Hello world\r"
     ]
    },
    {
     "name": "stdout",
     "output_type": "stream",
     "text": [
      "                                     Hello world\r"
     ]
    },
    {
     "name": "stdout",
     "output_type": "stream",
     "text": [
      "                                      Hello world\r"
     ]
    },
    {
     "name": "stdout",
     "output_type": "stream",
     "text": [
      "                                       Hello world\r"
     ]
    },
    {
     "name": "stdout",
     "output_type": "stream",
     "text": [
      "                                        Hello world\r"
     ]
    }
   ],
   "source": [
    "\n",
    "fill = \"\"\n",
    "import time\n",
    "for i in range(1,41):\n",
    "    fill = fill + \" \"\n",
    "    print(fill + 'Hello world',end=\"\\r\", flush=True)\n",
    "    time.sleep(0.1)"
   ]
  }
 ],
 "metadata": {
  "kernelspec": {
   "display_name": "Python 3 (ipykernel)",
   "language": "python",
   "name": "python3"
  },
  "language_info": {
   "codemirror_mode": {
    "name": "ipython",
    "version": 3
   },
   "file_extension": ".py",
   "mimetype": "text/x-python",
   "name": "python",
   "nbconvert_exporter": "python",
   "pygments_lexer": "ipython3",
   "version": "3.6.5"
  }
 },
 "nbformat": 4,
 "nbformat_minor": 1
}