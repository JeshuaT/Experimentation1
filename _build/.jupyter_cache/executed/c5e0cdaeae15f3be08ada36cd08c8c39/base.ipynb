{
 "cells": [
  {
   "cell_type": "code",
   "execution_count": 1,
   "metadata": {},
   "outputs": [
    {
     "data": {
      "text/plain": [
       "Ellipsis"
      ]
     },
     "execution_count": 1,
     "metadata": {},
     "output_type": "execute_result"
    }
   ],
   "source": [
    "import random\n",
    "nums=[1,2,3,4,5,6,8,9]\n",
    "random.shuffle(nums)\n",
    "num0=random.choice(nums)\n",
    "num1=random.choice(nums)\n",
    "num2=random.choice(nums)\n",
    "num3=random.choice(nums)\n",
    "num4=random.choice(nums)\n",
    "num5=random.choice(nums)\n",
    "...\n",
    "...\n",
    "...\n",
    "...\n",
    "...\n"
   ]
  },
  {
   "cell_type": "code",
   "execution_count": 2,
   "metadata": {},
   "outputs": [],
   "source": [
    "import random\n",
    "nums=[\"A\",\"B\",\"C\",\"D\",\"E\",\"F\",\"G\",\"H\",\"I\",\"J\"]\n",
    "random.shuffle(nums)\n",
    "num0=nums[0]\n",
    "num1=nums[1]\n",
    "num2=nums[2]\n",
    "num3=nums[3]\n",
    "num4=nums[4]\n",
    "num5=nums[5]\n",
    "num6=nums[6]\n",
    "num7=nums[7]\n",
    "num8=nums[8]\n",
    "num9=nums[9]\n"
   ]
  },
  {
   "cell_type": "code",
   "execution_count": 3,
   "metadata": {},
   "outputs": [
    {
     "name": "stdout",
     "output_type": "stream",
     "text": [
      "JIGCABDEFH\n"
     ]
    }
   ],
   "source": [
    "import random\n",
    "seq_presented = num0 + num1 + num2 + num3 + num4 + num5 + num6 + num7 + num8 + num9\n",
    "print(seq_presented)"
   ]
  },
  {
   "cell_type": "code",
   "execution_count": 4,
   "metadata": {},
   "outputs": [
    {
     "name": "stdout",
     "output_type": "stream",
     "text": [
      "JI\n"
     ]
    }
   ],
   "source": [
    "Nback = 2\n",
    "seq_presented = seq_presented[0:Nback]\n",
    "print(seq_presented)"
   ]
  },
  {
   "cell_type": "code",
   "execution_count": 5,
   "metadata": {},
   "outputs": [
    {
     "ename": "Exception",
     "evalue": "Invalid value for Nback (4)",
     "output_type": "error",
     "traceback": [
      "\u001b[1;31m---------------------------------------------------------------------------\u001b[0m",
      "\u001b[1;31mException\u001b[0m                                 Traceback (most recent call last)",
      "\u001b[1;32m<ipython-input-5-994bfb12c16b>\u001b[0m in \u001b[0;36m<module>\u001b[1;34m\u001b[0m\n\u001b[0;32m      1\u001b[0m \u001b[0mNback\u001b[0m \u001b[1;33m=\u001b[0m \u001b[1;36m4\u001b[0m\u001b[1;33m\u001b[0m\u001b[0m\n\u001b[0;32m      2\u001b[0m \u001b[1;32mif\u001b[0m \u001b[0mNback\u001b[0m \u001b[1;33m>\u001b[0m \u001b[0mlen\u001b[0m\u001b[1;33m(\u001b[0m\u001b[0mseq_presented\u001b[0m\u001b[1;33m)\u001b[0m\u001b[1;33m:\u001b[0m\u001b[1;33m\u001b[0m\u001b[0m\n\u001b[1;32m----> 3\u001b[1;33m     \u001b[1;32mraise\u001b[0m \u001b[0mException\u001b[0m\u001b[1;33m(\u001b[0m\u001b[1;34m'Invalid value for Nback (%s)'\u001b[0m \u001b[1;33m%\u001b[0m \u001b[0mNback\u001b[0m\u001b[1;33m)\u001b[0m\u001b[1;33m\u001b[0m\u001b[0m\n\u001b[0m\u001b[0;32m      4\u001b[0m \u001b[1;33m\u001b[0m\u001b[0m\n\u001b[0;32m      5\u001b[0m \u001b[0mseq_presented\u001b[0m \u001b[1;33m=\u001b[0m \u001b[0mseq_presented\u001b[0m\u001b[1;33m[\u001b[0m\u001b[1;36m0\u001b[0m\u001b[1;33m:\u001b[0m\u001b[0mNback\u001b[0m\u001b[1;33m]\u001b[0m\u001b[1;33m\u001b[0m\u001b[0m\n",
      "\u001b[1;31mException\u001b[0m: Invalid value for Nback (4)"
     ]
    }
   ],
   "source": [
    "Nback = 4\n",
    "if Nback > len(seq_presented):\n",
    "    raise Exception('Invalid value for Nback (%s)' % Nback)\n",
    "\n",
    "seq_presented = seq_presented[0:Nback]\n",
    "print(seq_presented)"
   ]
  },
  {
   "cell_type": "code",
   "execution_count": 6,
   "metadata": {},
   "outputs": [
    {
     "name": "stdout",
     "output_type": "stream",
     "text": [
      "Error\n"
     ]
    }
   ],
   "source": [
    "response = \"fcd\"\n",
    "if (response == seq_presented):\n",
    "    print(\"Correct\")\n",
    "else:\n",
    "    print(\"Error\")"
   ]
  },
  {
   "cell_type": "code",
   "execution_count": 7,
   "metadata": {},
   "outputs": [
    {
     "name": "stdout",
     "output_type": "stream",
     "text": [
      "Error\n"
     ]
    }
   ],
   "source": [
    "response = \"fe\"\n",
    "response = response.upper()\n",
    "response = response.strip()\n",
    "if (response == seq_presented):\n",
    "    fbtext = \"Correct\"\n",
    "else:\n",
    "    fbtext = \"Error\"\n",
    "print(fbtext)"
   ]
  },
  {
   "cell_type": "code",
   "execution_count": 8,
   "metadata": {},
   "outputs": [
    {
     "name": "stdout",
     "output_type": "stream",
     "text": [
      "0\n"
     ]
    }
   ],
   "source": [
    "num_correct = 0\n",
    "num_total = len(response)\n",
    "for char in response:\n",
    "    if (seq_presented.find(char)) > -1:\n",
    "        num_correct = num_correct + 1\n",
    "print(num_correct)"
   ]
  }
 ],
 "metadata": {
  "kernelspec": {
   "display_name": "Python 3 (ipykernel)",
   "language": "python",
   "name": "python3"
  },
  "language_info": {
   "codemirror_mode": {
    "name": "ipython",
    "version": 3
   },
   "file_extension": ".py",
   "mimetype": "text/x-python",
   "name": "python",
   "nbconvert_exporter": "python",
   "pygments_lexer": "ipython3",
   "version": "3.6.5"
  }
 },
 "nbformat": 4,
 "nbformat_minor": 1
}