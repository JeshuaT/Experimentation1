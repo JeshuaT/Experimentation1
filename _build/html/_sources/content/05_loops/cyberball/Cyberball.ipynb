{
 "cells": [
  {
   "cell_type": "markdown",
   "source": [
    "# The Cyberball game\n",
    "\n",
    ":::{note} Part of the text below is adapted from The E-Primer (Spapé, Verdonschot, & van Steenbergen, 2019).\n",
    "\n",
    "Spapé M.M.\\*, Verdonschot, R.G., & van Steenbergen, H.\\* (2019) The E-Primer: An introduction to creating psychological experiments in E-Prime. Second edition updated for E-Prime 3. Leiden: Leiden University Press.\n",
    "\n",
    "http://www.e-primer.com\n",
    "\n",
    ":::\n",
    "\n",
    "## Introduction\n",
    "\n",
    "The Cyberball game allows psychologists to investigate the effects of social exclu- sion (ostracism). Kipling D. Williams came up with this idea after a Frisbee rolled up and hit him in the back when relaxing in a park in 1983:\n",
    "\n",
    "> He turned around, saw two other guys looking at him expectantly, and threw the Frisbee back to them. He was a bit surprised when they threw the disk back to him; he walked toward them to form a triangle, and threw it back again. For about a minute, the three of them threw the Frisbee around in a spirited game of catch. What happened next sparked an idea as to how to study the effects of ostracism. For no apparent reason, the two original players started throwing the Frisbee only to each other, and never threw it to the newcomer again. After sheepishly back-stepping toward his dog, the author was amazed at how bad he felt. He was sad, embarrassed, and a bit angry. He wondered what he had done to warrant being ostracised by the other two players. He sought comfort from his faithful dog. Then, it occurred to him that something like this, adapted for the laboratory, would be an excellent means to study ostracism and social exclusion. (Williams & Jarvis, 2006, p.174).\n",
    "\n",
    "These are the instructions participants usually receive:\n",
    "\n",
    "> \"Welcome to Cyberball, the Interactive Ball-Tossing Game Used for Mental Visualisation!\n",
    ">\n",
    "> In the upcoming experiment, we test the effects of practising mental visualisation on task performance. Thus, we need you to practise your mental visualisation skills. We have found that the best way to do this is to have you play an on-line game of catch with other participants who are logged on at the same time.\n",
    ">\n",
    "> In a few moments, you will be playing a game of catch with other students over our network. The game is very simple. When the ball is tossed to you, simply use the keyboard to indicate the player (with numerical key 1 or 3) you want to throw it to. When the game is over, the experimenter will give you additional instructions.\n",
    ">\n",
    "> What is important is not your ball tossing performance, but that you MENTALLY VISUALISE the entire experience. Imagine what the others look like. What sort of people are they? Where are you playing? Is it warm and sunny, or cold and rainy? Create in your mind a complete mental picture of what might be going on if you were playing this game in real life.\n",
    ">\n",
    "> Okay, ready to begin?\"\n",
    "\n",
    "This is what the game looks like at the start:\n",
    "\n",
    "![](images/Cyberball1.png)\n"
   ],
   "metadata": {
    "collapsed": false
   }
  },
  {
   "cell_type": "markdown",
   "source": [
    "#### Step 1: Programming the basic experimental flow\n",
    "\n",
    "To program the game, you first need some movie clips that show a ball moving between the players. You need six of them depicting all possible directions:\n",
    "\n",
    "From player 1 to player 2 ([1to2.wmv](files/1to2.wmv))\\\n",
    "From player 1 to player 3 ([1to3.wmv](files/1to3.wmv))\\\n",
    "From player 2 to player 1 ([2to1.wmv](files/2to1.wmv))\\\n",
    "From player 2 to player 3 ([2to3.wmv](files/2to3.wmv))\\\n",
    "From player 3 to player 1 ([3to1.wmv](files/3to1.wmv))\\\n",
    "From player 3 to player 2 ([3to2.wmv](files/3to2.wmv))\n",
    "\n",
    "The six movie files can be downloaded using the links.\n",
    "\n",
    "Note that these small Windows Media Files have been converted from the original animated gifs that are freely available on [K.D. Williams' website](http://www3.psych.purdue.edu/\\~willia55/Announce/cyberball.htm).\n",
    "\n",
    "Now let's draw the basic flow chart for each trial, which determines which movies should be played when:\n",
    "\n",
    "![](images/WhoseTurnOS.png)\n",
    "\n",
    "This flow chart basically decides who is throwing the ball in this trial (Player 1, Player 2, or Player 3) and, by retrieving the values from a variable (column) from the OpenSesame Loop object (see next step), it will decide the destination of the ball.\n",
    "\n",
    "Let's create the entire experiment from scratch and use the 'default template', which is already loaded when OpenSesame is launched. You can simple delete the 'Get started!' and copy paste the introduction described above in the `welcome` sketchpad.\n",
    "\n",
    "At any moment during the experiment we need to have access to the information about which player currently has the ball. So, create a new variable named `current_player` with the initial value 1, in a new inline_script at the beginning of your `experiment` procedure (the game always starts with Player 1 throwing the ball). As shown here:"
   ],
   "metadata": {
    "collapsed": false
   }
  },
  {
   "cell_type": "code",
   "execution_count": null,
   "outputs": [],
   "source": [
    "var.current_player = 1"
   ],
   "metadata": {
    "collapsed": false
   }
  },
  {
   "cell_type": "markdown",
   "metadata": {},
   "source": [
    "\n",
    "Now you can implement the basic branching structure using conditional via the [run-if statement of the sequence](https://osdoc.cogsci.nl/3.2/manual/variables/#using-conditional-if-statements).\n",
    "\n",
    "Depending on the value in current_player, the script may run one single trial in either `player1_loop`, `player2_loop`, or `player3_loop`. In order to do so, we make use of a combination of loops run in a `trial_seq`. Build a basic setup running 60 trials, as in the example below:\n",
    "\n",
    "![](images/Cyberball_condif.png)\n",
    "\n",
    "Note that we used the Python syntax for the conditional statements. You can also use the OpenSesame syntax again in which case you omit the `=var.` and instead use square brackets around the variable name.\n",
    "\n",
    "TODO quiz. What is the OpenSesame syntax\n",
    "\n",
    "TODO quiz. is == necessary or not. In which language\n",
    "\n",
    "#### Step 2: Programming the behaviour of Player 1 and Player 3\n",
    "\n",
    "Let's now think about how to set up the `player1_loop` and `player2_loop`. These loops should retrieve the new destination that the virtual Players 1 and 3 will toss the ball to. So add a variable (column) in boths loops named `target_player` and type in the possible destinations of that player (a player is not allowed to toss the ball to themselves! It would be an interesting extension of the paradigm, though...).\n",
    "\n",
    "These loops completely determine the behaviour of Player 1 and Player 3. It's up to you whether you want to make this behaviour predictable (use sequential selection), fully random (use random selection), or preferential (increase the number of rows of specific target players).\n",
    "\n",
    "TODO: explain break if feature!\n",
    "\n",
    "The example below implements a very predictable and non-preferential playing style for both players.\n",
    "\n",
    "![](images/Cyberball_player1+3.png)\n",
    "\n",
    "TODO quiz break if\n",
    "\n",
    "Now let these loops run a sequence called `play1_seq` and `play3_seq` that contain an inline_script (name the scripts `prepare_player1` and `prepare_player3` respectively) and a subsequently presented inline_script `play_movie` and make sure you use the same script object in both sequences (Hint: use the Copy (linked) - Paste feature using right mouse button clicks in the Overview area).\n",
    "\n",
    "Now, add this code in PreparePlayer1:"
   ]
  },
  {
   "cell_type": "code",
   "execution_count": null,
   "metadata": {},
   "outputs": [],
   "source": [
    "var.movie_filename = \"1to\" + str(var.target_player) + \".wmv\"\n",
    "var.current_player = var.target_player # info for next trial"
   ]
  },
  {
   "cell_type": "markdown",
   "metadata": {},
   "source": [
    "\n",
    "TODO difference single versus double quote when using indentation\n",
    "\n",
    "This script overwrites the temporary filename in the MovieDisplay with the correct filename. The second line is also very important. Here, the value of the variable `current_player` is updated to the new destination, so that in the next trial the branching structure knows who is at that moment the `current_player` .\n",
    "\n",
    "TODO feedbackdisplay\n",
    "\n",
    "Almost the same code should be added to the PreparePlayer3 InLine:"
   ]
  },
  {
   "cell_type": "code",
   "execution_count": null,
   "metadata": {},
   "outputs": [],
   "source": [
    "var.movie_filename = \"3to\" + str(var.target_player) + \".wmv\"var.current_player = var.target_player # info for next trial"
   ]
  },
  {
   "cell_type": "markdown",
   "metadata": {},
   "source": [
    "\n",
    "#### Step 3: Programming Player 2\n",
    "\n",
    "Let's now add a Procedure named `play2_seq` to the `player2_loop`. We don't need any variables added to this loop. Just make sure the loop run only once.\n",
    "\n",
    "Do the same for `play2_seq` as you did for `play1_seq` and `play3_seq` : add an inline script (name it `prepare_player2`) and insert the `play_movie` (again paste a linked copy from the clipboard).\n",
    "\n",
    "Now add a keyboard_response object to the beginning of the sequence (name it `wait_for_user`) and set it to log the responses 1 and 3. The keyboard_response object has an infinite timeout and will be terminated as soon as the user has decided which player they want to toss the ball to (i.e. Player 1 or 3).\n",
    "\n",
    "To show the correct movie after the response to the `wait_for_user`object, we need the following code in the `prepare_player2` script:"
   ]
  },
  {
   "cell_type": "code",
   "execution_count": null,
   "metadata": {},
   "outputs": [],
   "source": [
    "var.movie_filename = \"2to\" + str(var.response) + \".wmv\"\\\n",
    "var.current_player = var.response \\# info for next trial"
   ]
  },
  {
   "cell_type": "markdown",
   "metadata": {},
   "source": [
    "\n",
    "Done! Compare the structure of your experiment with the flowchart.\n",
    "\n",
    "#### Step 4: Playing the movie\n",
    "\n",
    "OpenSesame does not have a standard object to play a movie. No worries though. We can create our own python code to do so.\n",
    "\n",
    "Let's first create a simple loop that presents something that moves on the screen. This code should be inserted into the `play_movie` inline script.\n"
   ]
  },
  {
   "cell_type": "code",
   "execution_count": null,
   "metadata": {},
   "outputs": [],
   "source": [
    "my_canvas = Canvas()\n",
    "\n",
    "for i in range(-25,25):\n",
    "    my_canvas.text(var.movie_filename)\n",
    "    my_canvas.text(\"*\",x = i*5,y = 50)\n",
    "    my_canvas.show()\n",
    "    clock.sleep(40)\n",
    "    my_canvas.clear()"
   ]
  },
  {
   "cell_type": "markdown",
   "metadata": {},
   "source": [
    "\n",
    "Time to test the experiment. Do you see something moving on the screen? And do you see when it is your (player 2) turn?\n",
    "\n",
    "Experiment with the settings of the sleep parameter (speed of the asterisk) and the x (horizontal position) and the y (vertical position).\n",
    "\n",
    "Can you change the vertical position into a quadratic shape so it looks like a ball is thrown?\\\n",
    "y = i\\*\\*2 - 200\n",
    "\n",
    "Okay, this was boring, right? Time to change the loop into a real movie.\n",
    "\n",
    "First comment the code you just wrote (select everything and press `Ctrl+/` (see OpenSesame [keyboard shortcuts](https://osdoc.cogsci.nl/3.3/manual/interface/#keyboard-shortcuts))\n",
    "\n",
    "Also, make sure you download and add all six video files mentioned above to the File pool first. Also, set the back-end of the experiment to `legacy`.\n",
    "\n",
    "Now we first need to load the correct movie file and then present the picture frame by frame in the loop.\n",
    "\n",
    "Of course, do not reinvent the wheel! Others have provided pieces of code we can recycle. Google is your friend. The example below is adapted from the [OpenSesame website](https://osdoc.cogsci.nl/3.3/manual/stimuli/video/).\n"
   ]
  },
  {
   "cell_type": "code",
   "execution_count": null,
   "metadata": {},
   "outputs": [],
   "source": [
    "import cv2\n",
    "import numpy\n",
    "import pygame\n",
    "# Full path to the video file in file pool\n",
    "path = pool[var.movie_filename]\n",
    "# Open the video\n",
    "video = cv2.VideoCapture(path)\n",
    "# A loop to play the video file. This can also be a while loop until a key\n",
    "# is pressed. etc.\n",
    "for i in range(100):\n",
    "    # Get a frame\n",
    "    try:\n",
    "        retval, frame = video.read()\n",
    "        # Rotate it, because for some reason it otherwise appears flipped.\n",
    "        frame = numpy.rot90(frame)\n",
    "        # Flip it (vertically?!), because for some reason it otherwise appears horizontally (!) flipped.\n",
    "        frame = numpy.flipud(frame)\n",
    "        # The video uses BGR colors and PyGame needs RGB\n",
    "\n",
    "        frame = cv2.cvtColor(frame, cv2.COLOR_BGR2RGB)\n",
    "        # Create a PyGame surface\n",
    "        surf = pygame.surfarray.make_surface(frame)\n",
    "    except:\n",
    "        #end of movie\n",
    "        break\n",
    "\n",
    "    # Show the PyGame surface!\n",
    "    exp.surface.blit(surf, (0, 0))\n",
    "    pygame.display.flip()"
   ]
  },
  {
   "cell_type": "markdown",
   "metadata": {},
   "source": [
    "Were all steps implemented correctly?\n",
    "\n",
    "You should now be able to play your first game created in OpenSesame. Run it and see whether it works!"
   ]
  },
  {
   "cell_type": "markdown",
   "metadata": {},
   "source": [
    "## Exercises\n",
    "\n",
    "### 1. Present the video at the center of the screen\n",
    "\n",
    "Let's move the video to the center of the screen. The upper-left corner is determined by the (x,y) coordinates we provide to `exp.surface.blit`\n",
    "\n",
    "In order to determine the correct coordinates we need to know the width and height of the screen resolution currently used in the experiment. For this we can use Open Sesame's [built-in variables](https://osdoc.cogsci.nl/3.3/manual/variables/#built-in-variables) `var.width` and `var.height`.\n",
    "\n",
    "To determine the width and height of the video file presented (units are pixels) we need some functionality provided by the cv2 package. Nobody knows this by heart, so let's google it. When I searched \"cv2 height of video\", I found some useful information [here](https://stackoverflow.com/questions/39953263/get-video-dimension-in-python-opencv).\n",
    "\n",
    "So let's save the width and heigth of the video in a separate variable after you called the cv2.VideoCapture command.\n",
    "\n",
    "QUIZ: location"
   ]
  },
  {
   "cell_type": "code",
   "execution_count": null,
   "metadata": {},
   "outputs": [],
   "source": [
    "videowidth = video.get(cv2.CAP_PROP_FRAME_WIDTH )\n",
    "videoheight = video.get(cv2.CAP_PROP_FRAME_HEIGHT"
   ]
  },
  {
   "cell_type": "markdown",
   "metadata": {},
   "source": [
    "\n",
    "Now, combine the dimensions of the screen and the video to determine the upper-left corner position and feed this as coordinates into exp.surfdrive.blit.\n"
   ]
  },
  {
   "cell_type": "code",
   "execution_count": null,
   "metadata": {},
   "outputs": [],
   "source": [
    "exp.surface.blit(surf, ((var.width - videowidth) / 2, (var.height - videoheight) / 2))"
   ]
  },
  {
   "cell_type": "markdown",
   "metadata": {},
   "source": [
    "\n",
    "### 2. Change the speed of the video\n",
    "\n",
    "As you may have noticed, the speed of the video is currently determined by the speed of your cpu. If you have a very quick cpu the video is presented quicker than if you have a very slow cpu.\n",
    "\n",
    "Let's change that. Actually, the wmv contains information about the supposed number of frames that have to be presented in a second (fps = frames per second). Let's save the `fps` information:"
   ]
  },
  {
   "cell_type": "code",
   "execution_count": null,
   "metadata": {},
   "outputs": [],
   "source": [
    "fps =  video.get(cv2.CAP_PROP_FPS)"
   ]
  },
  {
   "cell_type": "markdown",
   "metadata": {},
   "source": [
    "\n",
    "Use the print method to determine the fps for our video's. Look in the console for the value.\n",
    "\n",
    "QUIZ: what is the fps? answer: 30\n",
    "\n",
    "Now, we can simply delay the time between each look with `1000 / fps` ms within each loop to present the video at a slower rate. Add the following code in the loop that presents the frames:\n"
   ]
  },
  {
   "cell_type": "code",
   "execution_count": null,
   "metadata": {},
   "outputs": [],
   "source": [
    "clock.sleep(1000/fps)"
   ]
  },
  {
   "cell_type": "markdown",
   "metadata": {},
   "source": [
    "\n",
    "Try whether this works!\n",
    "\n",
    "QUIZ: what is the problem now? Assume very slow or quick computer. Code itself takes time\n",
    "\n",
    "Because the code that presents the picture also needs some time, we actually need a smarter piece of code that only waits if there is time remaining after all the other works has been done. So we need a function like the clock.tick() described [here](https://stackoverflow.com/questions/34383559/pygame-clock-tick-vs-framerate-in-game-main-loop).\n",
    "\n",
    "The function below mimics the functionality of the clock.tick method:\n"
   ]
  },
  {
   "cell_type": "markdown",
   "metadata": {},
   "source": [
    "``` python\n",
    "def myclocktick(foo):\n",
    "  #inspired by clock.tick\n",
    "  #see https://stackoverflow.com/questions/34383559/pygame-clock-tick-vs-framerate-in-game-main-loop\n",
    "  if var.has(u'prevt'):\n",
    "        diff = ((1000/foo) - (clock.time() - var.prevt) ) - 10\n",
    "        if diff>0:\n",
    "            clock.sleep(diff)\n",
    "\n",
    "  var.prevt = clock.time()"
   ]
  },
  {
   "cell_type": "markdown",
   "metadata": {},
   "source": [
    "\n",
    "Paste this code in the `Prepare` tab of the `play_movie` inline script. Then, in the `Run` tab replace the clock.sleep code with the following line:\n",
    "\n"
   ]
  },
  {
   "cell_type": "code",
   "execution_count": null,
   "metadata": {},
   "outputs": [],
   "source": [
    " myclocktick(fps)"
   ]
  },
  {
   "cell_type": "markdown",
   "metadata": {},
   "source": [
    "\n",
    "Try whether you notice any differences. On slower computers the movie may play more smoothly now.\n",
    "\n",
    "### 3. Manipulate the level of social exclusion\n",
    "\n",
    "Add a `block_loop` around the trials_loop that runs two blocks. In one block (the exclusion block), player1 and player 3prefer to play with the other player in 8 out of 10 times. In the other block they have equal preference to play with you (player 2) or the other player.\n",
    "\n",
    "Hint: you need to set the weight of the rows in player1_loop and player2_loop (see the [advanced loop](https://osdoc.cogsci.nl/3.3/manual/structure/loop/#advanced-loop-operations) documentation). Make sure you shuffle after the weight command, otherwise the repeats are presented after each other (behavior that is different in E-Prime)!\n",
    "\n",
    "The figure below illustrates how you can set the weight of the `player1_loop` (do the same for `player3_loop`!) by referring to a variable that is defined one level higher in the hierarchy, i.e. in the `block_loop`. Do not press the Preview button though (it will crash because we do not refer to fixed values for the weighting).\n",
    "\n",
    "\\\n",
    "![](images/Cyberball_nestedloops.png)\n",
    "\n",
    "Test whether this works. Do you feel more excluded in the first block then in the second block?\n",
    "\n",
    "Add a third block that includes you 8 out of 10 times. Does the inclusion make you feel better?\n"
   ]
  },
  {
   "cell_type": "code",
   "execution_count": null,
   "metadata": {},
   "outputs": [],
   "source": []
  }
 ],
 "metadata": {
  "kernelspec": {
   "display_name": "Python 3 (ipykernel)",
   "language": "python",
   "name": "python3"
  },
  "language_info": {
   "codemirror_mode": {
    "name": "ipython",
    "version": 3
   },
   "file_extension": ".py",
   "mimetype": "text/x-python",
   "name": "python",
   "nbconvert_exporter": "python",
   "pygments_lexer": "ipython3",
   "version": "3.9.12"
  }
 },
 "nbformat": 4,
 "nbformat_minor": 1
}
