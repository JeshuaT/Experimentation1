{
 "cells": [
  {
   "cell_type": "markdown",
   "metadata": {},
   "source": [
    "# Python exercises: Loops"
   ]
  },
  {
   "cell_type": "markdown",
   "metadata": {},
   "source": [
    ">**Note** Some of the exercises below are adapted from the [Python for Everyone Course](https://www.py4e.com/html3/05-iterations) by Charles R. Severance licensed under Creative Commons Attribution 3.0\n",
    "\n",
    "### Exercise 1. Print total, count, and average\n",
    "\n",
    "Write a program which repeatedly reads numbers until the user enters “done”. Once “done” is entered, print out the total, count, and average of the numbers. If the user enters anything other than a number, detect their mistake using try and except and print an error message and skip to the next number.\n",
    "\n",
    "```\n",
    "Enter a number: 4\n",
    "Enter a number: 5\n",
    "Enter a number: bad data\n",
    "Invalid input\n",
    "Enter a number: 7\n",
    "Enter a number: done\n",
    "16 3 5.333333333333333\n",
    "```\n",
    "### Exercise 2. Print maximum and minimum\n",
    "Write another program that prompts for a list of numbers as above and at the end prints out both the maximum and minimum of the numbers instead of the average.\n",
    "\n",
    "### Exercise 3. Print moving text\n",
    "Write a program that prints Hello world repeatedly (40 times) to the screen preceded by a string called fill that adds a space to itself each time the loop is repeated. You should see the text Hello world moving to the right of the screen. Refresh the loop each ~100 ms (0.1 seconds).\n",
    "\n",
    "Note that you need the `range` function for this exercise that creates a list of numbers. You will learn more about `list` objects during a later session in this course."
   ]
  },
  {
   "cell_type": "code",
   "execution_count": 19,
   "metadata": {},
   "outputs": [
    {
     "name": "stdout",
     "output_type": "stream",
     "text": [
      "                                                                                                                                                 Hello world\r"
     ]
    }
   ],
   "source": [
    "\n",
    "fill = \"\"\n",
    "import time\n",
    "for i in range(1,41):\n",
    "    fill = fill + \" \"\n",
    "    print(fill + 'Hello world',end=\"\\r\", flush=True)\n",
    "    time.sleep(0.1)"
   ]
  },
  {
   "cell_type": "markdown",
   "metadata": {},
   "source": []
  }
 ],
 "metadata": {
  "kernelspec": {
   "display_name": "Python 3 (ipykernel)",
   "language": "python",
   "name": "python3"
  },
  "language_info": {
   "codemirror_mode": {
    "name": "ipython",
    "version": 3
   },
   "file_extension": ".py",
   "mimetype": "text/x-python",
   "name": "python",
   "nbconvert_exporter": "python",
   "pygments_lexer": "ipython3",
   "version": "3.9.12"
  }
 },
 "nbformat": 4,
 "nbformat_minor": 1
}
