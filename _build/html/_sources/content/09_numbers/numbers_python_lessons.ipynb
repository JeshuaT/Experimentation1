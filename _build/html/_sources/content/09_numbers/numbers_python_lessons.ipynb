{
 "cells": [
  {
   "cell_type": "markdown",
   "source": [
    "# Python lessons: Numbers and arrays"
   ],
   "metadata": {
    "collapsed": false
   },
   "outputs": []
  },
  {
   "cell_type": "code",
   "execution_count": 1,
   "outputs": [],
   "source": [
    "from IPython.display import IFrame"
   ],
   "metadata": {
    "collapsed": false
   }
  },
  {
   "cell_type": "markdown",
   "source": [
    "The lessons can be found [here](https://pythontutorials.eu/numerical/numpy/)"
   ],
   "metadata": {
    "collapsed": false
   }
  },
  {
   "cell_type": "code",
   "execution_count": 2,
   "outputs": [
    {
     "data": {
      "text/plain": "<IPython.lib.display.IFrame at 0x26557ea40a0>",
      "text/html": "\n        <iframe\n            width=\"800\"\n            height=\"600\"\n            src=\"https://pythontutorials.eu/numerical/numpy/\"\n            frameborder=\"0\"\n            allowfullscreen\n            \n        ></iframe>\n        "
     },
     "execution_count": 2,
     "metadata": {},
     "output_type": "execute_result"
    }
   ],
   "source": [
    "\n",
    "IFrame(src=\"https://pythontutorials.eu/numerical/numpy/\", width=\"800\", height=\"600\")"
   ],
   "metadata": {
    "collapsed": false
   }
  },
  {
   "cell_type": "markdown",
   "source": [
    "\n",
    "## Further reading\n",
    "\n",
    "Check out this page to learn about all four built-in iterable types in python: list, dict, tuple, and set:\n",
    "https://pythontutorials.eu/basic/iterables/\n"
   ],
   "metadata": {
    "collapsed": false
   }
  }
 ],
 "metadata": {
  "kernelspec": {
   "display_name": "Python 3",
   "language": "python",
   "name": "python3"
  },
  "language_info": {
   "codemirror_mode": {
    "name": "ipython",
    "version": 2
   },
   "file_extension": ".py",
   "mimetype": "text/x-python",
   "name": "python",
   "nbconvert_exporter": "python",
   "pygments_lexer": "ipython2",
   "version": "2.7.6"
  }
 },
 "nbformat": 4,
 "nbformat_minor": 0
}
