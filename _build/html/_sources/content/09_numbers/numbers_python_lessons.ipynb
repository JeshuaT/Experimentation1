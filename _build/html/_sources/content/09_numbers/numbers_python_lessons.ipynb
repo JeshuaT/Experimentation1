{
 "cells": [
  {
   "cell_type": "markdown",
   "source": [
    "# Python lessons: Numbers and arrays\n",
    "\n",
    "https://pythontutorials.eu/numerical/numpy/\n",
    "\n",
    "## Further reading\n",
    "\n",
    "Check out this page to learn about all four built-in iterable types in python: list, dict, tuple, and set:\n",
    "https://pythontutorials.eu/basic/iterables/\n"
   ],
   "metadata": {
    "collapsed": false
   }
  }
 ],
 "metadata": {
  "kernelspec": {
   "display_name": "Python 3",
   "language": "python",
   "name": "python3"
  },
  "language_info": {
   "codemirror_mode": {
    "name": "ipython",
    "version": 2
   },
   "file_extension": ".py",
   "mimetype": "text/x-python",
   "name": "python",
   "nbconvert_exporter": "python",
   "pygments_lexer": "ipython2",
   "version": "2.7.6"
  }
 },
 "nbformat": 4,
 "nbformat_minor": 0
}
