{
 "cells": [
  {
   "cell_type": "markdown",
   "source": [
    "# Python exercises: Plotting"
   ],
   "metadata": {
    "collapsed": false
   }
  },
  {
   "cell_type": "markdown",
   "source": [
    "During the exercises in the dataframes module you learned how to import a dataset, and how to look at the dataframe from multiple angles. In the python lessons for this module you learned that you can use matplotlib in three different ways. From \"quick-and-rigid\" to \"slow-but-flexible\", these are:\n",
    "(1) Seaborn plotting\n",
    "(2) Pyplot procedural plotting\n",
    "(3) Object-oriented plotting\n",
    "\n",
    "## Exercise 1: Seaborn plotting\n",
    "Load in the same dataframe as you used in dataframe_exercises:\n",
    "https://raw.githubusercontent.com/JeshuaT/Experimentation1/main/content/10_dataframes/data/subject-3.csv\n",
    "\n",
    "Now, using seaborn, make a bar plot of the response time of each value in 'congruency'. Give the plot a title. Which value has the highest response times?"
   ],
   "metadata": {
    "collapsed": false
   },
   "outputs": []
  },
  {
   "cell_type": "code",
   "execution_count": null,
   "outputs": [],
   "source": [
    "import pandas as pd\n",
    "import seaborn as sns\n",
    "import matplotlib.pyplot as plt\n",
    "\n",
    "df = pd.read_csv('https://raw.githubusercontent.com/JeshuaT/Experimentation1/main/content/10_dataframes/data/data_exercises/subject-1_IC.csv')\n",
    "\n",
    "# your code here"
   ],
   "metadata": {
    "collapsed": false,
    "pycharm": {
     "is_executing": true
    }
   }
  },
  {
   "cell_type": "markdown",
   "source": [
    "\n",
    "## Exercise 2: Matplotlib Procedural Plotting\n",
    "Now, make the same plot using the matplotlib procedural plotting approach (don't forget to include the title as well)."
   ],
   "metadata": {
    "collapsed": false
   }
  },
  {
   "cell_type": "code",
   "execution_count": null,
   "outputs": [],
   "source": [
    "# your answer here"
   ],
   "metadata": {
    "collapsed": false
   }
  },
  {
   "cell_type": "markdown",
   "source": [
    "## Exercise 3: Matplotlib Object-Oriented Plotting\n",
    "Yes, you guessed it: now plot the same plot using the object-oriented approach (again, title!)."
   ],
   "metadata": {
    "collapsed": false
   }
  },
  {
   "cell_type": "code",
   "execution_count": null,
   "outputs": [],
   "source": [
    "# your answer here"
   ],
   "metadata": {
    "collapsed": false
   }
  }
 ],
 "metadata": {
  "kernelspec": {
   "display_name": "Python 3",
   "language": "python",
   "name": "python3"
  },
  "language_info": {
   "codemirror_mode": {
    "name": "ipython",
    "version": 2
   },
   "file_extension": ".py",
   "mimetype": "text/x-python",
   "name": "python",
   "nbconvert_exporter": "python",
   "pygments_lexer": "ipython2",
   "version": "2.7.6"
  }
 },
 "nbformat": 4,
 "nbformat_minor": 0
}
