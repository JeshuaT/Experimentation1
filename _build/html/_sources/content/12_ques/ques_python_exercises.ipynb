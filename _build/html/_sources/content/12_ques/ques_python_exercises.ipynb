{
 "cells": [
  {
   "cell_type": "markdown",
   "metadata": {},
   "source": [
    "# Python exercises: Canvas\n",
    "\n",
    "### Exercise 1. Reproduce the pokeball\n",
    "Reproduce the pokeball as explained during the video in today's lessons."
   ],
   "outputs": []
  },
  {
   "cell_type": "code",
   "execution_count": 68,
   "outputs": [],
   "source": [
    "from tkinter import *\n",
    "\n",
    "window = Tk()\n",
    "\n",
    "canvas = Canvas(window,height=500,width=500)\n",
    "#canvas.create_line(0,0,500,500,fill=\"blue\",width=5)\n",
    "#canvas.create_line(0,500,500,0,fill=\"red\",width=5)\n",
    "#canvas.create_rectangle(50,50,250,250,fill=\"purple\")\n",
    "#points = [250,0,500,500,0,500]\n",
    "#canvas.create_polygon(points,fill=\"yellow\",outline=\"black\",width=5)\n",
    "#canvas.create_arc(0,0,500,500,style=PIESLICE,start=270,width=5)\n",
    "canvas.create_arc(0,0,500,500,fill=\"red\",extent=180,width=10)\n",
    "canvas.create_arc(0,0,500,500,fill=\"white\",extent=180,start=180,width=10)\n",
    "canvas.create_oval(190,190,310,310,fill=\"white\",width=10)\n",
    "canvas.pack()\n",
    "\n",
    "window.mainloop()"
   ],
   "metadata": {
    "collapsed": false
   }
  },
  {
   "cell_type": "markdown",
   "source": [
    "### Exercise 2. Create a animated countdown timer\n",
    "Adapt he pokeball in such a way that you create an animated countdown timer that counts from 30 to 0 seconds and shows a red arc that become smaller with time.\n",
    "![](images/countdowntimer.png)\n",
    "\n",
    "### Exercise 3. Advanced countdown timer\n",
    "Ask the user how many seconds they want to wait and run the timer with this value. Check whether the value is not higher than fits in the display (59m:59s).\n"
   ],
   "metadata": {
    "collapsed": false
   }
  },
  {
   "cell_type": "code",
   "execution_count": 69,
   "metadata": {},
   "outputs": [
    {
     "ename": "TclError",
     "evalue": "invalid command name \".!canvas\"",
     "output_type": "error",
     "traceback": [
      "\u001B[1;31m---------------------------------------------------------------------------\u001B[0m",
      "\u001B[1;31mTclError\u001B[0m                                  Traceback (most recent call last)",
      "Input \u001B[1;32mIn [69]\u001B[0m, in \u001B[0;36m<cell line: 14>\u001B[1;34m()\u001B[0m\n\u001B[0;32m     12\u001B[0m window\u001B[38;5;241m.\u001B[39mupdate()\n\u001B[0;32m     14\u001B[0m \u001B[38;5;28;01mfor\u001B[39;00m i \u001B[38;5;129;01min\u001B[39;00m \u001B[38;5;28mrange\u001B[39m(\u001B[38;5;241m30\u001B[39m\u001B[38;5;241m+\u001B[39m\u001B[38;5;241m1\u001B[39m):\n\u001B[0;32m     15\u001B[0m     \u001B[38;5;66;03m#canvas = Canvas(window,height=500,width=500)\u001B[39;00m\n\u001B[1;32m---> 16\u001B[0m     \u001B[43mcanvas\u001B[49m\u001B[38;5;241;43m.\u001B[39;49m\u001B[43mcreate_arc\u001B[49m\u001B[43m(\u001B[49m\u001B[38;5;241;43m0\u001B[39;49m\u001B[43m,\u001B[49m\u001B[38;5;241;43m0\u001B[39;49m\u001B[43m,\u001B[49m\u001B[38;5;241;43m500\u001B[39;49m\u001B[43m,\u001B[49m\u001B[38;5;241;43m500\u001B[39;49m\u001B[43m,\u001B[49m\u001B[43mfill\u001B[49m\u001B[38;5;241;43m=\u001B[39;49m\u001B[38;5;124;43m\"\u001B[39;49m\u001B[38;5;124;43mgray\u001B[39;49m\u001B[38;5;124;43m\"\u001B[39;49m\u001B[43m,\u001B[49m\u001B[43mstart\u001B[49m\u001B[38;5;241;43m=\u001B[39;49m\u001B[38;5;241;43m90\u001B[39;49m\u001B[43m,\u001B[49m\u001B[43mextent\u001B[49m\u001B[38;5;241;43m=\u001B[39;49m\u001B[43mi\u001B[49m\u001B[38;5;241;43m*\u001B[39;49m\u001B[38;5;241;43m360\u001B[39;49m\u001B[38;5;241;43m/\u001B[39;49m\u001B[38;5;241;43m30\u001B[39;49m\u001B[43m,\u001B[49m\u001B[43mwidth\u001B[49m\u001B[38;5;241;43m=\u001B[39;49m\u001B[38;5;241;43m1\u001B[39;49m\u001B[43m)\u001B[49m\n\u001B[0;32m     17\u001B[0m     canvas\u001B[38;5;241m.\u001B[39mcreate_oval(\u001B[38;5;241m50\u001B[39m,\u001B[38;5;241m50\u001B[39m,\u001B[38;5;241m450\u001B[39m,\u001B[38;5;241m450\u001B[39m,fill\u001B[38;5;241m=\u001B[39m\u001B[38;5;124m\"\u001B[39m\u001B[38;5;124mwhite\u001B[39m\u001B[38;5;124m\"\u001B[39m,width\u001B[38;5;241m=\u001B[39m\u001B[38;5;241m1\u001B[39m)\n\u001B[0;32m     18\u001B[0m     canvas\u001B[38;5;241m.\u001B[39mcreate_text(\u001B[38;5;241m250\u001B[39m, \u001B[38;5;241m250\u001B[39m, text\u001B[38;5;241m=\u001B[39m\u001B[38;5;124m\"\u001B[39m\u001B[38;5;124m00:\u001B[39m\u001B[38;5;124m\"\u001B[39m\u001B[38;5;241m+\u001B[39m\u001B[38;5;28mstr\u001B[39m(\u001B[38;5;241m30\u001B[39m\u001B[38;5;241m-\u001B[39mi)\u001B[38;5;241m.\u001B[39mzfill(\u001B[38;5;241m2\u001B[39m), fill\u001B[38;5;241m=\u001B[39m\u001B[38;5;124m\"\u001B[39m\u001B[38;5;124mblack\u001B[39m\u001B[38;5;124m\"\u001B[39m, font\u001B[38;5;241m=\u001B[39m(\u001B[38;5;124m'\u001B[39m\u001B[38;5;124mHelvetica 80 bold\u001B[39m\u001B[38;5;124m'\u001B[39m))\n",
      "File \u001B[1;32m~\\Anaconda3\\lib\\tkinter\\__init__.py:2782\u001B[0m, in \u001B[0;36mCanvas.create_arc\u001B[1;34m(self, *args, **kw)\u001B[0m\n\u001B[0;32m   2780\u001B[0m \u001B[38;5;28;01mdef\u001B[39;00m \u001B[38;5;21mcreate_arc\u001B[39m(\u001B[38;5;28mself\u001B[39m, \u001B[38;5;241m*\u001B[39margs, \u001B[38;5;241m*\u001B[39m\u001B[38;5;241m*\u001B[39mkw):\n\u001B[0;32m   2781\u001B[0m     \u001B[38;5;124;03m\"\"\"Create arc shaped region with coordinates x1,y1,x2,y2.\"\"\"\u001B[39;00m\n\u001B[1;32m-> 2782\u001B[0m     \u001B[38;5;28;01mreturn\u001B[39;00m \u001B[38;5;28;43mself\u001B[39;49m\u001B[38;5;241;43m.\u001B[39;49m\u001B[43m_create\u001B[49m\u001B[43m(\u001B[49m\u001B[38;5;124;43m'\u001B[39;49m\u001B[38;5;124;43marc\u001B[39;49m\u001B[38;5;124;43m'\u001B[39;49m\u001B[43m,\u001B[49m\u001B[43m \u001B[49m\u001B[43margs\u001B[49m\u001B[43m,\u001B[49m\u001B[43m \u001B[49m\u001B[43mkw\u001B[49m\u001B[43m)\u001B[49m\n",
      "File \u001B[1;32m~\\Anaconda3\\lib\\tkinter\\__init__.py:2776\u001B[0m, in \u001B[0;36mCanvas._create\u001B[1;34m(self, itemType, args, kw)\u001B[0m\n\u001B[0;32m   2774\u001B[0m \u001B[38;5;28;01melse\u001B[39;00m:\n\u001B[0;32m   2775\u001B[0m     cnf \u001B[38;5;241m=\u001B[39m {}\n\u001B[1;32m-> 2776\u001B[0m \u001B[38;5;28;01mreturn\u001B[39;00m \u001B[38;5;28mself\u001B[39m\u001B[38;5;241m.\u001B[39mtk\u001B[38;5;241m.\u001B[39mgetint(\u001B[38;5;28;43mself\u001B[39;49m\u001B[38;5;241;43m.\u001B[39;49m\u001B[43mtk\u001B[49m\u001B[38;5;241;43m.\u001B[39;49m\u001B[43mcall\u001B[49m\u001B[43m(\u001B[49m\n\u001B[0;32m   2777\u001B[0m \u001B[43m    \u001B[49m\u001B[38;5;28;43mself\u001B[39;49m\u001B[38;5;241;43m.\u001B[39;49m\u001B[43m_w\u001B[49m\u001B[43m,\u001B[49m\u001B[43m \u001B[49m\u001B[38;5;124;43m'\u001B[39;49m\u001B[38;5;124;43mcreate\u001B[39;49m\u001B[38;5;124;43m'\u001B[39;49m\u001B[43m,\u001B[49m\u001B[43m \u001B[49m\u001B[43mitemType\u001B[49m\u001B[43m,\u001B[49m\n\u001B[0;32m   2778\u001B[0m \u001B[43m    \u001B[49m\u001B[38;5;241;43m*\u001B[39;49m\u001B[43m(\u001B[49m\u001B[43margs\u001B[49m\u001B[43m \u001B[49m\u001B[38;5;241;43m+\u001B[39;49m\u001B[43m \u001B[49m\u001B[38;5;28;43mself\u001B[39;49m\u001B[38;5;241;43m.\u001B[39;49m\u001B[43m_options\u001B[49m\u001B[43m(\u001B[49m\u001B[43mcnf\u001B[49m\u001B[43m,\u001B[49m\u001B[43m \u001B[49m\u001B[43mkw\u001B[49m\u001B[43m)\u001B[49m\u001B[43m)\u001B[49m\u001B[43m)\u001B[49m)\n",
      "\u001B[1;31mTclError\u001B[0m: invalid command name \".!canvas\""
     ]
    }
   ],
   "source": [
    "from tkinter import *\n",
    "import time\n",
    "\n",
    "window = Tk()\n",
    "canvas = Canvas(window,height=500,width=500)\n",
    "\n",
    "#canvas.create_arc(0,0,500,500,fill=\"white\",extent=360,start=90,width=10)\n",
    "canvas.create_oval(0,0,500,500,fill=\"red\",width=1)\n",
    "#canvas.create_arc(0,0,500,500,fill=\"white\",extent=360,width=10)\n",
    "canvas.create_oval(50,50,450,450,fill=\"white\",width=1)\n",
    "canvas.pack()\n",
    "window.update()\n",
    "\n",
    "for i in range(30+1):\n",
    "    #canvas = Canvas(window,height=500,width=500)\n",
    "    canvas.create_arc(0,0,500,500,fill=\"gray\",start=90,extent=i*360/30,width=1)\n",
    "    canvas.create_oval(50,50,450,450,fill=\"white\",width=1)\n",
    "    canvas.create_text(250, 250, text=\"00:\"+str(30-i).zfill(2), fill=\"black\", font=('Helvetica 80 bold'))\n",
    "    \n",
    "    canvas.pack()\n",
    "    #canvas.create_arc(0,0,500,500,fill=\"red\",start=360/30*i,width=10)\n",
    "    #canvas.create_arc(0,0,500,500,fill=\"red\",extent=360,width=10)\n",
    "    #canvas.pack()\n",
    "    window.update()\n",
    "    time.sleep(1)\n",
    "    \n",
    "window.mainloop()\n",
    "\n"
   ]
  }
 ],
 "metadata": {
  "kernelspec": {
   "display_name": "Python 3 (ipykernel)",
   "language": "python",
   "name": "python3"
  },
  "language_info": {
   "codemirror_mode": {
    "name": "ipython",
    "version": 3
   },
   "file_extension": ".py",
   "mimetype": "text/x-python",
   "name": "python",
   "nbconvert_exporter": "python",
   "pygments_lexer": "ipython3",
   "version": "3.9.12"
  }
 },
 "nbformat": 4,
 "nbformat_minor": 1
}
