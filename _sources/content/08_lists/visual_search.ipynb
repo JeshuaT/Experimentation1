{
 "cells": [
  {
   "cell_type": "markdown",
   "source": [
    "# Visual Search paradigm in OpenSesame"
   ],
   "metadata": {
    "collapsed": false
   }
  },
  {
   "cell_type": "code",
   "execution_count": 1,
   "outputs": [],
   "source": [
    "from IPython.display import IFrame"
   ],
   "metadata": {
    "collapsed": false
   }
  },
  {
   "cell_type": "markdown",
   "source": [
    "The tutorial can be found [here](https://osdoc.cogsci.nl/3.3/tutorials/intermediate/)"
   ],
   "metadata": {
    "collapsed": false
   }
  },
  {
   "cell_type": "code",
   "execution_count": 2,
   "outputs": [
    {
     "data": {
      "text/plain": "<IPython.lib.display.IFrame at 0x23851573520>",
      "text/html": "\n        <iframe\n            width=\"800\"\n            height=\"600\"\n            src=\"https://osdoc.cogsci.nl/3.3/tutorials/intermediate/\"\n            frameborder=\"0\"\n            allowfullscreen\n            \n        ></iframe>\n        "
     },
     "execution_count": 2,
     "metadata": {},
     "output_type": "execute_result"
    }
   ],
   "source": [
    "IFrame(src=\"https://osdoc.cogsci.nl/3.3/tutorials/intermediate/\", width=\"800\", height=\"600\")"
   ],
   "metadata": {
    "collapsed": false
   }
  }
 ],
 "metadata": {
  "kernelspec": {
   "display_name": "Python 3",
   "language": "python",
   "name": "python3"
  },
  "language_info": {
   "codemirror_mode": {
    "name": "ipython",
    "version": 2
   },
   "file_extension": ".py",
   "mimetype": "text/x-python",
   "name": "python",
   "nbconvert_exporter": "python",
   "pygments_lexer": "ipython2",
   "version": "2.7.6"
  }
 },
 "nbformat": 4,
 "nbformat_minor": 0
}
